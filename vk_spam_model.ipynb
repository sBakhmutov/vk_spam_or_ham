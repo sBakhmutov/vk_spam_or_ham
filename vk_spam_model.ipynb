{
 "cells": [
  {
   "cell_type": "code",
   "execution_count": 1,
   "id": "576ae49e",
   "metadata": {},
   "outputs": [
    {
     "name": "stderr",
     "output_type": "stream",
     "text": [
      "C:\\Users\\Stepan\\kaggle\\digit_recognizer\\venv\\Lib\\site-packages\\tqdm\\auto.py:21: TqdmWarning: IProgress not found. Please update jupyter and ipywidgets. See https://ipywidgets.readthedocs.io/en/stable/user_install.html\n",
      "  from .autonotebook import tqdm as notebook_tqdm\n"
     ]
    }
   ],
   "source": [
    "import re\n",
    "import string\n",
    "import numpy as np\n",
    "import pandas as pd\n",
    "import seaborn as sns\n",
    "import matplotlib.pyplot as plt\n",
    "\n",
    "from nltk.corpus import stopwords\n",
    "from nltk.tokenize import word_tokenize\n",
    "\n",
    "from catboost import CatBoostClassifier, Pool\n",
    "from catboost.text_processing import Tokenizer\n",
    "\n",
    "from collections import defaultdict\n",
    "\n",
    "import torch\n",
    "import torch.nn as nn\n",
    "import torch.optim as optim\n",
    "from torch.utils.data import Dataset, DataLoader\n",
    "\n",
    "import transformers as ppb\n",
    "from transformers import BertModel, BertTokenizer, AdamW, get_linear_schedule_with_warmup\n",
    "\n",
    "from sklearn.linear_model import LogisticRegression\n",
    "from sklearn.feature_extraction.text import TfidfVectorizer\n",
    "from sklearn.model_selection import train_test_split, GridSearchCV, cross_val_score\n",
    "from sklearn.metrics import roc_auc_score, log_loss, classification_report\n",
    "from sklearn.ensemble import RandomForestClassifier\n",
    "\n",
    "import warnings\n",
    "warnings.filterwarnings('ignore')"
   ]
  },
  {
   "cell_type": "code",
   "execution_count": 2,
   "id": "cfb8ceb9",
   "metadata": {},
   "outputs": [
    {
     "data": {
      "text/plain": [
       "(16278, 2)"
      ]
     },
     "execution_count": 2,
     "metadata": {},
     "output_type": "execute_result"
    }
   ],
   "source": [
    "train_file_path = r\"C:\\Users\\Stepan\\Desktop\\vk_test\\train_spam.csv\"\n",
    "test_file_path = r\"C:\\Users\\Stepan\\Desktop\\vk_test\\test_spam.csv\"\n",
    "\n",
    "train_df = pd.read_csv(train_file_path)\n",
    "test_df = pd.read_csv(test_file_path)\n",
    "train_df.shape"
   ]
  },
  {
   "cell_type": "code",
   "execution_count": 3,
   "id": "ddb1d723",
   "metadata": {},
   "outputs": [
    {
     "data": {
      "text/html": [
       "<div>\n",
       "<style scoped>\n",
       "    .dataframe tbody tr th:only-of-type {\n",
       "        vertical-align: middle;\n",
       "    }\n",
       "\n",
       "    .dataframe tbody tr th {\n",
       "        vertical-align: top;\n",
       "    }\n",
       "\n",
       "    .dataframe thead th {\n",
       "        text-align: right;\n",
       "    }\n",
       "</style>\n",
       "<table border=\"1\" class=\"dataframe\">\n",
       "  <thead>\n",
       "    <tr style=\"text-align: right;\">\n",
       "      <th></th>\n",
       "      <th>text</th>\n",
       "    </tr>\n",
       "  </thead>\n",
       "  <tbody>\n",
       "    <tr>\n",
       "      <th>0</th>\n",
       "      <td>j jim whitehead ejw cse ucsc edu writes j you ...</td>\n",
       "    </tr>\n",
       "    <tr>\n",
       "      <th>1</th>\n",
       "      <td>original message from bitbitch magnesium net p...</td>\n",
       "    </tr>\n",
       "    <tr>\n",
       "      <th>2</th>\n",
       "      <td>java for managers vince durasoft who just taug...</td>\n",
       "    </tr>\n",
       "    <tr>\n",
       "      <th>3</th>\n",
       "      <td>there is a youtuber name saiman says</td>\n",
       "    </tr>\n",
       "    <tr>\n",
       "      <th>4</th>\n",
       "      <td>underpriced issue with high return on equity t...</td>\n",
       "    </tr>\n",
       "    <tr>\n",
       "      <th>...</th>\n",
       "      <td>...</td>\n",
       "    </tr>\n",
       "    <tr>\n",
       "      <th>4065</th>\n",
       "      <td>husband to wifetum meri zindagi hoorwifeor kya...</td>\n",
       "    </tr>\n",
       "    <tr>\n",
       "      <th>4066</th>\n",
       "      <td>baylor enron case study cindy yes i shall co a...</td>\n",
       "    </tr>\n",
       "    <tr>\n",
       "      <th>4067</th>\n",
       "      <td>boring as compared to tp</td>\n",
       "    </tr>\n",
       "    <tr>\n",
       "      <th>4068</th>\n",
       "      <td>hellogorgeous hows u my fone was on charge lst...</td>\n",
       "    </tr>\n",
       "    <tr>\n",
       "      <th>4069</th>\n",
       "      <td>energy conference mark we are really swamped a...</td>\n",
       "    </tr>\n",
       "  </tbody>\n",
       "</table>\n",
       "<p>4070 rows × 1 columns</p>\n",
       "</div>"
      ],
      "text/plain": [
       "                                                   text\n",
       "0     j jim whitehead ejw cse ucsc edu writes j you ...\n",
       "1     original message from bitbitch magnesium net p...\n",
       "2     java for managers vince durasoft who just taug...\n",
       "3                  there is a youtuber name saiman says\n",
       "4     underpriced issue with high return on equity t...\n",
       "...                                                 ...\n",
       "4065  husband to wifetum meri zindagi hoorwifeor kya...\n",
       "4066  baylor enron case study cindy yes i shall co a...\n",
       "4067                           boring as compared to tp\n",
       "4068  hellogorgeous hows u my fone was on charge lst...\n",
       "4069  energy conference mark we are really swamped a...\n",
       "\n",
       "[4070 rows x 1 columns]"
      ]
     },
     "execution_count": 3,
     "metadata": {},
     "output_type": "execute_result"
    }
   ],
   "source": [
    "a = pd.read_csv(test_file_path)\n",
    "a"
   ]
  },
  {
   "cell_type": "code",
   "execution_count": 4,
   "id": "8baf4cc3",
   "metadata": {},
   "outputs": [
    {
     "data": {
      "text/plain": [
       "'a resume for john lavorato thanks vince i will get moving on it right away molly vince j kaminski 02 21 2001 05 55 pm to molly magee hou ect ect cc vince j kaminski hou ect ect subject a resume for john lavorato molly please make arrangements for the interview with this candidate for a trading position interviews with john lavorato jeff shankman gary hickerson stinson gibner i talked to him in new york and he is considering other opportunities so we have to act fast i think john will like him more than punit thanks'"
      ]
     },
     "execution_count": 4,
     "metadata": {},
     "output_type": "execute_result"
    }
   ],
   "source": [
    "train_df['text'][1]"
   ]
  },
  {
   "cell_type": "code",
   "execution_count": 5,
   "id": "2cf4206c",
   "metadata": {},
   "outputs": [
    {
     "data": {
      "text/html": [
       "<div>\n",
       "<style scoped>\n",
       "    .dataframe tbody tr th:only-of-type {\n",
       "        vertical-align: middle;\n",
       "    }\n",
       "\n",
       "    .dataframe tbody tr th {\n",
       "        vertical-align: top;\n",
       "    }\n",
       "\n",
       "    .dataframe thead tr th {\n",
       "        text-align: left;\n",
       "    }\n",
       "\n",
       "    .dataframe thead tr:last-of-type th {\n",
       "        text-align: right;\n",
       "    }\n",
       "</style>\n",
       "<table border=\"1\" class=\"dataframe\">\n",
       "  <thead>\n",
       "    <tr>\n",
       "      <th></th>\n",
       "      <th colspan=\"4\" halign=\"left\">text</th>\n",
       "    </tr>\n",
       "    <tr>\n",
       "      <th></th>\n",
       "      <th>count</th>\n",
       "      <th>unique</th>\n",
       "      <th>top</th>\n",
       "      <th>freq</th>\n",
       "    </tr>\n",
       "    <tr>\n",
       "      <th>text_type</th>\n",
       "      <th></th>\n",
       "      <th></th>\n",
       "      <th></th>\n",
       "      <th></th>\n",
       "    </tr>\n",
       "  </thead>\n",
       "  <tbody>\n",
       "    <tr>\n",
       "      <th>ham</th>\n",
       "      <td>11469</td>\n",
       "      <td>11458</td>\n",
       "      <td>SPAM ALERT  🚔  User:     Username: @DillyBubbl...</td>\n",
       "      <td>7</td>\n",
       "    </tr>\n",
       "    <tr>\n",
       "      <th>spam</th>\n",
       "      <td>4809</td>\n",
       "      <td>4809</td>\n",
       "      <td>plzz visit my website moviesgodml to get all m...</td>\n",
       "      <td>1</td>\n",
       "    </tr>\n",
       "  </tbody>\n",
       "</table>\n",
       "</div>"
      ],
      "text/plain": [
       "            text                                                            \\\n",
       "           count unique                                                top   \n",
       "text_type                                                                    \n",
       "ham        11469  11458  SPAM ALERT  🚔  User:     Username: @DillyBubbl...   \n",
       "spam        4809   4809  plzz visit my website moviesgodml to get all m...   \n",
       "\n",
       "                \n",
       "          freq  \n",
       "text_type       \n",
       "ham          7  \n",
       "spam         1  "
      ]
     },
     "execution_count": 5,
     "metadata": {},
     "output_type": "execute_result"
    }
   ],
   "source": [
    "train_df.groupby('text_type').describe()"
   ]
  },
  {
   "cell_type": "code",
   "execution_count": 6,
   "id": "158dae11",
   "metadata": {},
   "outputs": [
    {
     "name": "stdout",
     "output_type": "stream",
     "text": [
      "How many a ham message: 11469\n",
      "How many a spam message: 4809\n"
     ]
    }
   ],
   "source": [
    "count_ham_value, count_spam_value = train_df['text_type'].value_counts()\n",
    "\n",
    "\n",
    "print(f'How many a ham message: {count_ham_value}\\nHow many a spam message: {count_spam_value}')"
   ]
  },
  {
   "cell_type": "code",
   "execution_count": 7,
   "id": "5cc9d35e",
   "metadata": {},
   "outputs": [
    {
     "data": {
      "text/plain": [
       "0.7045705860670844"
      ]
     },
     "execution_count": 7,
     "metadata": {},
     "output_type": "execute_result"
    }
   ],
   "source": [
    "11469/16278"
   ]
  },
  {
   "cell_type": "code",
   "execution_count": 8,
   "id": "3a593bf6",
   "metadata": {},
   "outputs": [
    {
     "data": {
      "image/png": "[encoded data removed]",
      "text/plain": [
       "<Figure size 640x480 with 1 Axes>"
      ]
     },
     "metadata": {},
     "output_type": "display_data"
    }
   ],
   "source": [
    "sns.barplot(x=['ham', 'spam'], y=[count_ham_value, count_spam_value], palette=\"Set2\")\n",
    "plt.xlabel('Тип сообщения')\n",
    "plt.ylabel('Количество сообщений')\n",
    "plt.title('Количество спам-сообщений и обычных сообщений')\n",
    "plt.show()"
   ]
  },
  {
   "cell_type": "markdown",
   "id": "f17509fd",
   "metadata": {},
   "source": [
    "Можно заметить явный дизбаланс классов\n",
    "Скорее всего модели будут охотней предсказывать ham сообщения, чтобы минизировать функцию ошибки"
   ]
  },
  {
   "cell_type": "code",
   "execution_count": 9,
   "id": "8e13911b",
   "metadata": {},
   "outputs": [
    {
     "name": "stdout",
     "output_type": "stream",
     "text": [
      "<class 'pandas.core.frame.DataFrame'>\n",
      "RangeIndex: 16278 entries, 0 to 16277\n",
      "Data columns (total 2 columns):\n",
      " #   Column     Non-Null Count  Dtype \n",
      "---  ------     --------------  ----- \n",
      " 0   text_type  16278 non-null  object\n",
      " 1   text       16278 non-null  object\n",
      "dtypes: object(2)\n",
      "memory usage: 254.5+ KB\n"
     ]
    },
    {
     "data": {
      "text/html": [
       "<div>\n",
       "<style scoped>\n",
       "    .dataframe tbody tr th:only-of-type {\n",
       "        vertical-align: middle;\n",
       "    }\n",
       "\n",
       "    .dataframe tbody tr th {\n",
       "        vertical-align: top;\n",
       "    }\n",
       "\n",
       "    .dataframe thead th {\n",
       "        text-align: right;\n",
       "    }\n",
       "</style>\n",
       "<table border=\"1\" class=\"dataframe\">\n",
       "  <thead>\n",
       "    <tr style=\"text-align: right;\">\n",
       "      <th></th>\n",
       "      <th>text_type</th>\n",
       "      <th>text</th>\n",
       "    </tr>\n",
       "  </thead>\n",
       "  <tbody>\n",
       "    <tr>\n",
       "      <th>count</th>\n",
       "      <td>16278</td>\n",
       "      <td>16278</td>\n",
       "    </tr>\n",
       "    <tr>\n",
       "      <th>unique</th>\n",
       "      <td>2</td>\n",
       "      <td>16267</td>\n",
       "    </tr>\n",
       "    <tr>\n",
       "      <th>top</th>\n",
       "      <td>ham</td>\n",
       "      <td>SPAM ALERT  🚔  User:     Username: @DillyBubbl...</td>\n",
       "    </tr>\n",
       "    <tr>\n",
       "      <th>freq</th>\n",
       "      <td>11469</td>\n",
       "      <td>7</td>\n",
       "    </tr>\n",
       "  </tbody>\n",
       "</table>\n",
       "</div>"
      ],
      "text/plain": [
       "       text_type                                               text\n",
       "count      16278                                              16278\n",
       "unique         2                                              16267\n",
       "top          ham  SPAM ALERT  🚔  User:     Username: @DillyBubbl...\n",
       "freq       11469                                                  7"
      ]
     },
     "execution_count": 9,
     "metadata": {},
     "output_type": "execute_result"
    }
   ],
   "source": [
    "train_df.info()\n",
    "train_df.describe()"
   ]
  },
  {
   "cell_type": "markdown",
   "id": "a93df992",
   "metadata": {},
   "source": [
    "Давайте извлечем некоторые фичи: длина сообщений, кол-во слов в сообщениях"
   ]
  },
  {
   "cell_type": "code",
   "execution_count": 10,
   "id": "ae78fb43",
   "metadata": {},
   "outputs": [
    {
     "data": {
      "text/html": [
       "<div>\n",
       "<style scoped>\n",
       "    .dataframe tbody tr th:only-of-type {\n",
       "        vertical-align: middle;\n",
       "    }\n",
       "\n",
       "    .dataframe tbody tr th {\n",
       "        vertical-align: top;\n",
       "    }\n",
       "\n",
       "    .dataframe thead th {\n",
       "        text-align: right;\n",
       "    }\n",
       "</style>\n",
       "<table border=\"1\" class=\"dataframe\">\n",
       "  <thead>\n",
       "    <tr style=\"text-align: right;\">\n",
       "      <th></th>\n",
       "      <th>text_type</th>\n",
       "      <th>text</th>\n",
       "      <th>length</th>\n",
       "      <th>num_words</th>\n",
       "      <th>label</th>\n",
       "    </tr>\n",
       "  </thead>\n",
       "  <tbody>\n",
       "    <tr>\n",
       "      <th>0</th>\n",
       "      <td>ham</td>\n",
       "      <td>make sure alex knows his birthday is over in f...</td>\n",
       "      <td>86</td>\n",
       "      <td>16</td>\n",
       "      <td>0</td>\n",
       "    </tr>\n",
       "    <tr>\n",
       "      <th>1</th>\n",
       "      <td>ham</td>\n",
       "      <td>a resume for john lavorato thanks vince i will...</td>\n",
       "      <td>520</td>\n",
       "      <td>97</td>\n",
       "      <td>0</td>\n",
       "    </tr>\n",
       "    <tr>\n",
       "      <th>2</th>\n",
       "      <td>spam</td>\n",
       "      <td>plzz visit my website moviesgodml to get all m...</td>\n",
       "      <td>126</td>\n",
       "      <td>22</td>\n",
       "      <td>1</td>\n",
       "    </tr>\n",
       "    <tr>\n",
       "      <th>3</th>\n",
       "      <td>spam</td>\n",
       "      <td>urgent your mobile number has been awarded wit...</td>\n",
       "      <td>139</td>\n",
       "      <td>23</td>\n",
       "      <td>1</td>\n",
       "    </tr>\n",
       "    <tr>\n",
       "      <th>4</th>\n",
       "      <td>ham</td>\n",
       "      <td>overview of hr associates analyst project per ...</td>\n",
       "      <td>733</td>\n",
       "      <td>127</td>\n",
       "      <td>0</td>\n",
       "    </tr>\n",
       "  </tbody>\n",
       "</table>\n",
       "</div>"
      ],
      "text/plain": [
       "  text_type                                               text  length  \\\n",
       "0       ham  make sure alex knows his birthday is over in f...      86   \n",
       "1       ham  a resume for john lavorato thanks vince i will...     520   \n",
       "2      spam  plzz visit my website moviesgodml to get all m...     126   \n",
       "3      spam  urgent your mobile number has been awarded wit...     139   \n",
       "4       ham  overview of hr associates analyst project per ...     733   \n",
       "\n",
       "   num_words  label  \n",
       "0         16      0  \n",
       "1         97      0  \n",
       "2         22      1  \n",
       "3         23      1  \n",
       "4        127      0  "
      ]
     },
     "execution_count": 10,
     "metadata": {},
     "output_type": "execute_result"
    }
   ],
   "source": [
    "train_df['text'] = train_df['text'].apply(lambda x: x.lower())\n",
    "train_df[\"length\"] = train_df[\"text\"].apply(len) # get the length of the text message\n",
    "train_df[\"num_words\"] = train_df[\"text\"].apply(lambda x: len(re.findall(r'\\w+', x))) # Count the number of words in the message \n",
    "train_df['label'] = train_df['text_type'].map({'ham': 0, 'spam': 1})\n",
    "train_df.head()"
   ]
  },
  {
   "cell_type": "markdown",
   "id": "d0c055d2",
   "metadata": {},
   "source": [
    "This will help our model to have more features so it can predict based on length of messages"
   ]
  },
  {
   "cell_type": "code",
   "execution_count": 11,
   "id": "707ce7a2",
   "metadata": {},
   "outputs": [
    {
     "data": {
      "image/png": "[encoded data removed]",
      "text/plain": [
       "<Figure size 640x480 with 1 Axes>"
      ]
     },
     "metadata": {},
     "output_type": "display_data"
    }
   ],
   "source": [
    "sns.histplot(data=train_df, x=\"length\", hue=\"text_type\", bins=30, kde=True)\n",
    "plt.tight_layout()\n",
    "plt.show()"
   ]
  },
  {
   "cell_type": "code",
   "execution_count": 12,
   "id": "ae21b7e5",
   "metadata": {},
   "outputs": [
    {
     "data": {
      "image/png": "[encoded data removed]",
      "text/plain": [
       "<Figure size 640x480 with 1 Axes>"
      ]
     },
     "metadata": {},
     "output_type": "display_data"
    }
   ],
   "source": [
    "sns.histplot(data=train_df, x=\"num_words\", hue=\"text_type\", bins=30, kde=True)\n",
    "plt.tight_layout()\n",
    "plt.show()"
   ]
  },
  {
   "cell_type": "code",
   "execution_count": 13,
   "id": "6aa10a33",
   "metadata": {},
   "outputs": [
    {
     "data": {
      "text/plain": [
       "204"
      ]
     },
     "execution_count": 13,
     "metadata": {},
     "output_type": "execute_result"
    }
   ],
   "source": [
    "train_df['num_words'].max()"
   ]
  },
  {
   "cell_type": "markdown",
   "id": "0e86e87e",
   "metadata": {},
   "source": [
    "Посмотрим на максимальную длинну наших сообщений"
   ]
  },
  {
   "cell_type": "code",
   "execution_count": 14,
   "id": "4744a8a4",
   "metadata": {},
   "outputs": [
    {
     "data": {
      "text/plain": [
       "800"
      ]
     },
     "execution_count": 14,
     "metadata": {},
     "output_type": "execute_result"
    }
   ],
   "source": [
    "train_df[\"length\"].max()"
   ]
  },
  {
   "cell_type": "code",
   "execution_count": 15,
   "id": "83dc3a4c",
   "metadata": {},
   "outputs": [
    {
     "data": {
      "text/plain": [
       "'welcome to jefferson pilot s gateway to wealth as one of the industry s premier producers you must continually seek qualified cutting edge services financial profiles concept profiles professional is a personal and business analysis tool that analyzes a client s insurance investment and financial planning goals to help them see their situation today compared to their objectives market profiles professional is an ideal tool for true financial planning it not only provides a thorough analysis including asset allocation but it can calculate tax implications in a client s plan due to its modular format it can be used for specific planning needs as well as more comprehensive planning benefits this software not only provides exceptional analysis but excels in providing simple as well as comprehe'"
      ]
     },
     "execution_count": 15,
     "metadata": {},
     "output_type": "execute_result"
    }
   ],
   "source": [
    "train_df[train_df[\"length\"]==800][\"text\"].iloc[0]"
   ]
  },
  {
   "cell_type": "code",
   "execution_count": 16,
   "id": "7bd3ad93",
   "metadata": {},
   "outputs": [
    {
     "data": {
      "text/plain": [
       "'🙁'"
      ]
     },
     "execution_count": 16,
     "metadata": {},
     "output_type": "execute_result"
    }
   ],
   "source": [
    "train_df[train_df[\"length\"] == train_df[\"length\"].min()][\"text\"].iloc[0]"
   ]
  },
  {
   "cell_type": "markdown",
   "id": "ab39ce0b",
   "metadata": {},
   "source": [
    "EMOJII ^^"
   ]
  },
  {
   "cell_type": "code",
   "execution_count": 17,
   "id": "da8d7484",
   "metadata": {},
   "outputs": [
    {
     "data": {
      "image/png": "[encoded data removed]",
      "text/plain": [
       "<Figure size 1200x600 with 2 Axes>"
      ]
     },
     "metadata": {},
     "output_type": "display_data"
    }
   ],
   "source": [
    "fig, axes = plt.subplots(1, 2, figsize=(12, 6))\n",
    "\n",
    "# Построение гистограммы для длины сообщений, разделенной по типу сообщений\n",
    "train_df[train_df['text_type'] == 'ham'].hist(column='length', bins=30, ax=axes[0], color='blue',alpha=0.7)\n",
    "axes[0].set_title('Ham Messages')\n",
    "axes[0].set_xlabel('length')\n",
    "axes[0].set_ylabel('Frequency')\n",
    "\n",
    "train_df[train_df['text_type'] == 'spam'].hist(column='length', bins=30, ax=axes[1], color='orange',alpha=0.7)\n",
    "axes[1].set_title('Spam Messages')\n",
    "axes[1].set_xlabel('length')\n",
    "axes[1].set_ylabel('Frequency')\n",
    "\n",
    "plt.tight_layout()\n",
    "plt.show()"
   ]
  },
  {
   "cell_type": "code",
   "execution_count": 18,
   "id": "49785b0b",
   "metadata": {},
   "outputs": [],
   "source": [
    "def clean_sentence(s):\n",
    "    stop_words = set(stopwords.words('english'))\n",
    "    s = s.translate(str.maketrans('','',string.punctuation)) # remove punctuation\n",
    "    tokens = word_tokenize(s)\n",
    "    cleaned_s = [w for w in tokens if w not in stop_words] # removing stop-words\n",
    "    return \" \".join(cleaned_s)\n",
    "\n",
    "\n",
    "clean_data = train_df.copy()\n",
    "clean_data['text'] = clean_data['text'].apply(clean_sentence)"
   ]
  },
  {
   "cell_type": "code",
   "execution_count": 19,
   "id": "f3f282a5",
   "metadata": {},
   "outputs": [
    {
     "data": {
      "text/html": [
       "<div>\n",
       "<style scoped>\n",
       "    .dataframe tbody tr th:only-of-type {\n",
       "        vertical-align: middle;\n",
       "    }\n",
       "\n",
       "    .dataframe tbody tr th {\n",
       "        vertical-align: top;\n",
       "    }\n",
       "\n",
       "    .dataframe thead th {\n",
       "        text-align: right;\n",
       "    }\n",
       "</style>\n",
       "<table border=\"1\" class=\"dataframe\">\n",
       "  <thead>\n",
       "    <tr style=\"text-align: right;\">\n",
       "      <th></th>\n",
       "      <th>text_type</th>\n",
       "      <th>text</th>\n",
       "      <th>length</th>\n",
       "      <th>num_words</th>\n",
       "      <th>label</th>\n",
       "      <th>length_cleaned</th>\n",
       "      <th>num_words_cleaned</th>\n",
       "    </tr>\n",
       "  </thead>\n",
       "  <tbody>\n",
       "    <tr>\n",
       "      <th>0</th>\n",
       "      <td>ham</td>\n",
       "      <td>make sure alex knows birthday fifteen minutes ...</td>\n",
       "      <td>86</td>\n",
       "      <td>16</td>\n",
       "      <td>0</td>\n",
       "      <td>65</td>\n",
       "      <td>10</td>\n",
       "    </tr>\n",
       "    <tr>\n",
       "      <th>1</th>\n",
       "      <td>ham</td>\n",
       "      <td>resume john lavorato thanks vince get moving r...</td>\n",
       "      <td>520</td>\n",
       "      <td>97</td>\n",
       "      <td>0</td>\n",
       "      <td>400</td>\n",
       "      <td>64</td>\n",
       "    </tr>\n",
       "    <tr>\n",
       "      <th>2</th>\n",
       "      <td>spam</td>\n",
       "      <td>plzz visit website moviesgodml get movies free...</td>\n",
       "      <td>126</td>\n",
       "      <td>22</td>\n",
       "      <td>1</td>\n",
       "      <td>99</td>\n",
       "      <td>14</td>\n",
       "    </tr>\n",
       "    <tr>\n",
       "      <th>3</th>\n",
       "      <td>spam</td>\n",
       "      <td>urgent mobile number awarded £2000 prize guara...</td>\n",
       "      <td>139</td>\n",
       "      <td>23</td>\n",
       "      <td>1</td>\n",
       "      <td>108</td>\n",
       "      <td>16</td>\n",
       "    </tr>\n",
       "    <tr>\n",
       "      <th>4</th>\n",
       "      <td>ham</td>\n",
       "      <td>overview hr associates analyst project per dav...</td>\n",
       "      <td>733</td>\n",
       "      <td>127</td>\n",
       "      <td>0</td>\n",
       "      <td>632</td>\n",
       "      <td>99</td>\n",
       "    </tr>\n",
       "  </tbody>\n",
       "</table>\n",
       "</div>"
      ],
      "text/plain": [
       "  text_type                                               text  length  \\\n",
       "0       ham  make sure alex knows birthday fifteen minutes ...      86   \n",
       "1       ham  resume john lavorato thanks vince get moving r...     520   \n",
       "2      spam  plzz visit website moviesgodml get movies free...     126   \n",
       "3      spam  urgent mobile number awarded £2000 prize guara...     139   \n",
       "4       ham  overview hr associates analyst project per dav...     733   \n",
       "\n",
       "   num_words  label  length_cleaned  num_words_cleaned  \n",
       "0         16      0              65                 10  \n",
       "1         97      0             400                 64  \n",
       "2         22      1              99                 14  \n",
       "3         23      1             108                 16  \n",
       "4        127      0             632                 99  "
      ]
     },
     "execution_count": 19,
     "metadata": {},
     "output_type": "execute_result"
    }
   ],
   "source": [
    "clean_data[\"length_cleaned\"] = clean_data[\"text\"].apply(len) # get the length of the text message\n",
    "clean_data[\"num_words_cleaned\"] = clean_data[\"text\"].apply(lambda x: len(re.findall(r'\\w+', x)))\n",
    "clean_data.head()"
   ]
  },
  {
   "cell_type": "markdown",
   "id": "168182c4",
   "metadata": {},
   "source": [
    "Посмотрим на наши графики после очистики предложений"
   ]
  },
  {
   "cell_type": "code",
   "execution_count": 20,
   "id": "316c6dad",
   "metadata": {},
   "outputs": [
    {
     "data": {
      "image/png": "[encoded data removed]",
      "text/plain": [
       "<Figure size 1200x600 with 2 Axes>"
      ]
     },
     "metadata": {},
     "output_type": "display_data"
    }
   ],
   "source": [
    "fig, axes = plt.subplots(1, 2, figsize=(12, 6))\n",
    "\n",
    "sns.histplot(data=clean_data, x=\"num_words\", hue=\"text_type\", bins=30, kde=True, ax=axes[0])\n",
    "axes[0].set_title(\"Original Num Words Distribution\")\n",
    "\n",
    "sns.histplot(data=clean_data, x=\"num_words_cleaned\", hue=\"text_type\", bins=30, kde=True, ax=axes[1])\n",
    "axes[1].set_title(\"Cleaned Num Words Distribution\")\n",
    "\n",
    "plt.tight_layout()\n",
    "plt.show()"
   ]
  },
  {
   "cell_type": "code",
   "execution_count": 21,
   "id": "f2900370",
   "metadata": {},
   "outputs": [
    {
     "data": {
      "image/png": "[encoded data removed]",
      "text/plain": [
       "<Figure size 1200x1000 with 4 Axes>"
      ]
     },
     "metadata": {},
     "output_type": "display_data"
    }
   ],
   "source": [
    "fig, axes = plt.subplots(2, 2, figsize=(12, 10))\n",
    "\n",
    "clean_data[clean_data['text_type'] == 'ham'].hist(column='length', bins=30, ax=axes[0, 0], color='blue', alpha=0.7)\n",
    "axes[0, 0].set_title('Before Cleaning - Ham')\n",
    "axes[0, 0].set_ylabel('Frequency')\n",
    "\n",
    "clean_data[clean_data['text_type'] == 'spam'].hist(column='length', bins=30, ax=axes[0, 1], color='orange', alpha=0.7)\n",
    "axes[0, 1].set_title('Before Cleaning - Spam')\n",
    "axes[0, 1].set_ylabel('Frequency')\n",
    "\n",
    "clean_data[clean_data['text_type'] == 'ham'].hist(column='length_cleaned', bins=30, ax=axes[1, 0], color='blue', alpha=0.7)\n",
    "axes[1, 0].set_title('After Cleaning - Ham')\n",
    "axes[1, 0].set_ylabel('Frequency')\n",
    "\n",
    "clean_data[clean_data['text_type'] == 'spam'].hist(column='length_cleaned', bins=30, ax=axes[1, 1], color='orange', alpha=0.7)\n",
    "axes[1, 1].set_title('After Cleaning - Spam')\n",
    "axes[1, 1].set_ylabel('Frequency')\n",
    "\n",
    "plt.tight_layout()\n",
    "plt.show()"
   ]
  },
  {
   "cell_type": "code",
   "execution_count": 22,
   "id": "c79d6318",
   "metadata": {},
   "outputs": [
    {
     "data": {
      "image/png": "[encoded data removed]",
      "text/plain": [
       "<Figure size 1200x1000 with 4 Axes>"
      ]
     },
     "metadata": {},
     "output_type": "display_data"
    }
   ],
   "source": [
    "fig, axes = plt.subplots(2, 2, figsize=(12, 10))\n",
    "\n",
    "clean_data[clean_data['text_type'] == 'ham'].hist(column='num_words', bins=30, ax=axes[0, 0], color='blue', alpha=0.7)\n",
    "axes[0, 0].set_title('Before Cleaning - Ham')\n",
    "axes[0, 0].set_ylabel('Frequency')\n",
    "\n",
    "clean_data[clean_data['text_type'] == 'spam'].hist(column='num_words', bins=30, ax=axes[0, 1], color='orange', alpha=0.7)\n",
    "axes[0, 1].set_title('Before Cleaning - Spam')\n",
    "axes[0, 1].set_ylabel('Frequency')\n",
    "\n",
    "clean_data[clean_data['text_type'] == 'ham'].hist(column='num_words_cleaned', bins=30, ax=axes[1, 0], color='blue', alpha=0.7)\n",
    "axes[1, 0].set_title('After Cleaning - Ham')\n",
    "axes[1, 0].set_ylabel('Frequency')\n",
    "\n",
    "clean_data[clean_data['text_type'] == 'spam'].hist(column='num_words_cleaned', bins=30, ax=axes[1, 1], color='orange', alpha=0.7)\n",
    "axes[1, 1].set_title('After Cleaning - Spam')\n",
    "axes[1, 1].set_ylabel('Frequency')\n",
    "\n",
    "plt.tight_layout()\n",
    "plt.show()"
   ]
  },
  {
   "cell_type": "code",
   "execution_count": 23,
   "id": "f1ee0e7b",
   "metadata": {},
   "outputs": [
    {
     "name": "stdout",
     "output_type": "stream",
     "text": [
      "(16278, 7)\n"
     ]
    },
    {
     "data": {
      "text/html": [
       "<div>\n",
       "<style scoped>\n",
       "    .dataframe tbody tr th:only-of-type {\n",
       "        vertical-align: middle;\n",
       "    }\n",
       "\n",
       "    .dataframe tbody tr th {\n",
       "        vertical-align: top;\n",
       "    }\n",
       "\n",
       "    .dataframe thead th {\n",
       "        text-align: right;\n",
       "    }\n",
       "</style>\n",
       "<table border=\"1\" class=\"dataframe\">\n",
       "  <thead>\n",
       "    <tr style=\"text-align: right;\">\n",
       "      <th></th>\n",
       "      <th>text_type</th>\n",
       "      <th>text</th>\n",
       "      <th>length</th>\n",
       "      <th>num_words</th>\n",
       "      <th>label</th>\n",
       "      <th>length_cleaned</th>\n",
       "      <th>num_words_cleaned</th>\n",
       "    </tr>\n",
       "  </thead>\n",
       "  <tbody>\n",
       "    <tr>\n",
       "      <th>0</th>\n",
       "      <td>ham</td>\n",
       "      <td>make sure alex knows birthday fifteen minutes ...</td>\n",
       "      <td>86</td>\n",
       "      <td>16</td>\n",
       "      <td>0</td>\n",
       "      <td>65</td>\n",
       "      <td>10</td>\n",
       "    </tr>\n",
       "    <tr>\n",
       "      <th>1</th>\n",
       "      <td>ham</td>\n",
       "      <td>resume john lavorato thanks vince get moving r...</td>\n",
       "      <td>520</td>\n",
       "      <td>97</td>\n",
       "      <td>0</td>\n",
       "      <td>400</td>\n",
       "      <td>64</td>\n",
       "    </tr>\n",
       "    <tr>\n",
       "      <th>2</th>\n",
       "      <td>spam</td>\n",
       "      <td>plzz visit website moviesgodml get movies free...</td>\n",
       "      <td>126</td>\n",
       "      <td>22</td>\n",
       "      <td>1</td>\n",
       "      <td>99</td>\n",
       "      <td>14</td>\n",
       "    </tr>\n",
       "    <tr>\n",
       "      <th>3</th>\n",
       "      <td>spam</td>\n",
       "      <td>urgent mobile number awarded £2000 prize guara...</td>\n",
       "      <td>139</td>\n",
       "      <td>23</td>\n",
       "      <td>1</td>\n",
       "      <td>108</td>\n",
       "      <td>16</td>\n",
       "    </tr>\n",
       "    <tr>\n",
       "      <th>4</th>\n",
       "      <td>ham</td>\n",
       "      <td>overview hr associates analyst project per dav...</td>\n",
       "      <td>733</td>\n",
       "      <td>127</td>\n",
       "      <td>0</td>\n",
       "      <td>632</td>\n",
       "      <td>99</td>\n",
       "    </tr>\n",
       "  </tbody>\n",
       "</table>\n",
       "</div>"
      ],
      "text/plain": [
       "  text_type                                               text  length  \\\n",
       "0       ham  make sure alex knows birthday fifteen minutes ...      86   \n",
       "1       ham  resume john lavorato thanks vince get moving r...     520   \n",
       "2      spam  plzz visit website moviesgodml get movies free...     126   \n",
       "3      spam  urgent mobile number awarded £2000 prize guara...     139   \n",
       "4       ham  overview hr associates analyst project per dav...     733   \n",
       "\n",
       "   num_words  label  length_cleaned  num_words_cleaned  \n",
       "0         16      0              65                 10  \n",
       "1         97      0             400                 64  \n",
       "2         22      1              99                 14  \n",
       "3         23      1             108                 16  \n",
       "4        127      0             632                 99  "
      ]
     },
     "execution_count": 23,
     "metadata": {},
     "output_type": "execute_result"
    }
   ],
   "source": [
    "print(clean_data.shape)\n",
    "clean_data.head()"
   ]
  },
  {
   "cell_type": "code",
   "execution_count": 24,
   "id": "7edb98d7",
   "metadata": {},
   "outputs": [
    {
     "name": "stdout",
     "output_type": "stream",
     "text": [
      "(16270, 7)\n"
     ]
    },
    {
     "data": {
      "text/html": [
       "<div>\n",
       "<style scoped>\n",
       "    .dataframe tbody tr th:only-of-type {\n",
       "        vertical-align: middle;\n",
       "    }\n",
       "\n",
       "    .dataframe tbody tr th {\n",
       "        vertical-align: top;\n",
       "    }\n",
       "\n",
       "    .dataframe thead th {\n",
       "        text-align: right;\n",
       "    }\n",
       "</style>\n",
       "<table border=\"1\" class=\"dataframe\">\n",
       "  <thead>\n",
       "    <tr style=\"text-align: right;\">\n",
       "      <th></th>\n",
       "      <th>text_type</th>\n",
       "      <th>text</th>\n",
       "      <th>length</th>\n",
       "      <th>num_words</th>\n",
       "      <th>label</th>\n",
       "      <th>length_cleaned</th>\n",
       "      <th>num_words_cleaned</th>\n",
       "    </tr>\n",
       "  </thead>\n",
       "  <tbody>\n",
       "    <tr>\n",
       "      <th>0</th>\n",
       "      <td>ham</td>\n",
       "      <td>make sure alex knows birthday fifteen minutes ...</td>\n",
       "      <td>86</td>\n",
       "      <td>16</td>\n",
       "      <td>0</td>\n",
       "      <td>65</td>\n",
       "      <td>10</td>\n",
       "    </tr>\n",
       "    <tr>\n",
       "      <th>1</th>\n",
       "      <td>ham</td>\n",
       "      <td>resume john lavorato thanks vince get moving r...</td>\n",
       "      <td>520</td>\n",
       "      <td>97</td>\n",
       "      <td>0</td>\n",
       "      <td>400</td>\n",
       "      <td>64</td>\n",
       "    </tr>\n",
       "    <tr>\n",
       "      <th>2</th>\n",
       "      <td>spam</td>\n",
       "      <td>plzz visit website moviesgodml get movies free...</td>\n",
       "      <td>126</td>\n",
       "      <td>22</td>\n",
       "      <td>1</td>\n",
       "      <td>99</td>\n",
       "      <td>14</td>\n",
       "    </tr>\n",
       "    <tr>\n",
       "      <th>3</th>\n",
       "      <td>spam</td>\n",
       "      <td>urgent mobile number awarded £2000 prize guara...</td>\n",
       "      <td>139</td>\n",
       "      <td>23</td>\n",
       "      <td>1</td>\n",
       "      <td>108</td>\n",
       "      <td>16</td>\n",
       "    </tr>\n",
       "    <tr>\n",
       "      <th>4</th>\n",
       "      <td>ham</td>\n",
       "      <td>overview hr associates analyst project per dav...</td>\n",
       "      <td>733</td>\n",
       "      <td>127</td>\n",
       "      <td>0</td>\n",
       "      <td>632</td>\n",
       "      <td>99</td>\n",
       "    </tr>\n",
       "  </tbody>\n",
       "</table>\n",
       "</div>"
      ],
      "text/plain": [
       "  text_type                                               text  length  \\\n",
       "0       ham  make sure alex knows birthday fifteen minutes ...      86   \n",
       "1       ham  resume john lavorato thanks vince get moving r...     520   \n",
       "2      spam  plzz visit website moviesgodml get movies free...     126   \n",
       "3      spam  urgent mobile number awarded £2000 prize guara...     139   \n",
       "4       ham  overview hr associates analyst project per dav...     733   \n",
       "\n",
       "   num_words  label  length_cleaned  num_words_cleaned  \n",
       "0         16      0              65                 10  \n",
       "1         97      0             400                 64  \n",
       "2         22      1              99                 14  \n",
       "3         23      1             108                 16  \n",
       "4        127      0             632                 99  "
      ]
     },
     "execution_count": 24,
     "metadata": {},
     "output_type": "execute_result"
    }
   ],
   "source": [
    "clean_data.drop(clean_data[clean_data['length_cleaned'] == 0].index, inplace=True)\n",
    "clean_data.reset_index(drop=True, inplace=True)\n",
    "print(clean_data.shape)\n",
    "clean_data.head()"
   ]
  },
  {
   "cell_type": "code",
   "execution_count": 25,
   "id": "1eaaac4e",
   "metadata": {},
   "outputs": [
    {
     "data": {
      "text/html": [
       "<div>\n",
       "<style scoped>\n",
       "    .dataframe tbody tr th:only-of-type {\n",
       "        vertical-align: middle;\n",
       "    }\n",
       "\n",
       "    .dataframe tbody tr th {\n",
       "        vertical-align: top;\n",
       "    }\n",
       "\n",
       "    .dataframe thead th {\n",
       "        text-align: right;\n",
       "    }\n",
       "</style>\n",
       "<table border=\"1\" class=\"dataframe\">\n",
       "  <thead>\n",
       "    <tr style=\"text-align: right;\">\n",
       "      <th></th>\n",
       "      <th>text_type</th>\n",
       "      <th>text</th>\n",
       "      <th>length</th>\n",
       "      <th>num_words</th>\n",
       "      <th>label</th>\n",
       "    </tr>\n",
       "  </thead>\n",
       "  <tbody>\n",
       "    <tr>\n",
       "      <th>5661</th>\n",
       "      <td>ham</td>\n",
       "      <td>🙁</td>\n",
       "      <td>1</td>\n",
       "      <td>0</td>\n",
       "      <td>0</td>\n",
       "    </tr>\n",
       "    <tr>\n",
       "      <th>6798</th>\n",
       "      <td>ham</td>\n",
       "      <td>👍</td>\n",
       "      <td>1</td>\n",
       "      <td>0</td>\n",
       "      <td>0</td>\n",
       "    </tr>\n",
       "    <tr>\n",
       "      <th>8865</th>\n",
       "      <td>ham</td>\n",
       "      <td>😊</td>\n",
       "      <td>1</td>\n",
       "      <td>0</td>\n",
       "      <td>0</td>\n",
       "    </tr>\n",
       "    <tr>\n",
       "      <th>9317</th>\n",
       "      <td>spam</td>\n",
       "      <td>✅✅✅✅✅✅✅✅✅✅✅✅✅</td>\n",
       "      <td>13</td>\n",
       "      <td>0</td>\n",
       "      <td>1</td>\n",
       "    </tr>\n",
       "    <tr>\n",
       "      <th>11547</th>\n",
       "      <td>ham</td>\n",
       "      <td>😳😳</td>\n",
       "      <td>2</td>\n",
       "      <td>0</td>\n",
       "      <td>0</td>\n",
       "    </tr>\n",
       "    <tr>\n",
       "      <th>14258</th>\n",
       "      <td>ham</td>\n",
       "      <td>😐</td>\n",
       "      <td>1</td>\n",
       "      <td>0</td>\n",
       "      <td>0</td>\n",
       "    </tr>\n",
       "  </tbody>\n",
       "</table>\n",
       "</div>"
      ],
      "text/plain": [
       "      text_type           text  length  num_words  label\n",
       "5661        ham              🙁       1          0      0\n",
       "6798        ham              👍       1          0      0\n",
       "8865        ham              😊       1          0      0\n",
       "9317       spam  ✅✅✅✅✅✅✅✅✅✅✅✅✅      13          0      1\n",
       "11547       ham             😳😳       2          0      0\n",
       "14258       ham              😐       1          0      0"
      ]
     },
     "execution_count": 25,
     "metadata": {},
     "output_type": "execute_result"
    }
   ],
   "source": [
    "train_df.loc[train_df['num_words'] == 0]"
   ]
  },
  {
   "cell_type": "code",
   "execution_count": 26,
   "id": "29c049a6",
   "metadata": {},
   "outputs": [
    {
     "data": {
      "text/html": [
       "<div>\n",
       "<style scoped>\n",
       "    .dataframe tbody tr th:only-of-type {\n",
       "        vertical-align: middle;\n",
       "    }\n",
       "\n",
       "    .dataframe tbody tr th {\n",
       "        vertical-align: top;\n",
       "    }\n",
       "\n",
       "    .dataframe thead th {\n",
       "        text-align: right;\n",
       "    }\n",
       "</style>\n",
       "<table border=\"1\" class=\"dataframe\">\n",
       "  <thead>\n",
       "    <tr style=\"text-align: right;\">\n",
       "      <th></th>\n",
       "      <th>text_type</th>\n",
       "      <th>text</th>\n",
       "      <th>length</th>\n",
       "      <th>num_words</th>\n",
       "      <th>label</th>\n",
       "      <th>length_cleaned</th>\n",
       "      <th>num_words_cleaned</th>\n",
       "    </tr>\n",
       "  </thead>\n",
       "  <tbody>\n",
       "    <tr>\n",
       "      <th>5659</th>\n",
       "      <td>ham</td>\n",
       "      <td>🙁</td>\n",
       "      <td>1</td>\n",
       "      <td>0</td>\n",
       "      <td>0</td>\n",
       "      <td>1</td>\n",
       "      <td>0</td>\n",
       "    </tr>\n",
       "    <tr>\n",
       "      <th>6796</th>\n",
       "      <td>ham</td>\n",
       "      <td>👍</td>\n",
       "      <td>1</td>\n",
       "      <td>0</td>\n",
       "      <td>0</td>\n",
       "      <td>1</td>\n",
       "      <td>0</td>\n",
       "    </tr>\n",
       "    <tr>\n",
       "      <th>8862</th>\n",
       "      <td>ham</td>\n",
       "      <td>😊</td>\n",
       "      <td>1</td>\n",
       "      <td>0</td>\n",
       "      <td>0</td>\n",
       "      <td>1</td>\n",
       "      <td>0</td>\n",
       "    </tr>\n",
       "    <tr>\n",
       "      <th>9314</th>\n",
       "      <td>spam</td>\n",
       "      <td>✅✅✅✅✅✅✅✅✅✅✅✅✅</td>\n",
       "      <td>13</td>\n",
       "      <td>0</td>\n",
       "      <td>1</td>\n",
       "      <td>13</td>\n",
       "      <td>0</td>\n",
       "    </tr>\n",
       "    <tr>\n",
       "      <th>11541</th>\n",
       "      <td>ham</td>\n",
       "      <td>😳😳</td>\n",
       "      <td>2</td>\n",
       "      <td>0</td>\n",
       "      <td>0</td>\n",
       "      <td>2</td>\n",
       "      <td>0</td>\n",
       "    </tr>\n",
       "    <tr>\n",
       "      <th>14251</th>\n",
       "      <td>ham</td>\n",
       "      <td>😐</td>\n",
       "      <td>1</td>\n",
       "      <td>0</td>\n",
       "      <td>0</td>\n",
       "      <td>1</td>\n",
       "      <td>0</td>\n",
       "    </tr>\n",
       "  </tbody>\n",
       "</table>\n",
       "</div>"
      ],
      "text/plain": [
       "      text_type           text  length  num_words  label  length_cleaned  \\\n",
       "5659        ham              🙁       1          0      0               1   \n",
       "6796        ham              👍       1          0      0               1   \n",
       "8862        ham              😊       1          0      0               1   \n",
       "9314       spam  ✅✅✅✅✅✅✅✅✅✅✅✅✅      13          0      1              13   \n",
       "11541       ham             😳😳       2          0      0               2   \n",
       "14251       ham              😐       1          0      0               1   \n",
       "\n",
       "       num_words_cleaned  \n",
       "5659                   0  \n",
       "6796                   0  \n",
       "8862                   0  \n",
       "9314                   0  \n",
       "11541                  0  \n",
       "14251                  0  "
      ]
     },
     "execution_count": 26,
     "metadata": {},
     "output_type": "execute_result"
    }
   ],
   "source": [
    "clean_data.loc[clean_data['num_words_cleaned'] == 0]"
   ]
  },
  {
   "cell_type": "code",
   "execution_count": 27,
   "id": "dc42596d",
   "metadata": {},
   "outputs": [
    {
     "name": "stdout",
     "output_type": "stream",
     "text": [
      "(16264, 7)\n"
     ]
    },
    {
     "data": {
      "text/html": [
       "<div>\n",
       "<style scoped>\n",
       "    .dataframe tbody tr th:only-of-type {\n",
       "        vertical-align: middle;\n",
       "    }\n",
       "\n",
       "    .dataframe tbody tr th {\n",
       "        vertical-align: top;\n",
       "    }\n",
       "\n",
       "    .dataframe thead th {\n",
       "        text-align: right;\n",
       "    }\n",
       "</style>\n",
       "<table border=\"1\" class=\"dataframe\">\n",
       "  <thead>\n",
       "    <tr style=\"text-align: right;\">\n",
       "      <th></th>\n",
       "      <th>text_type</th>\n",
       "      <th>text</th>\n",
       "      <th>length</th>\n",
       "      <th>num_words</th>\n",
       "      <th>label</th>\n",
       "      <th>length_cleaned</th>\n",
       "      <th>num_words_cleaned</th>\n",
       "    </tr>\n",
       "  </thead>\n",
       "  <tbody>\n",
       "    <tr>\n",
       "      <th>0</th>\n",
       "      <td>ham</td>\n",
       "      <td>make sure alex knows birthday fifteen minutes ...</td>\n",
       "      <td>86</td>\n",
       "      <td>16</td>\n",
       "      <td>0</td>\n",
       "      <td>65</td>\n",
       "      <td>10</td>\n",
       "    </tr>\n",
       "    <tr>\n",
       "      <th>1</th>\n",
       "      <td>ham</td>\n",
       "      <td>resume john lavorato thanks vince get moving r...</td>\n",
       "      <td>520</td>\n",
       "      <td>97</td>\n",
       "      <td>0</td>\n",
       "      <td>400</td>\n",
       "      <td>64</td>\n",
       "    </tr>\n",
       "    <tr>\n",
       "      <th>2</th>\n",
       "      <td>spam</td>\n",
       "      <td>plzz visit website moviesgodml get movies free...</td>\n",
       "      <td>126</td>\n",
       "      <td>22</td>\n",
       "      <td>1</td>\n",
       "      <td>99</td>\n",
       "      <td>14</td>\n",
       "    </tr>\n",
       "    <tr>\n",
       "      <th>3</th>\n",
       "      <td>spam</td>\n",
       "      <td>urgent mobile number awarded £2000 prize guara...</td>\n",
       "      <td>139</td>\n",
       "      <td>23</td>\n",
       "      <td>1</td>\n",
       "      <td>108</td>\n",
       "      <td>16</td>\n",
       "    </tr>\n",
       "    <tr>\n",
       "      <th>4</th>\n",
       "      <td>ham</td>\n",
       "      <td>overview hr associates analyst project per dav...</td>\n",
       "      <td>733</td>\n",
       "      <td>127</td>\n",
       "      <td>0</td>\n",
       "      <td>632</td>\n",
       "      <td>99</td>\n",
       "    </tr>\n",
       "  </tbody>\n",
       "</table>\n",
       "</div>"
      ],
      "text/plain": [
       "  text_type                                               text  length  \\\n",
       "0       ham  make sure alex knows birthday fifteen minutes ...      86   \n",
       "1       ham  resume john lavorato thanks vince get moving r...     520   \n",
       "2      spam  plzz visit website moviesgodml get movies free...     126   \n",
       "3      spam  urgent mobile number awarded £2000 prize guara...     139   \n",
       "4       ham  overview hr associates analyst project per dav...     733   \n",
       "\n",
       "   num_words  label  length_cleaned  num_words_cleaned  \n",
       "0         16      0              65                 10  \n",
       "1         97      0             400                 64  \n",
       "2         22      1              99                 14  \n",
       "3         23      1             108                 16  \n",
       "4        127      0             632                 99  "
      ]
     },
     "execution_count": 27,
     "metadata": {},
     "output_type": "execute_result"
    }
   ],
   "source": [
    "clean_data.drop(clean_data[clean_data['num_words_cleaned'] == 0].index, inplace=True)\n",
    "clean_data.reset_index(drop=True, inplace=True)\n",
    "print(clean_data.shape)\n",
    "clean_data.head()"
   ]
  },
  {
   "cell_type": "code",
   "execution_count": 28,
   "id": "c3f7ea0f",
   "metadata": {},
   "outputs": [
    {
     "data": {
      "text/html": [
       "<div>\n",
       "<style scoped>\n",
       "    .dataframe tbody tr th:only-of-type {\n",
       "        vertical-align: middle;\n",
       "    }\n",
       "\n",
       "    .dataframe tbody tr th {\n",
       "        vertical-align: top;\n",
       "    }\n",
       "\n",
       "    .dataframe thead th {\n",
       "        text-align: right;\n",
       "    }\n",
       "</style>\n",
       "<table border=\"1\" class=\"dataframe\">\n",
       "  <thead>\n",
       "    <tr style=\"text-align: right;\">\n",
       "      <th></th>\n",
       "      <th>text_type</th>\n",
       "      <th>text</th>\n",
       "      <th>length</th>\n",
       "      <th>num_words</th>\n",
       "      <th>label</th>\n",
       "      <th>length_cleaned</th>\n",
       "      <th>num_words_cleaned</th>\n",
       "    </tr>\n",
       "  </thead>\n",
       "  <tbody>\n",
       "  </tbody>\n",
       "</table>\n",
       "</div>"
      ],
      "text/plain": [
       "Empty DataFrame\n",
       "Columns: [text_type, text, length, num_words, label, length_cleaned, num_words_cleaned]\n",
       "Index: []"
      ]
     },
     "execution_count": 28,
     "metadata": {},
     "output_type": "execute_result"
    }
   ],
   "source": [
    "clean_data.loc[clean_data['length_cleaned'] == 0]"
   ]
  },
  {
   "cell_type": "code",
   "execution_count": 29,
   "id": "7ced9cce",
   "metadata": {},
   "outputs": [
    {
     "data": {
      "text/html": [
       "<div>\n",
       "<style scoped>\n",
       "    .dataframe tbody tr th:only-of-type {\n",
       "        vertical-align: middle;\n",
       "    }\n",
       "\n",
       "    .dataframe tbody tr th {\n",
       "        vertical-align: top;\n",
       "    }\n",
       "\n",
       "    .dataframe thead th {\n",
       "        text-align: right;\n",
       "    }\n",
       "</style>\n",
       "<table border=\"1\" class=\"dataframe\">\n",
       "  <thead>\n",
       "    <tr style=\"text-align: right;\">\n",
       "      <th></th>\n",
       "      <th>text_type</th>\n",
       "      <th>text</th>\n",
       "      <th>length</th>\n",
       "      <th>num_words</th>\n",
       "      <th>label</th>\n",
       "      <th>length_cleaned</th>\n",
       "      <th>num_words_cleaned</th>\n",
       "    </tr>\n",
       "  </thead>\n",
       "  <tbody>\n",
       "  </tbody>\n",
       "</table>\n",
       "</div>"
      ],
      "text/plain": [
       "Empty DataFrame\n",
       "Columns: [text_type, text, length, num_words, label, length_cleaned, num_words_cleaned]\n",
       "Index: []"
      ]
     },
     "execution_count": 29,
     "metadata": {},
     "output_type": "execute_result"
    }
   ],
   "source": [
    "clean_data.loc[clean_data['num_words_cleaned'] == 0]"
   ]
  },
  {
   "cell_type": "markdown",
   "id": "f5e0c6b1",
   "metadata": {},
   "source": [
    "# Имеют ли спам сообещния больше слов?"
   ]
  },
  {
   "cell_type": "code",
   "execution_count": 30,
   "id": "3ba202de",
   "metadata": {},
   "outputs": [
    {
     "data": {
      "image/png": "[encoded data removed]",
      "text/plain": [
       "<Figure size 1000x600 with 1 Axes>"
      ]
     },
     "metadata": {},
     "output_type": "display_data"
    }
   ],
   "source": [
    "f, ax = plt.subplots(figsize=(10, 6))\n",
    "\n",
    "sns.kdeplot(clean_data[clean_data['label'] == 1]['num_words_cleaned'], label='Spam', shade=True)\n",
    "sns.kdeplot(clean_data[clean_data['label'] == 0]['num_words_cleaned'], label='Ham', shade=True)\n",
    "ax.set(xlabel = \"Number of words\", ylabel = \"Density\",title = \"Spam messages have more words than ham messages\")\n",
    "plt.legend()\n",
    "plt.show()"
   ]
  },
  {
   "cell_type": "markdown",
   "id": "b079ca64",
   "metadata": {},
   "source": [
    "График показывает, что явного отличия в длине сообщений у нас нет("
   ]
  },
  {
   "cell_type": "code",
   "execution_count": 31,
   "id": "b5dd6848",
   "metadata": {},
   "outputs": [
    {
     "data": {
      "image/png": "[encoded data removed]",
      "text/plain": [
       "<Figure size 1000x600 with 1 Axes>"
      ]
     },
     "metadata": {},
     "output_type": "display_data"
    }
   ],
   "source": [
    "f, ax = plt.subplots(figsize=(10, 6))\n",
    "\n",
    "sns.kdeplot(clean_data[clean_data['label'] == 1]['length_cleaned'], label='Spam', shade=True)\n",
    "sns.kdeplot(clean_data[clean_data['label'] == 0]['length_cleaned'], label='Ham', shade=True)\n",
    "ax.set(xlabel = \"Message length\", ylabel = \"Density\",title = \"Spam messages have more words than ham messages\")\n",
    "plt.legend()\n",
    "plt.show()"
   ]
  },
  {
   "cell_type": "markdown",
   "id": "b968e0c3",
   "metadata": {},
   "source": [
    "Из этих графиков можно вычленить 2 вещи:\n",
    "  * Особой разницы в длине и количестве слов в сообщениях нет \n",
    "  * Основная доля спам сообщений это достаточно короткие письма(от 10 до 200 символов) , к моему удивлению :& "
   ]
  },
  {
   "cell_type": "markdown",
   "id": "0536265a",
   "metadata": {},
   "source": [
    "Создадим функцию, которая будет обучать модель и считать метрики качества"
   ]
  },
  {
   "cell_type": "code",
   "execution_count": 32,
   "id": "c2dd3914",
   "metadata": {},
   "outputs": [],
   "source": [
    "def fit_and_compute_accuracy(X_train, X_val, y_train, y_val, model, model_param=None):\n",
    "    if model_param:\n",
    "        model = model(**model_param)\n",
    "    else:\n",
    "        model = model()\n",
    "    model.fit(X_train, y_train)\n",
    "    y_pred_proba = model.predict_proba(X_val)[:, 1]\n",
    "    y_pred_class = model.predict(X_val)\n",
    "    \n",
    "    roc_auc = roc_auc_score(y_val, y_pred_proba)\n",
    "    logloss = log_loss(y_val, y_pred_proba)\n",
    "    classification_rep = classification_report(y_val, y_pred_class)\n",
    "    \n",
    "    print(f'\\nROC AUC Score: {roc_auc}\\n')\n",
    "    print(f'Log Loss: {logloss}')\n",
    "    print('---------------------------------\\n')\n",
    "    print(classification_rep)\n",
    "    \n",
    "    results = pd.DataFrame(\n",
    "        data={'Вероятность': y_pred_proba, 'Предсказанный класс': y_pred_class, 'Истинный класс': y_val}\n",
    "    )\n",
    "    return model, results           "
   ]
  },
  {
   "cell_type": "markdown",
   "id": "888c06e9",
   "metadata": {},
   "source": [
    "# Разделим обучающаю выборку на train и valid"
   ]
  },
  {
   "cell_type": "code",
   "execution_count": 33,
   "id": "f75e791d",
   "metadata": {},
   "outputs": [
    {
     "name": "stdout",
     "output_type": "stream",
     "text": [
      "Shape of X_train: (13011,)\n",
      "Shape of Y_train: (13011,)\n",
      "---------------------------------\n",
      "Shape of X_val: (3253,)\n",
      "Shape of Y_val: (3253,)\n"
     ]
    },
    {
     "data": {
      "text/plain": [
       "dtype('int64')"
      ]
     },
     "execution_count": 33,
     "metadata": {},
     "output_type": "execute_result"
    }
   ],
   "source": [
    "X, Y = clean_data['text'], clean_data['label']\n",
    "\n",
    "X_train, X_val, Y_train, Y_val = train_test_split(X, Y, test_size=0.2, random_state=26)\n",
    "\n",
    "print(f'Shape of X_train: {X_train.shape}')\n",
    "print(f'Shape of Y_train: {Y_train.shape}')\n",
    "print('---------------------------------')\n",
    "print(f'Shape of X_val: {X_val.shape}')\n",
    "print(f'Shape of Y_val: {Y_val.shape}')\n",
    "\n",
    "clean_data['label'].dtype"
   ]
  },
  {
   "cell_type": "markdown",
   "id": "5a462983",
   "metadata": {},
   "source": [
    "Давайте выберем **бейзлайн** - очень простая модель, с которой мы в дальнейшем будем сравниваться.\n",
    "Пусть в нашем случае это будет **LogisticRegression**\n",
    "\n",
    "Так же создадим векторайзер, который будет преобразовывать наши тестовые данные\n"
   ]
  },
  {
   "cell_type": "code",
   "execution_count": 34,
   "id": "07b8590a",
   "metadata": {},
   "outputs": [],
   "source": [
    "tfidf_vectorizer = TfidfVectorizer(stop_words='english', lowercase=True)\n",
    "\n",
    "X_train_tfidf = tfidf_vectorizer.fit_transform(X_train)\n",
    "X_val_tfidf = tfidf_vectorizer.transform(X_val)"
   ]
  },
  {
   "cell_type": "code",
   "execution_count": 35,
   "id": "f1927074",
   "metadata": {},
   "outputs": [
    {
     "name": "stdout",
     "output_type": "stream",
     "text": [
      "\n",
      "ROC AUC Score: 0.9740483767256909\n",
      "\n",
      "Log Loss: 0.24851303861415416\n",
      "---------------------------------\n",
      "\n",
      "              precision    recall  f1-score   support\n",
      "\n",
      "           0       0.92      0.97      0.94      2297\n",
      "           1       0.91      0.79      0.85       956\n",
      "\n",
      "    accuracy                           0.92      3253\n",
      "   macro avg       0.92      0.88      0.89      3253\n",
      "weighted avg       0.92      0.92      0.91      3253\n",
      "\n"
     ]
    },
    {
     "data": {
      "text/plain": [
       "(LogisticRegression(),\n",
       "        Вероятность  Предсказанный класс  Истинный класс\n",
       " 7073      0.129325                    0               0\n",
       " 4068      0.092753                    0               0\n",
       " 14497     0.148556                    0               0\n",
       " 9775      0.295754                    0               0\n",
       " 6438      0.307011                    0               0\n",
       " ...            ...                  ...             ...\n",
       " 5753      0.383123                    0               1\n",
       " 13872     0.122130                    0               0\n",
       " 4762      0.740374                    1               1\n",
       " 4342      0.834238                    1               1\n",
       " 15864     0.126746                    0               0\n",
       " \n",
       " [3253 rows x 3 columns])"
      ]
     },
     "execution_count": 35,
     "metadata": {},
     "output_type": "execute_result"
    }
   ],
   "source": [
    "fit_and_compute_accuracy(X_train_tfidf, X_val_tfidf, Y_train, Y_val, LogisticRegression)"
   ]
  },
  {
   "cell_type": "markdown",
   "id": "28b2afcd",
   "metadata": {},
   "source": [
    "Как можем заметить, наша модель неплохо себя показывает на валидаоных данных, даже слишком неплохо\n",
    "\n",
    "Вывод: модель хорошо справляется с классификацией объектов класса 0, но чуть хуже - с объектами класса 1."
   ]
  },
  {
   "cell_type": "markdown",
   "id": "216aa135",
   "metadata": {},
   "source": [
    "Как можем вспомнить, что у нас есть дизбаланс в данных, давайте попробуем штрафать модель за неправильное определение"
   ]
  },
  {
   "cell_type": "code",
   "execution_count": 36,
   "id": "1747c074",
   "metadata": {},
   "outputs": [
    {
     "name": "stdout",
     "output_type": "stream",
     "text": [
      "\n",
      "ROC AUC Score: 0.9675354245942043\n",
      "\n",
      "Log Loss: 0.33251763659212397\n",
      "---------------------------------\n",
      "\n",
      "              precision    recall  f1-score   support\n",
      "\n",
      "           0       0.81      0.99      0.89      2297\n",
      "           1       0.95      0.43      0.60       956\n",
      "\n",
      "    accuracy                           0.83      3253\n",
      "   macro avg       0.88      0.71      0.74      3253\n",
      "weighted avg       0.85      0.83      0.80      3253\n",
      "\n"
     ]
    },
    {
     "data": {
      "text/plain": [
       "(LogisticRegression(class_weight={0: 0.7, 1: 0.3}),\n",
       "        Вероятность  Предсказанный класс  Истинный класс\n",
       " 7073      0.107712                    0               0\n",
       " 4068      0.088430                    0               0\n",
       " 14497     0.107594                    0               0\n",
       " 9775      0.199865                    0               0\n",
       " 6438      0.212019                    0               0\n",
       " ...            ...                  ...             ...\n",
       " 5753      0.204402                    0               1\n",
       " 13872     0.100147                    0               0\n",
       " 4762      0.475470                    0               1\n",
       " 4342      0.569320                    1               1\n",
       " 15864     0.103003                    0               0\n",
       " \n",
       " [3253 rows x 3 columns])"
      ]
     },
     "execution_count": 36,
     "metadata": {},
     "output_type": "execute_result"
    }
   ],
   "source": [
    "param_model = {'class_weight': {0: 0.7, 1: 0.3}}\n",
    "fit_and_compute_accuracy(X_train_tfidf, X_val_tfidf, Y_train, Y_val, LogisticRegression, param_model)"
   ]
  },
  {
   "cell_type": "code",
   "execution_count": 37,
   "id": "a08942b1",
   "metadata": {},
   "outputs": [
    {
     "name": "stdout",
     "output_type": "stream",
     "text": [
      "\n",
      "ROC AUC Score: 0.9740729676510931\n",
      "\n",
      "Log Loss: 0.2684199132332427\n",
      "---------------------------------\n",
      "\n",
      "              precision    recall  f1-score   support\n",
      "\n",
      "           0       0.96      0.93      0.95      2297\n",
      "           1       0.85      0.92      0.88       956\n",
      "\n",
      "    accuracy                           0.93      3253\n",
      "   macro avg       0.91      0.93      0.92      3253\n",
      "weighted avg       0.93      0.93      0.93      3253\n",
      "\n"
     ]
    },
    {
     "data": {
      "text/plain": [
       "(LogisticRegression(class_weight='balanced'),\n",
       "        Вероятность  Предсказанный класс  Истинный класс\n",
       " 7073      0.206380                    0               0\n",
       " 4068      0.150987                    0               0\n",
       " 14497     0.235004                    0               0\n",
       " 9775      0.422139                    0               0\n",
       " 6438      0.445125                    0               0\n",
       " ...            ...                  ...             ...\n",
       " 5753      0.545721                    1               1\n",
       " 13872     0.192361                    0               0\n",
       " 4762      0.843035                    1               1\n",
       " 4342      0.905933                    1               1\n",
       " 15864     0.187169                    0               0\n",
       " \n",
       " [3253 rows x 3 columns])"
      ]
     },
     "execution_count": 37,
     "metadata": {},
     "output_type": "execute_result"
    }
   ],
   "source": [
    "param_model = {'class_weight': 'balanced'}\n",
    "fit_and_compute_accuracy(X_train_tfidf, X_val_tfidf, Y_train, Y_val, LogisticRegression, param_model)"
   ]
  },
  {
   "cell_type": "markdown",
   "id": "ae50fb2f",
   "metadata": {},
   "source": [
    "## RandomForestClassifier "
   ]
  },
  {
   "cell_type": "code",
   "execution_count": 38,
   "id": "e0dff07a",
   "metadata": {},
   "outputs": [
    {
     "name": "stdout",
     "output_type": "stream",
     "text": [
      "\n",
      "ROC AUC Score: 0.9803891923793634\n",
      "\n",
      "Log Loss: 0.207767935545246\n",
      "---------------------------------\n",
      "\n",
      "              precision    recall  f1-score   support\n",
      "\n",
      "           0       0.92      0.99      0.96      2297\n",
      "           1       0.98      0.79      0.88       956\n",
      "\n",
      "    accuracy                           0.94      3253\n",
      "   macro avg       0.95      0.89      0.92      3253\n",
      "weighted avg       0.94      0.94      0.93      3253\n",
      "\n"
     ]
    },
    {
     "data": {
      "text/plain": [
       "(RandomForestClassifier(),\n",
       "        Вероятность  Предсказанный класс  Истинный класс\n",
       " 7073      0.130000                    0               0\n",
       " 4068      0.006428                    0               0\n",
       " 14497     0.130500                    0               0\n",
       " 9775      0.173063                    0               0\n",
       " 6438      0.361608                    0               0\n",
       " ...            ...                  ...             ...\n",
       " 5753      0.400000                    0               1\n",
       " 13872     0.003341                    0               0\n",
       " 4762      0.910000                    1               1\n",
       " 4342      0.941213                    1               1\n",
       " 15864     0.052826                    0               0\n",
       " \n",
       " [3253 rows x 3 columns])"
      ]
     },
     "execution_count": 38,
     "metadata": {},
     "output_type": "execute_result"
    }
   ],
   "source": [
    "fit_and_compute_accuracy(X_train_tfidf, X_val_tfidf, Y_train, Y_val, RandomForestClassifier)"
   ]
  },
  {
   "cell_type": "code",
   "execution_count": 39,
   "id": "515d2569",
   "metadata": {},
   "outputs": [
    {
     "name": "stdout",
     "output_type": "stream",
     "text": [
      "\n",
      "ROC AUC Score: 0.9813400414949097\n",
      "\n",
      "Log Loss: 0.2119915474744555\n",
      "---------------------------------\n",
      "\n",
      "              precision    recall  f1-score   support\n",
      "\n",
      "           0       0.92      0.99      0.95      2297\n",
      "           1       0.98      0.79      0.87       956\n",
      "\n",
      "    accuracy                           0.93      3253\n",
      "   macro avg       0.95      0.89      0.91      3253\n",
      "weighted avg       0.94      0.93      0.93      3253\n",
      "\n"
     ]
    },
    {
     "data": {
      "text/plain": [
       "(RandomForestClassifier(class_weight='balanced'),\n",
       "        Вероятность  Предсказанный класс  Истинный класс\n",
       " 7073      0.110000                    0               0\n",
       " 4068      0.029095                    0               0\n",
       " 14497     0.100000                    0               0\n",
       " 9775      0.137367                    0               0\n",
       " 6438      0.341921                    0               0\n",
       " ...            ...                  ...             ...\n",
       " 5753      0.310000                    0               1\n",
       " 13872     0.040000                    0               0\n",
       " 4762      0.910000                    1               1\n",
       " 4342      0.900000                    1               1\n",
       " 15864     0.092788                    0               0\n",
       " \n",
       " [3253 rows x 3 columns])"
      ]
     },
     "execution_count": 39,
     "metadata": {},
     "output_type": "execute_result"
    }
   ],
   "source": [
    "param_model = {'class_weight': 'balanced'}\n",
    "fit_and_compute_accuracy(X_train_tfidf, X_val_tfidf, Y_train, Y_val, RandomForestClassifier, param_model)"
   ]
  },
  {
   "cell_type": "code",
   "execution_count": 40,
   "id": "9b6fc10a",
   "metadata": {},
   "outputs": [
    {
     "name": "stdout",
     "output_type": "stream",
     "text": [
      "\n",
      "ROC AUC Score: 0.9788549918667793\n",
      "\n",
      "Log Loss: 0.2061505555411101\n",
      "---------------------------------\n",
      "\n",
      "              precision    recall  f1-score   support\n",
      "\n",
      "           0       0.92      0.99      0.95      2297\n",
      "           1       0.97      0.78      0.87       956\n",
      "\n",
      "    accuracy                           0.93      3253\n",
      "   macro avg       0.94      0.89      0.91      3253\n",
      "weighted avg       0.93      0.93      0.93      3253\n",
      "\n"
     ]
    },
    {
     "data": {
      "text/plain": [
       "(RandomForestClassifier(class_weight={0: 0.7, 1: 0.3}),\n",
       "        Вероятность  Предсказанный класс  Истинный класс\n",
       " 7073      0.080000                    0               0\n",
       " 4068      0.002935                    0               0\n",
       " 14497     0.020000                    0               0\n",
       " 9775      0.291064                    0               0\n",
       " 6438      0.420246                    0               0\n",
       " ...            ...                  ...             ...\n",
       " 5753      0.290000                    0               1\n",
       " 13872     0.000000                    0               0\n",
       " 4762      0.870000                    1               1\n",
       " 4342      0.860000                    1               1\n",
       " 15864     0.040455                    0               0\n",
       " \n",
       " [3253 rows x 3 columns])"
      ]
     },
     "execution_count": 40,
     "metadata": {},
     "output_type": "execute_result"
    }
   ],
   "source": [
    "param_model = {'class_weight': {0: 0.7, 1: 0.3}}\n",
    "fit_and_compute_accuracy(X_train_tfidf, X_val_tfidf, Y_train, Y_val, RandomForestClassifier, param_model)"
   ]
  },
  {
   "cell_type": "markdown",
   "id": "1c64ba85",
   "metadata": {},
   "source": [
    "Обе модели демонстрируют высокие показатели точности, полноты и F1-меры для обоих классов. Они показывают почти одинаковые результаты по всем метрикам, что указывает на то, что обе модели хорошо справляются с задачей классификации спама и не спама.\n",
    "\n",
    "Однако следует отметить, что recall (полнота) для класса 1 (спам) немного ниже, чем для класса 0 (не спам), что может указывать на то, что модели склонны недооценивать спамовые сообщения. Возможно, улучшение работы с классом спама потребует дополнительных мер или настроек модели.\n",
    "\n",
    "В целом, обе модели хорошо справляются с задачей классификации текста, и выбор между ними может зависеть от конкретных требований проекта, времени обучения или других факторов."
   ]
  },
  {
   "cell_type": "markdown",
   "id": "da561633",
   "metadata": {},
   "source": [
    "## CatBoostClassifier"
   ]
  },
  {
   "cell_type": "code",
   "execution_count": 41,
   "id": "769a2d0e",
   "metadata": {},
   "outputs": [
    {
     "name": "stdout",
     "output_type": "stream",
     "text": [
      "0:\tlearn: 0.5970851\ttotal: 205ms\tremaining: 3m 24s\n",
      "100:\tlearn: 0.1926003\ttotal: 12.2s\tremaining: 1m 48s\n",
      "200:\tlearn: 0.1564182\ttotal: 23.7s\tremaining: 1m 34s\n",
      "300:\tlearn: 0.1392022\ttotal: 34.9s\tremaining: 1m 21s\n",
      "400:\tlearn: 0.1296646\ttotal: 46.1s\tremaining: 1m 8s\n",
      "500:\tlearn: 0.1207290\ttotal: 57.3s\tremaining: 57.1s\n",
      "600:\tlearn: 0.1152992\ttotal: 1m 8s\tremaining: 45.3s\n",
      "700:\tlearn: 0.1104973\ttotal: 1m 19s\tremaining: 33.8s\n",
      "800:\tlearn: 0.1065606\ttotal: 1m 30s\tremaining: 22.4s\n",
      "900:\tlearn: 0.1034300\ttotal: 1m 41s\tremaining: 11.1s\n",
      "999:\tlearn: 0.1008175\ttotal: 1m 51s\tremaining: 0us\n",
      "\n",
      "ROC AUC Score: 0.9734650253286532\n",
      "\n",
      "Log Loss: 0.21603331629110478\n",
      "---------------------------------\n",
      "\n",
      "              precision    recall  f1-score   support\n",
      "\n",
      "           0       0.90      0.99      0.94      2297\n",
      "           1       0.97      0.72      0.83       956\n",
      "\n",
      "    accuracy                           0.91      3253\n",
      "   macro avg       0.93      0.86      0.88      3253\n",
      "weighted avg       0.92      0.91      0.91      3253\n",
      "\n"
     ]
    },
    {
     "data": {
      "text/plain": [
       "(<catboost.core.CatBoostClassifier at 0x28d86178310>,\n",
       "        Вероятность  Предсказанный класс  Истинный класс\n",
       " 7073      0.066210                    0               0\n",
       " 4068      0.045229                    0               0\n",
       " 14497     0.045229                    0               0\n",
       " 9775      0.157763                    0               0\n",
       " 6438      0.339563                    0               0\n",
       " ...            ...                  ...             ...\n",
       " 5753      0.744127                    1               1\n",
       " 13872     0.001870                    0               0\n",
       " 4762      0.958984                    1               1\n",
       " 4342      0.965162                    1               1\n",
       " 15864     0.000865                    0               0\n",
       " \n",
       " [3253 rows x 3 columns])"
      ]
     },
     "execution_count": 41,
     "metadata": {},
     "output_type": "execute_result"
    }
   ],
   "source": [
    "param_cb = {\n",
    "    'iterations': 1000, \n",
    "    'learning_rate': 0.1, \n",
    "    'depth': 6, \n",
    "    'loss_function': 'Logloss',\n",
    "    'verbose': 100,\n",
    "    'task_type': 'GPU',\n",
    "    'class_weights': {0: 0.7, 1: 0.3}\n",
    "}\n",
    "\n",
    "fit_and_compute_accuracy(X_train_tfidf, X_val_tfidf, Y_train, Y_val, CatBoostClassifier, param_cb)"
   ]
  },
  {
   "cell_type": "code",
   "execution_count": 42,
   "id": "22201f44",
   "metadata": {},
   "outputs": [
    {
     "name": "stdout",
     "output_type": "stream",
     "text": [
      "0:\tlearn: 0.6392260\ttotal: 148ms\tremaining: 2m 27s\n",
      "100:\tlearn: 0.2849473\ttotal: 12.2s\tremaining: 1m 48s\n",
      "200:\tlearn: 0.2279091\ttotal: 23.6s\tremaining: 1m 33s\n",
      "300:\tlearn: 0.2009894\ttotal: 34.8s\tremaining: 1m 20s\n",
      "400:\tlearn: 0.1854927\ttotal: 45.8s\tremaining: 1m 8s\n",
      "500:\tlearn: 0.1784872\ttotal: 56.8s\tremaining: 56.6s\n",
      "600:\tlearn: 0.1719324\ttotal: 1m 7s\tremaining: 45s\n",
      "700:\tlearn: 0.1614969\ttotal: 1m 18s\tremaining: 33.7s\n",
      "800:\tlearn: 0.1581074\ttotal: 1m 29s\tremaining: 22.3s\n",
      "900:\tlearn: 0.1483670\ttotal: 1m 40s\tremaining: 11.1s\n",
      "999:\tlearn: 0.1444437\ttotal: 1m 51s\tremaining: 0us\n",
      "\n",
      "ROC AUC Score: 0.9760468448021159\n",
      "\n",
      "Log Loss: 0.20367987328955955\n",
      "---------------------------------\n",
      "\n",
      "              precision    recall  f1-score   support\n",
      "\n",
      "           0       0.95      0.96      0.96      2297\n",
      "           1       0.91      0.88      0.90       956\n",
      "\n",
      "    accuracy                           0.94      3253\n",
      "   macro avg       0.93      0.92      0.93      3253\n",
      "weighted avg       0.94      0.94      0.94      3253\n",
      "\n"
     ]
    },
    {
     "data": {
      "text/plain": [
       "(<catboost.core.CatBoostClassifier at 0x28d86386b90>,\n",
       "        Вероятность  Предсказанный класс  Истинный класс\n",
       " 7073      0.187582                    0               0\n",
       " 4068      0.133556                    0               0\n",
       " 14497     0.130505                    0               0\n",
       " 9775      0.475511                    0               0\n",
       " 6438      0.454839                    0               0\n",
       " ...            ...                  ...             ...\n",
       " 5753      0.790006                    1               1\n",
       " 13872     0.013883                    0               0\n",
       " 4762      0.968584                    1               1\n",
       " 4342      0.952011                    1               1\n",
       " 15864     0.000548                    0               0\n",
       " \n",
       " [3253 rows x 3 columns])"
      ]
     },
     "execution_count": 42,
     "metadata": {},
     "output_type": "execute_result"
    }
   ],
   "source": [
    "param_cb = {\n",
    "    'iterations': 1000, \n",
    "    'learning_rate': 0.1, \n",
    "    'depth': 6, \n",
    "    'loss_function': 'Logloss',\n",
    "    'verbose': 100,\n",
    "    'task_type': 'GPU',\n",
    "    'auto_class_weights': 'Balanced'\n",
    "}\n",
    "\n",
    "fit_and_compute_accuracy(X_train_tfidf, X_val_tfidf, Y_train, Y_val, CatBoostClassifier, param_cb)"
   ]
  },
  {
   "cell_type": "markdown",
   "id": "70b8154a",
   "metadata": {},
   "source": [
    "Ранее я удалил все строки, содержащие эмодзи, сейчас я хочу попробовать оставить эти строки и обучить модель вместе с ними"
   ]
  },
  {
   "cell_type": "code",
   "execution_count": 44,
   "id": "265185ac",
   "metadata": {},
   "outputs": [
    {
     "data": {
      "text/html": [
       "<div>\n",
       "<style scoped>\n",
       "    .dataframe tbody tr th:only-of-type {\n",
       "        vertical-align: middle;\n",
       "    }\n",
       "\n",
       "    .dataframe tbody tr th {\n",
       "        vertical-align: top;\n",
       "    }\n",
       "\n",
       "    .dataframe thead th {\n",
       "        text-align: right;\n",
       "    }\n",
       "</style>\n",
       "<table border=\"1\" class=\"dataframe\">\n",
       "  <thead>\n",
       "    <tr style=\"text-align: right;\">\n",
       "      <th></th>\n",
       "      <th>text_type</th>\n",
       "      <th>text</th>\n",
       "      <th>length</th>\n",
       "      <th>num_words</th>\n",
       "      <th>label</th>\n",
       "    </tr>\n",
       "  </thead>\n",
       "  <tbody>\n",
       "    <tr>\n",
       "      <th>0</th>\n",
       "      <td>ham</td>\n",
       "      <td>make sure alex knows his birthday is over in f...</td>\n",
       "      <td>86</td>\n",
       "      <td>16</td>\n",
       "      <td>0</td>\n",
       "    </tr>\n",
       "    <tr>\n",
       "      <th>1</th>\n",
       "      <td>ham</td>\n",
       "      <td>a resume for john lavorato thanks vince i will...</td>\n",
       "      <td>520</td>\n",
       "      <td>97</td>\n",
       "      <td>0</td>\n",
       "    </tr>\n",
       "    <tr>\n",
       "      <th>2</th>\n",
       "      <td>spam</td>\n",
       "      <td>plzz visit my website moviesgodml to get all m...</td>\n",
       "      <td>126</td>\n",
       "      <td>22</td>\n",
       "      <td>1</td>\n",
       "    </tr>\n",
       "    <tr>\n",
       "      <th>3</th>\n",
       "      <td>spam</td>\n",
       "      <td>urgent your mobile number has been awarded wit...</td>\n",
       "      <td>139</td>\n",
       "      <td>23</td>\n",
       "      <td>1</td>\n",
       "    </tr>\n",
       "    <tr>\n",
       "      <th>4</th>\n",
       "      <td>ham</td>\n",
       "      <td>overview of hr associates analyst project per ...</td>\n",
       "      <td>733</td>\n",
       "      <td>127</td>\n",
       "      <td>0</td>\n",
       "    </tr>\n",
       "    <tr>\n",
       "      <th>...</th>\n",
       "      <td>...</td>\n",
       "      <td>...</td>\n",
       "      <td>...</td>\n",
       "      <td>...</td>\n",
       "      <td>...</td>\n",
       "    </tr>\n",
       "    <tr>\n",
       "      <th>16273</th>\n",
       "      <td>spam</td>\n",
       "      <td>if you are interested in binary options tradin...</td>\n",
       "      <td>114</td>\n",
       "      <td>18</td>\n",
       "      <td>1</td>\n",
       "    </tr>\n",
       "    <tr>\n",
       "      <th>16274</th>\n",
       "      <td>spam</td>\n",
       "      <td>dirty pictureblyk on aircel thanks you for bei...</td>\n",
       "      <td>454</td>\n",
       "      <td>73</td>\n",
       "      <td>1</td>\n",
       "    </tr>\n",
       "    <tr>\n",
       "      <th>16275</th>\n",
       "      <td>ham</td>\n",
       "      <td>or you could do this g on mon 1635465 sep 1635...</td>\n",
       "      <td>799</td>\n",
       "      <td>147</td>\n",
       "      <td>0</td>\n",
       "    </tr>\n",
       "    <tr>\n",
       "      <th>16276</th>\n",
       "      <td>ham</td>\n",
       "      <td>insta reels par 80 गंद bhara pada hai 👀 kuch b...</td>\n",
       "      <td>102</td>\n",
       "      <td>20</td>\n",
       "      <td>0</td>\n",
       "    </tr>\n",
       "    <tr>\n",
       "      <th>16277</th>\n",
       "      <td>ham</td>\n",
       "      <td>alex s paper comments 1 in the sentence betwee...</td>\n",
       "      <td>745</td>\n",
       "      <td>140</td>\n",
       "      <td>0</td>\n",
       "    </tr>\n",
       "  </tbody>\n",
       "</table>\n",
       "<p>16278 rows × 5 columns</p>\n",
       "</div>"
      ],
      "text/plain": [
       "      text_type                                               text  length  \\\n",
       "0           ham  make sure alex knows his birthday is over in f...      86   \n",
       "1           ham  a resume for john lavorato thanks vince i will...     520   \n",
       "2          spam  plzz visit my website moviesgodml to get all m...     126   \n",
       "3          spam  urgent your mobile number has been awarded wit...     139   \n",
       "4           ham  overview of hr associates analyst project per ...     733   \n",
       "...         ...                                                ...     ...   \n",
       "16273      spam  if you are interested in binary options tradin...     114   \n",
       "16274      spam  dirty pictureblyk on aircel thanks you for bei...     454   \n",
       "16275       ham  or you could do this g on mon 1635465 sep 1635...     799   \n",
       "16276       ham  insta reels par 80 गंद bhara pada hai 👀 kuch b...     102   \n",
       "16277       ham  alex s paper comments 1 in the sentence betwee...     745   \n",
       "\n",
       "       num_words  label  \n",
       "0             16      0  \n",
       "1             97      0  \n",
       "2             22      1  \n",
       "3             23      1  \n",
       "4            127      0  \n",
       "...          ...    ...  \n",
       "16273         18      1  \n",
       "16274         73      1  \n",
       "16275        147      0  \n",
       "16276         20      0  \n",
       "16277        140      0  \n",
       "\n",
       "[16278 rows x 5 columns]"
      ]
     },
     "execution_count": 44,
     "metadata": {},
     "output_type": "execute_result"
    }
   ],
   "source": [
    "data_for_catboost = train_df.copy()\n",
    "data_for_catboost"
   ]
  },
  {
   "cell_type": "code",
   "execution_count": 45,
   "id": "89ccca4f",
   "metadata": {},
   "outputs": [
    {
     "data": {
      "text/html": [
       "<div>\n",
       "<style scoped>\n",
       "    .dataframe tbody tr th:only-of-type {\n",
       "        vertical-align: middle;\n",
       "    }\n",
       "\n",
       "    .dataframe tbody tr th {\n",
       "        vertical-align: top;\n",
       "    }\n",
       "\n",
       "    .dataframe thead th {\n",
       "        text-align: right;\n",
       "    }\n",
       "</style>\n",
       "<table border=\"1\" class=\"dataframe\">\n",
       "  <thead>\n",
       "    <tr style=\"text-align: right;\">\n",
       "      <th></th>\n",
       "      <th>text_type</th>\n",
       "      <th>text</th>\n",
       "      <th>length</th>\n",
       "      <th>num_words</th>\n",
       "      <th>label</th>\n",
       "    </tr>\n",
       "  </thead>\n",
       "  <tbody>\n",
       "    <tr>\n",
       "      <th>5661</th>\n",
       "      <td>ham</td>\n",
       "      <td>🙁</td>\n",
       "      <td>1</td>\n",
       "      <td>0</td>\n",
       "      <td>0</td>\n",
       "    </tr>\n",
       "    <tr>\n",
       "      <th>6798</th>\n",
       "      <td>ham</td>\n",
       "      <td>👍</td>\n",
       "      <td>1</td>\n",
       "      <td>0</td>\n",
       "      <td>0</td>\n",
       "    </tr>\n",
       "    <tr>\n",
       "      <th>8865</th>\n",
       "      <td>ham</td>\n",
       "      <td>😊</td>\n",
       "      <td>1</td>\n",
       "      <td>0</td>\n",
       "      <td>0</td>\n",
       "    </tr>\n",
       "    <tr>\n",
       "      <th>9317</th>\n",
       "      <td>spam</td>\n",
       "      <td>✅✅✅✅✅✅✅✅✅✅✅✅✅</td>\n",
       "      <td>13</td>\n",
       "      <td>0</td>\n",
       "      <td>1</td>\n",
       "    </tr>\n",
       "    <tr>\n",
       "      <th>11547</th>\n",
       "      <td>ham</td>\n",
       "      <td>😳😳</td>\n",
       "      <td>2</td>\n",
       "      <td>0</td>\n",
       "      <td>0</td>\n",
       "    </tr>\n",
       "    <tr>\n",
       "      <th>14258</th>\n",
       "      <td>ham</td>\n",
       "      <td>😐</td>\n",
       "      <td>1</td>\n",
       "      <td>0</td>\n",
       "      <td>0</td>\n",
       "    </tr>\n",
       "  </tbody>\n",
       "</table>\n",
       "</div>"
      ],
      "text/plain": [
       "      text_type           text  length  num_words  label\n",
       "5661        ham              🙁       1          0      0\n",
       "6798        ham              👍       1          0      0\n",
       "8865        ham              😊       1          0      0\n",
       "9317       spam  ✅✅✅✅✅✅✅✅✅✅✅✅✅      13          0      1\n",
       "11547       ham             😳😳       2          0      0\n",
       "14258       ham              😐       1          0      0"
      ]
     },
     "execution_count": 45,
     "metadata": {},
     "output_type": "execute_result"
    }
   ],
   "source": [
    "data_for_catboost.loc[data_for_catboost['num_words'] == 0]"
   ]
  },
  {
   "cell_type": "code",
   "execution_count": 46,
   "id": "3856d611",
   "metadata": {},
   "outputs": [
    {
     "data": {
      "text/html": [
       "<div>\n",
       "<style scoped>\n",
       "    .dataframe tbody tr th:only-of-type {\n",
       "        vertical-align: middle;\n",
       "    }\n",
       "\n",
       "    .dataframe tbody tr th {\n",
       "        vertical-align: top;\n",
       "    }\n",
       "\n",
       "    .dataframe thead th {\n",
       "        text-align: right;\n",
       "    }\n",
       "</style>\n",
       "<table border=\"1\" class=\"dataframe\">\n",
       "  <thead>\n",
       "    <tr style=\"text-align: right;\">\n",
       "      <th></th>\n",
       "      <th>text_type</th>\n",
       "      <th>text</th>\n",
       "      <th>length</th>\n",
       "      <th>num_words</th>\n",
       "      <th>label</th>\n",
       "    </tr>\n",
       "  </thead>\n",
       "  <tbody>\n",
       "    <tr>\n",
       "      <th>5661</th>\n",
       "      <td>ham</td>\n",
       "      <td>🙁</td>\n",
       "      <td>1</td>\n",
       "      <td>0</td>\n",
       "      <td>0</td>\n",
       "    </tr>\n",
       "    <tr>\n",
       "      <th>6798</th>\n",
       "      <td>ham</td>\n",
       "      <td>👍</td>\n",
       "      <td>1</td>\n",
       "      <td>0</td>\n",
       "      <td>0</td>\n",
       "    </tr>\n",
       "    <tr>\n",
       "      <th>6888</th>\n",
       "      <td>ham</td>\n",
       "      <td>o</td>\n",
       "      <td>1</td>\n",
       "      <td>1</td>\n",
       "      <td>0</td>\n",
       "    </tr>\n",
       "    <tr>\n",
       "      <th>8114</th>\n",
       "      <td>ham</td>\n",
       "      <td>k</td>\n",
       "      <td>1</td>\n",
       "      <td>1</td>\n",
       "      <td>0</td>\n",
       "    </tr>\n",
       "    <tr>\n",
       "      <th>8402</th>\n",
       "      <td>ham</td>\n",
       "      <td>f</td>\n",
       "      <td>1</td>\n",
       "      <td>1</td>\n",
       "      <td>0</td>\n",
       "    </tr>\n",
       "    <tr>\n",
       "      <th>8865</th>\n",
       "      <td>ham</td>\n",
       "      <td>😊</td>\n",
       "      <td>1</td>\n",
       "      <td>0</td>\n",
       "      <td>0</td>\n",
       "    </tr>\n",
       "    <tr>\n",
       "      <th>14258</th>\n",
       "      <td>ham</td>\n",
       "      <td>😐</td>\n",
       "      <td>1</td>\n",
       "      <td>0</td>\n",
       "      <td>0</td>\n",
       "    </tr>\n",
       "    <tr>\n",
       "      <th>14344</th>\n",
       "      <td>ham</td>\n",
       "      <td>i</td>\n",
       "      <td>1</td>\n",
       "      <td>1</td>\n",
       "      <td>0</td>\n",
       "    </tr>\n",
       "  </tbody>\n",
       "</table>\n",
       "</div>"
      ],
      "text/plain": [
       "      text_type text  length  num_words  label\n",
       "5661        ham    🙁       1          0      0\n",
       "6798        ham    👍       1          0      0\n",
       "6888        ham    o       1          1      0\n",
       "8114        ham    k       1          1      0\n",
       "8402        ham    f       1          1      0\n",
       "8865        ham    😊       1          0      0\n",
       "14258       ham    😐       1          0      0\n",
       "14344       ham    i       1          1      0"
      ]
     },
     "execution_count": 46,
     "metadata": {},
     "output_type": "execute_result"
    }
   ],
   "source": [
    "data_for_catboost.loc[data_for_catboost['length'] == 1]"
   ]
  },
  {
   "cell_type": "markdown",
   "id": "4d5bb325",
   "metadata": {},
   "source": [
    "Как можно увидеть, мы удалили все сообщения, длина которых 0, но оставили сообщения, в которых количество слов 0, а длина сообщения != 0"
   ]
  },
  {
   "cell_type": "code",
   "execution_count": 47,
   "id": "4f0e3f63",
   "metadata": {},
   "outputs": [],
   "source": [
    "cb_tokenizer = Tokenizer(separator_type='BySense',\n",
    "                         token_types=['Word', 'Number', 'Unknown'])"
   ]
  },
  {
   "cell_type": "code",
   "execution_count": 48,
   "id": "d4eaa9d6",
   "metadata": {},
   "outputs": [],
   "source": [
    "def clean_sentence_cb(s):\n",
    "    stop_words = set(stopwords.words('english'))\n",
    "    s = s.translate(str.maketrans('','',string.punctuation))\n",
    "    tokens = cb_tokenizer.tokenize(s)\n",
    "    cleaned_s = [w for w in tokens if w not in stop_words]\n",
    "    return \" \".join(cleaned_s)\n",
    "\n",
    "data_for_catboost['text'] = data_for_catboost['text'].apply(clean_sentence_cb)"
   ]
  },
  {
   "cell_type": "code",
   "execution_count": 49,
   "id": "23e4fc76",
   "metadata": {},
   "outputs": [
    {
     "data": {
      "text/html": [
       "<div>\n",
       "<style scoped>\n",
       "    .dataframe tbody tr th:only-of-type {\n",
       "        vertical-align: middle;\n",
       "    }\n",
       "\n",
       "    .dataframe tbody tr th {\n",
       "        vertical-align: top;\n",
       "    }\n",
       "\n",
       "    .dataframe thead th {\n",
       "        text-align: right;\n",
       "    }\n",
       "</style>\n",
       "<table border=\"1\" class=\"dataframe\">\n",
       "  <thead>\n",
       "    <tr style=\"text-align: right;\">\n",
       "      <th></th>\n",
       "      <th>text_type</th>\n",
       "      <th>text</th>\n",
       "      <th>length</th>\n",
       "      <th>num_words</th>\n",
       "      <th>label</th>\n",
       "    </tr>\n",
       "  </thead>\n",
       "  <tbody>\n",
       "    <tr>\n",
       "      <th>0</th>\n",
       "      <td>ham</td>\n",
       "      <td>make sure alex knows birthday fifteen minutes ...</td>\n",
       "      <td>86</td>\n",
       "      <td>16</td>\n",
       "      <td>0</td>\n",
       "    </tr>\n",
       "    <tr>\n",
       "      <th>1</th>\n",
       "      <td>ham</td>\n",
       "      <td>resume john lavorato thanks vince get moving r...</td>\n",
       "      <td>520</td>\n",
       "      <td>97</td>\n",
       "      <td>0</td>\n",
       "    </tr>\n",
       "    <tr>\n",
       "      <th>2</th>\n",
       "      <td>spam</td>\n",
       "      <td>plzz visit website moviesgodml get movies free...</td>\n",
       "      <td>126</td>\n",
       "      <td>22</td>\n",
       "      <td>1</td>\n",
       "    </tr>\n",
       "    <tr>\n",
       "      <th>3</th>\n",
       "      <td>spam</td>\n",
       "      <td>urgent mobile number awarded £ 2000 prize guar...</td>\n",
       "      <td>139</td>\n",
       "      <td>23</td>\n",
       "      <td>1</td>\n",
       "    </tr>\n",
       "    <tr>\n",
       "      <th>4</th>\n",
       "      <td>ham</td>\n",
       "      <td>overview hr associates analyst project per dav...</td>\n",
       "      <td>733</td>\n",
       "      <td>127</td>\n",
       "      <td>0</td>\n",
       "    </tr>\n",
       "  </tbody>\n",
       "</table>\n",
       "</div>"
      ],
      "text/plain": [
       "  text_type                                               text  length  \\\n",
       "0       ham  make sure alex knows birthday fifteen minutes ...      86   \n",
       "1       ham  resume john lavorato thanks vince get moving r...     520   \n",
       "2      spam  plzz visit website moviesgodml get movies free...     126   \n",
       "3      spam  urgent mobile number awarded £ 2000 prize guar...     139   \n",
       "4       ham  overview hr associates analyst project per dav...     733   \n",
       "\n",
       "   num_words  label  \n",
       "0         16      0  \n",
       "1         97      0  \n",
       "2         22      1  \n",
       "3         23      1  \n",
       "4        127      0  "
      ]
     },
     "execution_count": 49,
     "metadata": {},
     "output_type": "execute_result"
    }
   ],
   "source": [
    "data_for_catboost.head()"
   ]
  },
  {
   "cell_type": "code",
   "execution_count": 50,
   "id": "cfdfb0de",
   "metadata": {},
   "outputs": [],
   "source": [
    "X_cb, y_cb = data_for_catboost['text'], data_for_catboost['label']\n",
    "\n",
    "X_train_cb, X_val_cb, y_train_cb, y_val_cb = train_test_split(X_cb, y_cb, test_size=0.2, random_state=26)\n"
   ]
  },
  {
   "cell_type": "code",
   "execution_count": 51,
   "id": "b5991728",
   "metadata": {},
   "outputs": [],
   "source": [
    "tfidf_vectorizer = TfidfVectorizer(stop_words='english', lowercase=True)\n",
    "X_train_cb_tfidf = tfidf_vectorizer.fit_transform(X_train_cb)\n",
    "X_val_cb_tfidf = tfidf_vectorizer.transform(X_val_cb)"
   ]
  },
  {
   "cell_type": "code",
   "execution_count": 55,
   "id": "bdf0347c",
   "metadata": {},
   "outputs": [
    {
     "data": {
      "text/plain": [
       "7075     𝑰 𝒓 𝒆 𝒂 𝒍 𝒍 𝒚 𝒂 𝒑 𝒑 𝒓 𝒆 𝒄 𝒊 𝒂 𝒕 𝒆 𝒂 𝒍 𝒍 𝒚 𝒐 𝒖 ...\n",
       "11401    4mths half price orange line rental latest cam...\n",
       "11877    petrochem desk vasant seems help kate help pro...\n",
       "9781     ➖ ➖ ➖ ➖ ➖ ➖ ➖ ➖ ➖ ➖ ➖ ➖ ⭕ 𝗦 𝗧 𝗘 𝗣 1 𝙹 𝙾 𝙸 𝙽 𝚃 ...\n",
       "15700           baby promise treat well bet take good care\n",
       "                               ...                        \n",
       "4763     another bad offrr w starred ant know save 60 p...\n",
       "5120        designation software developer may get chennai\n",
       "15878        evaluation form mike please sign return vince\n",
       "3258     url url date supplied nintendo newsletter 1635...\n",
       "12428                            url url date supplied url\n",
       "Name: text, Length: 3256, dtype: object"
      ]
     },
     "execution_count": 55,
     "metadata": {},
     "output_type": "execute_result"
    }
   ],
   "source": [
    "X_val_cb"
   ]
  },
  {
   "cell_type": "code",
   "execution_count": 52,
   "id": "86abf293",
   "metadata": {},
   "outputs": [
    {
     "name": "stdout",
     "output_type": "stream",
     "text": [
      "0:\tlearn: 0.6394086\ttotal: 134ms\tremaining: 2m 13s\n",
      "250:\tlearn: 0.2210131\ttotal: 28s\tremaining: 1m 23s\n",
      "500:\tlearn: 0.1937345\ttotal: 54.5s\tremaining: 54.3s\n",
      "750:\tlearn: 0.1708488\ttotal: 1m 21s\tremaining: 26.9s\n",
      "999:\tlearn: 0.1543909\ttotal: 1m 47s\tremaining: 0us\n",
      "\n",
      "ROC AUC Score: 0.9694090615422547\n",
      "\n",
      "Log Loss: 0.22454015348944512\n",
      "---------------------------------\n",
      "\n",
      "              precision    recall  f1-score   support\n",
      "\n",
      "           0       0.93      0.95      0.94      2282\n",
      "           1       0.88      0.84      0.86       974\n",
      "\n",
      "    accuracy                           0.92      3256\n",
      "   macro avg       0.91      0.90      0.90      3256\n",
      "weighted avg       0.92      0.92      0.92      3256\n",
      "\n"
     ]
    },
    {
     "ename": "AttributeError",
     "evalue": "'CatBoostClassifier' object has no attribute 'predictions'",
     "output_type": "error",
     "traceback": [
      "\u001b[1;31m---------------------------------------------------------------------------\u001b[0m",
      "\u001b[1;31mAttributeError\u001b[0m                            Traceback (most recent call last)",
      "Cell \u001b[1;32mIn[52], line 15\u001b[0m\n\u001b[0;32m     13\u001b[0m test_data \u001b[38;5;241m=\u001b[39m pd\u001b[38;5;241m.\u001b[39mread_csv(test_file_path)\n\u001b[0;32m     14\u001b[0m X_test \u001b[38;5;241m=\u001b[39m test_data[\u001b[38;5;124m'\u001b[39m\u001b[38;5;124mtext\u001b[39m\u001b[38;5;124m'\u001b[39m]\n\u001b[1;32m---> 15\u001b[0m predictions \u001b[38;5;241m=\u001b[39m \u001b[43mfinal_model\u001b[49m\u001b[38;5;241;43m.\u001b[39;49m\u001b[43mpredictions\u001b[49m(X_test)\n\u001b[0;32m     16\u001b[0m results_test_data \u001b[38;5;241m=\u001b[39m pd\u001b[38;5;241m.\u001b[39mDataFrame({\u001b[38;5;124m'\u001b[39m\u001b[38;5;124mscore\u001b[39m\u001b[38;5;124m'\u001b[39m: predictions, \u001b[38;5;124m'\u001b[39m\u001b[38;5;124mtext\u001b[39m\u001b[38;5;124m'\u001b[39m: X_test})\n\u001b[0;32m     17\u001b[0m results_test_data\u001b[38;5;241m.\u001b[39mto_csv(\u001b[38;5;124m'\u001b[39m\u001b[38;5;124mpredictions.csv\u001b[39m\u001b[38;5;124m'\u001b[39m, index\u001b[38;5;241m=\u001b[39m\u001b[38;5;28;01mFalse\u001b[39;00m)\n",
      "\u001b[1;31mAttributeError\u001b[0m: 'CatBoostClassifier' object has no attribute 'predictions'"
     ]
    }
   ],
   "source": [
    "param_cb = {\n",
    "    'iterations': 1000, \n",
    "    'learning_rate': 0.1, \n",
    "    'depth': 6, \n",
    "    'loss_function': 'Logloss',\n",
    "    'verbose': 250,\n",
    "    'task_type': 'GPU',\n",
    "    'auto_class_weights': 'Balanced'\n",
    "}\n",
    "\n",
    "final_model, results = fit_and_compute_accuracy(X_train_cb_tfidf, X_val_cb_tfidf, y_train_cb, y_val_cb, CatBoostClassifier, param_cb)\n",
    "\n"
   ]
  },
  {
   "cell_type": "markdown",
   "id": "ba92656a",
   "metadata": {},
   "source": [
    "# Сохраняем результаты модели на тестовых данных "
   ]
  },
  {
   "cell_type": "code",
   "execution_count": 58,
   "id": "ffea781c",
   "metadata": {},
   "outputs": [],
   "source": [
    "test_data = pd.read_csv(test_file_path)\n",
    "X_test = test_data['text']\n",
    "X_test = X_test.apply(clean_sentence_cb)\n",
    "X_test_tfidf = tfidf_vectorizer.transform(X_test)\n",
    "\n",
    "predictions_proba = final_model.predict_proba(X_test_tfidf)[:, 1]\n",
    "predictions = final_model.predict(X_test_tfidf)\n",
    "results_test_data = pd.DataFrame({'is_spam': predictions, 'score': predictions_proba, 'text': X_test})\n",
    "results_test_data.to_csv('predictions.csv', index=False)"
   ]
  },
  {
   "cell_type": "code",
   "execution_count": 61,
   "id": "4d4409dc",
   "metadata": {},
   "outputs": [
    {
     "data": {
      "text/plain": [
       "is_spam\n",
       "0    2875\n",
       "1    1195\n",
       "Name: count, dtype: int64"
      ]
     },
     "execution_count": 61,
     "metadata": {},
     "output_type": "execute_result"
    }
   ],
   "source": [
    "check = pd.read_csv(r\"C:\\Users\\Stepan\\Desktop\\vk_test\\predictions.csv\")\n",
    "check.value_counts('is_spam')"
   ]
  },
  {
   "cell_type": "code",
   "execution_count": null,
   "id": "66fc622e",
   "metadata": {},
   "outputs": [],
   "source": []
  },
  {
   "cell_type": "code",
   "execution_count": null,
   "id": "993f64c1",
   "metadata": {},
   "outputs": [],
   "source": []
  },
  {
   "cell_type": "code",
   "execution_count": null,
   "id": "515b1024",
   "metadata": {},
   "outputs": [],
   "source": []
  },
  {
   "cell_type": "code",
   "execution_count": null,
   "id": "0cd895ec",
   "metadata": {},
   "outputs": [],
   "source": []
  },
  {
   "cell_type": "code",
   "execution_count": null,
   "id": "6881778d",
   "metadata": {},
   "outputs": [],
   "source": []
  },
  {
   "cell_type": "code",
   "execution_count": null,
   "id": "bc2617ab",
   "metadata": {},
   "outputs": [],
   "source": []
  },
  {
   "cell_type": "code",
   "execution_count": null,
   "id": "bbc2a873",
   "metadata": {},
   "outputs": [],
   "source": []
  },
  {
   "cell_type": "code",
   "execution_count": null,
   "id": "9c1d595a",
   "metadata": {},
   "outputs": [],
   "source": []
  },
  {
   "cell_type": "code",
   "execution_count": null,
   "id": "8563db61",
   "metadata": {},
   "outputs": [],
   "source": []
  },
  {
   "cell_type": "code",
   "execution_count": null,
   "id": "206187d4",
   "metadata": {},
   "outputs": [],
   "source": []
  },
  {
   "cell_type": "code",
   "execution_count": null,
   "id": "dbec7e86",
   "metadata": {},
   "outputs": [],
   "source": []
  },
  {
   "cell_type": "code",
   "execution_count": null,
   "id": "5acedc7c",
   "metadata": {},
   "outputs": [],
   "source": []
  },
  {
   "cell_type": "markdown",
   "id": "72ae7893",
   "metadata": {},
   "source": [
    "# Loading the Pre-trained BERT model"
   ]
  },
  {
   "cell_type": "markdown",
   "id": "8599d920",
   "metadata": {},
   "source": [
    "Let's now load a pre-trained BERT model."
   ]
  },
  {
   "cell_type": "code",
   "execution_count": 103,
   "id": "6846e71c",
   "metadata": {},
   "outputs": [],
   "source": [
    "PRE_TRAINED_MODEL_NAME = 'bert-base-cased'\n",
    "device = torch.device('cuda' if torch.cuda.is_available() else 'cpu')\n",
    "tokenizer = BertTokenizer.from_pretrained(PRE_TRAINED_MODEL_NAME)\n",
    "EPOCHS=10\n",
    "MAX_LEN=512\n",
    "BATCH_SIZE=16\n",
    "LEARNING_RATE = 2e-5"
   ]
  },
  {
   "cell_type": "code",
   "execution_count": 126,
   "id": "7e075456",
   "metadata": {},
   "outputs": [],
   "source": [
    "df_bert = pd.read_csv(train_file_path)\n"
   ]
  },
  {
   "cell_type": "code",
   "execution_count": 134,
   "id": "ce3ee2eb",
   "metadata": {},
   "outputs": [],
   "source": [
    "model_class, tokenizer_class, pretrained_weights = (\n",
    "    ppb.BertModel,\n",
    "    ppb.BertTokenizer,\n",
    "    'bert-base-uncased'\n",
    ")\n",
    "\n",
    "tokenizer = tokenizer_class.from_pretrained(pretrained_weights)\n",
    "model = model_class.from_pretrained(pretrained_weights)"
   ]
  },
  {
   "cell_type": "code",
   "execution_count": null,
   "id": "c3d02155",
   "metadata": {},
   "outputs": [],
   "source": [
    "df_bert['text'] = df_bert['text'].apply(lambda x: x[:512])"
   ]
  },
  {
   "cell_type": "code",
   "execution_count": 136,
   "id": "4c600698",
   "metadata": {},
   "outputs": [],
   "source": [
    "tokenized = df_bert['text'].apply((lambda x: tokenizer.encode(x, add_special_tokens=True)))"
   ]
  },
  {
   "cell_type": "code",
   "execution_count": 137,
   "id": "ea329776",
   "metadata": {},
   "outputs": [
    {
     "data": {
      "text/plain": [
       "[101,\n",
       " 2191,\n",
       " 2469,\n",
       " 4074,\n",
       " 4282,\n",
       " 2010,\n",
       " 5798,\n",
       " 2003,\n",
       " 2058,\n",
       " 1999,\n",
       " 5417,\n",
       " 2781,\n",
       " 2004,\n",
       " 2521,\n",
       " 2004,\n",
       " 2115,\n",
       " 2063,\n",
       " 4986,\n",
       " 102]"
      ]
     },
     "execution_count": 137,
     "metadata": {},
     "output_type": "execute_result"
    }
   ],
   "source": [
    "tokenizer.encode(df_bert['text'][0], add_special_tokens=True)"
   ]
  },
  {
   "cell_type": "code",
   "execution_count": 138,
   "id": "3a5e42bf",
   "metadata": {},
   "outputs": [
    {
     "data": {
      "text/plain": [
       "OrderedDict([('[PAD]', 0),\n",
       "             ('[unused0]', 1),\n",
       "             ('[unused1]', 2),\n",
       "             ('[unused2]', 3),\n",
       "             ('[unused3]', 4),\n",
       "             ('[unused4]', 5),\n",
       "             ('[unused5]', 6),\n",
       "             ('[unused6]', 7),\n",
       "             ('[unused7]', 8),\n",
       "             ('[unused8]', 9),\n",
       "             ('[unused9]', 10),\n",
       "             ('[unused10]', 11),\n",
       "             ('[unused11]', 12),\n",
       "             ('[unused12]', 13),\n",
       "             ('[unused13]', 14),\n",
       "             ('[unused14]', 15),\n",
       "             ('[unused15]', 16),\n",
       "             ('[unused16]', 17),\n",
       "             ('[unused17]', 18),\n",
       "             ('[unused18]', 19),\n",
       "             ('[unused19]', 20),\n",
       "             ('[unused20]', 21),\n",
       "             ('[unused21]', 22),\n",
       "             ('[unused22]', 23),\n",
       "             ('[unused23]', 24),\n",
       "             ('[unused24]', 25),\n",
       "             ('[unused25]', 26),\n",
       "             ('[unused26]', 27),\n",
       "             ('[unused27]', 28),\n",
       "             ('[unused28]', 29),\n",
       "             ('[unused29]', 30),\n",
       "             ('[unused30]', 31),\n",
       "             ('[unused31]', 32),\n",
       "             ('[unused32]', 33),\n",
       "             ('[unused33]', 34),\n",
       "             ('[unused34]', 35),\n",
       "             ('[unused35]', 36),\n",
       "             ('[unused36]', 37),\n",
       "             ('[unused37]', 38),\n",
       "             ('[unused38]', 39),\n",
       "             ('[unused39]', 40),\n",
       "             ('[unused40]', 41),\n",
       "             ('[unused41]', 42),\n",
       "             ('[unused42]', 43),\n",
       "             ('[unused43]', 44),\n",
       "             ('[unused44]', 45),\n",
       "             ('[unused45]', 46),\n",
       "             ('[unused46]', 47),\n",
       "             ('[unused47]', 48),\n",
       "             ('[unused48]', 49),\n",
       "             ('[unused49]', 50),\n",
       "             ('[unused50]', 51),\n",
       "             ('[unused51]', 52),\n",
       "             ('[unused52]', 53),\n",
       "             ('[unused53]', 54),\n",
       "             ('[unused54]', 55),\n",
       "             ('[unused55]', 56),\n",
       "             ('[unused56]', 57),\n",
       "             ('[unused57]', 58),\n",
       "             ('[unused58]', 59),\n",
       "             ('[unused59]', 60),\n",
       "             ('[unused60]', 61),\n",
       "             ('[unused61]', 62),\n",
       "             ('[unused62]', 63),\n",
       "             ('[unused63]', 64),\n",
       "             ('[unused64]', 65),\n",
       "             ('[unused65]', 66),\n",
       "             ('[unused66]', 67),\n",
       "             ('[unused67]', 68),\n",
       "             ('[unused68]', 69),\n",
       "             ('[unused69]', 70),\n",
       "             ('[unused70]', 71),\n",
       "             ('[unused71]', 72),\n",
       "             ('[unused72]', 73),\n",
       "             ('[unused73]', 74),\n",
       "             ('[unused74]', 75),\n",
       "             ('[unused75]', 76),\n",
       "             ('[unused76]', 77),\n",
       "             ('[unused77]', 78),\n",
       "             ('[unused78]', 79),\n",
       "             ('[unused79]', 80),\n",
       "             ('[unused80]', 81),\n",
       "             ('[unused81]', 82),\n",
       "             ('[unused82]', 83),\n",
       "             ('[unused83]', 84),\n",
       "             ('[unused84]', 85),\n",
       "             ('[unused85]', 86),\n",
       "             ('[unused86]', 87),\n",
       "             ('[unused87]', 88),\n",
       "             ('[unused88]', 89),\n",
       "             ('[unused89]', 90),\n",
       "             ('[unused90]', 91),\n",
       "             ('[unused91]', 92),\n",
       "             ('[unused92]', 93),\n",
       "             ('[unused93]', 94),\n",
       "             ('[unused94]', 95),\n",
       "             ('[unused95]', 96),\n",
       "             ('[unused96]', 97),\n",
       "             ('[unused97]', 98),\n",
       "             ('[unused98]', 99),\n",
       "             ('[UNK]', 100),\n",
       "             ('[CLS]', 101),\n",
       "             ('[SEP]', 102),\n",
       "             ('[MASK]', 103),\n",
       "             ('[unused99]', 104),\n",
       "             ('[unused100]', 105),\n",
       "             ('[unused101]', 106),\n",
       "             ('[unused102]', 107),\n",
       "             ('[unused103]', 108),\n",
       "             ('[unused104]', 109),\n",
       "             ('[unused105]', 110),\n",
       "             ('[unused106]', 111),\n",
       "             ('[unused107]', 112),\n",
       "             ('[unused108]', 113),\n",
       "             ('[unused109]', 114),\n",
       "             ('[unused110]', 115),\n",
       "             ('[unused111]', 116),\n",
       "             ('[unused112]', 117),\n",
       "             ('[unused113]', 118),\n",
       "             ('[unused114]', 119),\n",
       "             ('[unused115]', 120),\n",
       "             ('[unused116]', 121),\n",
       "             ('[unused117]', 122),\n",
       "             ('[unused118]', 123),\n",
       "             ('[unused119]', 124),\n",
       "             ('[unused120]', 125),\n",
       "             ('[unused121]', 126),\n",
       "             ('[unused122]', 127),\n",
       "             ('[unused123]', 128),\n",
       "             ('[unused124]', 129),\n",
       "             ('[unused125]', 130),\n",
       "             ('[unused126]', 131),\n",
       "             ('[unused127]', 132),\n",
       "             ('[unused128]', 133),\n",
       "             ('[unused129]', 134),\n",
       "             ('[unused130]', 135),\n",
       "             ('[unused131]', 136),\n",
       "             ('[unused132]', 137),\n",
       "             ('[unused133]', 138),\n",
       "             ('[unused134]', 139),\n",
       "             ('[unused135]', 140),\n",
       "             ('[unused136]', 141),\n",
       "             ('[unused137]', 142),\n",
       "             ('[unused138]', 143),\n",
       "             ('[unused139]', 144),\n",
       "             ('[unused140]', 145),\n",
       "             ('[unused141]', 146),\n",
       "             ('[unused142]', 147),\n",
       "             ('[unused143]', 148),\n",
       "             ('[unused144]', 149),\n",
       "             ('[unused145]', 150),\n",
       "             ('[unused146]', 151),\n",
       "             ('[unused147]', 152),\n",
       "             ('[unused148]', 153),\n",
       "             ('[unused149]', 154),\n",
       "             ('[unused150]', 155),\n",
       "             ('[unused151]', 156),\n",
       "             ('[unused152]', 157),\n",
       "             ('[unused153]', 158),\n",
       "             ('[unused154]', 159),\n",
       "             ('[unused155]', 160),\n",
       "             ('[unused156]', 161),\n",
       "             ('[unused157]', 162),\n",
       "             ('[unused158]', 163),\n",
       "             ('[unused159]', 164),\n",
       "             ('[unused160]', 165),\n",
       "             ('[unused161]', 166),\n",
       "             ('[unused162]', 167),\n",
       "             ('[unused163]', 168),\n",
       "             ('[unused164]', 169),\n",
       "             ('[unused165]', 170),\n",
       "             ('[unused166]', 171),\n",
       "             ('[unused167]', 172),\n",
       "             ('[unused168]', 173),\n",
       "             ('[unused169]', 174),\n",
       "             ('[unused170]', 175),\n",
       "             ('[unused171]', 176),\n",
       "             ('[unused172]', 177),\n",
       "             ('[unused173]', 178),\n",
       "             ('[unused174]', 179),\n",
       "             ('[unused175]', 180),\n",
       "             ('[unused176]', 181),\n",
       "             ('[unused177]', 182),\n",
       "             ('[unused178]', 183),\n",
       "             ('[unused179]', 184),\n",
       "             ('[unused180]', 185),\n",
       "             ('[unused181]', 186),\n",
       "             ('[unused182]', 187),\n",
       "             ('[unused183]', 188),\n",
       "             ('[unused184]', 189),\n",
       "             ('[unused185]', 190),\n",
       "             ('[unused186]', 191),\n",
       "             ('[unused187]', 192),\n",
       "             ('[unused188]', 193),\n",
       "             ('[unused189]', 194),\n",
       "             ('[unused190]', 195),\n",
       "             ('[unused191]', 196),\n",
       "             ('[unused192]', 197),\n",
       "             ('[unused193]', 198),\n",
       "             ('[unused194]', 199),\n",
       "             ('[unused195]', 200),\n",
       "             ('[unused196]', 201),\n",
       "             ('[unused197]', 202),\n",
       "             ('[unused198]', 203),\n",
       "             ('[unused199]', 204),\n",
       "             ('[unused200]', 205),\n",
       "             ('[unused201]', 206),\n",
       "             ('[unused202]', 207),\n",
       "             ('[unused203]', 208),\n",
       "             ('[unused204]', 209),\n",
       "             ('[unused205]', 210),\n",
       "             ('[unused206]', 211),\n",
       "             ('[unused207]', 212),\n",
       "             ('[unused208]', 213),\n",
       "             ('[unused209]', 214),\n",
       "             ('[unused210]', 215),\n",
       "             ('[unused211]', 216),\n",
       "             ('[unused212]', 217),\n",
       "             ('[unused213]', 218),\n",
       "             ('[unused214]', 219),\n",
       "             ('[unused215]', 220),\n",
       "             ('[unused216]', 221),\n",
       "             ('[unused217]', 222),\n",
       "             ('[unused218]', 223),\n",
       "             ('[unused219]', 224),\n",
       "             ('[unused220]', 225),\n",
       "             ('[unused221]', 226),\n",
       "             ('[unused222]', 227),\n",
       "             ('[unused223]', 228),\n",
       "             ('[unused224]', 229),\n",
       "             ('[unused225]', 230),\n",
       "             ('[unused226]', 231),\n",
       "             ('[unused227]', 232),\n",
       "             ('[unused228]', 233),\n",
       "             ('[unused229]', 234),\n",
       "             ('[unused230]', 235),\n",
       "             ('[unused231]', 236),\n",
       "             ('[unused232]', 237),\n",
       "             ('[unused233]', 238),\n",
       "             ('[unused234]', 239),\n",
       "             ('[unused235]', 240),\n",
       "             ('[unused236]', 241),\n",
       "             ('[unused237]', 242),\n",
       "             ('[unused238]', 243),\n",
       "             ('[unused239]', 244),\n",
       "             ('[unused240]', 245),\n",
       "             ('[unused241]', 246),\n",
       "             ('[unused242]', 247),\n",
       "             ('[unused243]', 248),\n",
       "             ('[unused244]', 249),\n",
       "             ('[unused245]', 250),\n",
       "             ('[unused246]', 251),\n",
       "             ('[unused247]', 252),\n",
       "             ('[unused248]', 253),\n",
       "             ('[unused249]', 254),\n",
       "             ('[unused250]', 255),\n",
       "             ('[unused251]', 256),\n",
       "             ('[unused252]', 257),\n",
       "             ('[unused253]', 258),\n",
       "             ('[unused254]', 259),\n",
       "             ('[unused255]', 260),\n",
       "             ('[unused256]', 261),\n",
       "             ('[unused257]', 262),\n",
       "             ('[unused258]', 263),\n",
       "             ('[unused259]', 264),\n",
       "             ('[unused260]', 265),\n",
       "             ('[unused261]', 266),\n",
       "             ('[unused262]', 267),\n",
       "             ('[unused263]', 268),\n",
       "             ('[unused264]', 269),\n",
       "             ('[unused265]', 270),\n",
       "             ('[unused266]', 271),\n",
       "             ('[unused267]', 272),\n",
       "             ('[unused268]', 273),\n",
       "             ('[unused269]', 274),\n",
       "             ('[unused270]', 275),\n",
       "             ('[unused271]', 276),\n",
       "             ('[unused272]', 277),\n",
       "             ('[unused273]', 278),\n",
       "             ('[unused274]', 279),\n",
       "             ('[unused275]', 280),\n",
       "             ('[unused276]', 281),\n",
       "             ('[unused277]', 282),\n",
       "             ('[unused278]', 283),\n",
       "             ('[unused279]', 284),\n",
       "             ('[unused280]', 285),\n",
       "             ('[unused281]', 286),\n",
       "             ('[unused282]', 287),\n",
       "             ('[unused283]', 288),\n",
       "             ('[unused284]', 289),\n",
       "             ('[unused285]', 290),\n",
       "             ('[unused286]', 291),\n",
       "             ('[unused287]', 292),\n",
       "             ('[unused288]', 293),\n",
       "             ('[unused289]', 294),\n",
       "             ('[unused290]', 295),\n",
       "             ('[unused291]', 296),\n",
       "             ('[unused292]', 297),\n",
       "             ('[unused293]', 298),\n",
       "             ('[unused294]', 299),\n",
       "             ('[unused295]', 300),\n",
       "             ('[unused296]', 301),\n",
       "             ('[unused297]', 302),\n",
       "             ('[unused298]', 303),\n",
       "             ('[unused299]', 304),\n",
       "             ('[unused300]', 305),\n",
       "             ('[unused301]', 306),\n",
       "             ('[unused302]', 307),\n",
       "             ('[unused303]', 308),\n",
       "             ('[unused304]', 309),\n",
       "             ('[unused305]', 310),\n",
       "             ('[unused306]', 311),\n",
       "             ('[unused307]', 312),\n",
       "             ('[unused308]', 313),\n",
       "             ('[unused309]', 314),\n",
       "             ('[unused310]', 315),\n",
       "             ('[unused311]', 316),\n",
       "             ('[unused312]', 317),\n",
       "             ('[unused313]', 318),\n",
       "             ('[unused314]', 319),\n",
       "             ('[unused315]', 320),\n",
       "             ('[unused316]', 321),\n",
       "             ('[unused317]', 322),\n",
       "             ('[unused318]', 323),\n",
       "             ('[unused319]', 324),\n",
       "             ('[unused320]', 325),\n",
       "             ('[unused321]', 326),\n",
       "             ('[unused322]', 327),\n",
       "             ('[unused323]', 328),\n",
       "             ('[unused324]', 329),\n",
       "             ('[unused325]', 330),\n",
       "             ('[unused326]', 331),\n",
       "             ('[unused327]', 332),\n",
       "             ('[unused328]', 333),\n",
       "             ('[unused329]', 334),\n",
       "             ('[unused330]', 335),\n",
       "             ('[unused331]', 336),\n",
       "             ('[unused332]', 337),\n",
       "             ('[unused333]', 338),\n",
       "             ('[unused334]', 339),\n",
       "             ('[unused335]', 340),\n",
       "             ('[unused336]', 341),\n",
       "             ('[unused337]', 342),\n",
       "             ('[unused338]', 343),\n",
       "             ('[unused339]', 344),\n",
       "             ('[unused340]', 345),\n",
       "             ('[unused341]', 346),\n",
       "             ('[unused342]', 347),\n",
       "             ('[unused343]', 348),\n",
       "             ('[unused344]', 349),\n",
       "             ('[unused345]', 350),\n",
       "             ('[unused346]', 351),\n",
       "             ('[unused347]', 352),\n",
       "             ('[unused348]', 353),\n",
       "             ('[unused349]', 354),\n",
       "             ('[unused350]', 355),\n",
       "             ('[unused351]', 356),\n",
       "             ('[unused352]', 357),\n",
       "             ('[unused353]', 358),\n",
       "             ('[unused354]', 359),\n",
       "             ('[unused355]', 360),\n",
       "             ('[unused356]', 361),\n",
       "             ('[unused357]', 362),\n",
       "             ('[unused358]', 363),\n",
       "             ('[unused359]', 364),\n",
       "             ('[unused360]', 365),\n",
       "             ('[unused361]', 366),\n",
       "             ('[unused362]', 367),\n",
       "             ('[unused363]', 368),\n",
       "             ('[unused364]', 369),\n",
       "             ('[unused365]', 370),\n",
       "             ('[unused366]', 371),\n",
       "             ('[unused367]', 372),\n",
       "             ('[unused368]', 373),\n",
       "             ('[unused369]', 374),\n",
       "             ('[unused370]', 375),\n",
       "             ('[unused371]', 376),\n",
       "             ('[unused372]', 377),\n",
       "             ('[unused373]', 378),\n",
       "             ('[unused374]', 379),\n",
       "             ('[unused375]', 380),\n",
       "             ('[unused376]', 381),\n",
       "             ('[unused377]', 382),\n",
       "             ('[unused378]', 383),\n",
       "             ('[unused379]', 384),\n",
       "             ('[unused380]', 385),\n",
       "             ('[unused381]', 386),\n",
       "             ('[unused382]', 387),\n",
       "             ('[unused383]', 388),\n",
       "             ('[unused384]', 389),\n",
       "             ('[unused385]', 390),\n",
       "             ('[unused386]', 391),\n",
       "             ('[unused387]', 392),\n",
       "             ('[unused388]', 393),\n",
       "             ('[unused389]', 394),\n",
       "             ('[unused390]', 395),\n",
       "             ('[unused391]', 396),\n",
       "             ('[unused392]', 397),\n",
       "             ('[unused393]', 398),\n",
       "             ('[unused394]', 399),\n",
       "             ('[unused395]', 400),\n",
       "             ('[unused396]', 401),\n",
       "             ('[unused397]', 402),\n",
       "             ('[unused398]', 403),\n",
       "             ('[unused399]', 404),\n",
       "             ('[unused400]', 405),\n",
       "             ('[unused401]', 406),\n",
       "             ('[unused402]', 407),\n",
       "             ('[unused403]', 408),\n",
       "             ('[unused404]', 409),\n",
       "             ('[unused405]', 410),\n",
       "             ('[unused406]', 411),\n",
       "             ('[unused407]', 412),\n",
       "             ('[unused408]', 413),\n",
       "             ('[unused409]', 414),\n",
       "             ('[unused410]', 415),\n",
       "             ('[unused411]', 416),\n",
       "             ('[unused412]', 417),\n",
       "             ('[unused413]', 418),\n",
       "             ('[unused414]', 419),\n",
       "             ('[unused415]', 420),\n",
       "             ('[unused416]', 421),\n",
       "             ('[unused417]', 422),\n",
       "             ('[unused418]', 423),\n",
       "             ('[unused419]', 424),\n",
       "             ('[unused420]', 425),\n",
       "             ('[unused421]', 426),\n",
       "             ('[unused422]', 427),\n",
       "             ('[unused423]', 428),\n",
       "             ('[unused424]', 429),\n",
       "             ('[unused425]', 430),\n",
       "             ('[unused426]', 431),\n",
       "             ('[unused427]', 432),\n",
       "             ('[unused428]', 433),\n",
       "             ('[unused429]', 434),\n",
       "             ('[unused430]', 435),\n",
       "             ('[unused431]', 436),\n",
       "             ('[unused432]', 437),\n",
       "             ('[unused433]', 438),\n",
       "             ('[unused434]', 439),\n",
       "             ('[unused435]', 440),\n",
       "             ('[unused436]', 441),\n",
       "             ('[unused437]', 442),\n",
       "             ('[unused438]', 443),\n",
       "             ('[unused439]', 444),\n",
       "             ('[unused440]', 445),\n",
       "             ('[unused441]', 446),\n",
       "             ('[unused442]', 447),\n",
       "             ('[unused443]', 448),\n",
       "             ('[unused444]', 449),\n",
       "             ('[unused445]', 450),\n",
       "             ('[unused446]', 451),\n",
       "             ('[unused447]', 452),\n",
       "             ('[unused448]', 453),\n",
       "             ('[unused449]', 454),\n",
       "             ('[unused450]', 455),\n",
       "             ('[unused451]', 456),\n",
       "             ('[unused452]', 457),\n",
       "             ('[unused453]', 458),\n",
       "             ('[unused454]', 459),\n",
       "             ('[unused455]', 460),\n",
       "             ('[unused456]', 461),\n",
       "             ('[unused457]', 462),\n",
       "             ('[unused458]', 463),\n",
       "             ('[unused459]', 464),\n",
       "             ('[unused460]', 465),\n",
       "             ('[unused461]', 466),\n",
       "             ('[unused462]', 467),\n",
       "             ('[unused463]', 468),\n",
       "             ('[unused464]', 469),\n",
       "             ('[unused465]', 470),\n",
       "             ('[unused466]', 471),\n",
       "             ('[unused467]', 472),\n",
       "             ('[unused468]', 473),\n",
       "             ('[unused469]', 474),\n",
       "             ('[unused470]', 475),\n",
       "             ('[unused471]', 476),\n",
       "             ('[unused472]', 477),\n",
       "             ('[unused473]', 478),\n",
       "             ('[unused474]', 479),\n",
       "             ('[unused475]', 480),\n",
       "             ('[unused476]', 481),\n",
       "             ('[unused477]', 482),\n",
       "             ('[unused478]', 483),\n",
       "             ('[unused479]', 484),\n",
       "             ('[unused480]', 485),\n",
       "             ('[unused481]', 486),\n",
       "             ('[unused482]', 487),\n",
       "             ('[unused483]', 488),\n",
       "             ('[unused484]', 489),\n",
       "             ('[unused485]', 490),\n",
       "             ('[unused486]', 491),\n",
       "             ('[unused487]', 492),\n",
       "             ('[unused488]', 493),\n",
       "             ('[unused489]', 494),\n",
       "             ('[unused490]', 495),\n",
       "             ('[unused491]', 496),\n",
       "             ('[unused492]', 497),\n",
       "             ('[unused493]', 498),\n",
       "             ('[unused494]', 499),\n",
       "             ('[unused495]', 500),\n",
       "             ('[unused496]', 501),\n",
       "             ('[unused497]', 502),\n",
       "             ('[unused498]', 503),\n",
       "             ('[unused499]', 504),\n",
       "             ('[unused500]', 505),\n",
       "             ('[unused501]', 506),\n",
       "             ('[unused502]', 507),\n",
       "             ('[unused503]', 508),\n",
       "             ('[unused504]', 509),\n",
       "             ('[unused505]', 510),\n",
       "             ('[unused506]', 511),\n",
       "             ('[unused507]', 512),\n",
       "             ('[unused508]', 513),\n",
       "             ('[unused509]', 514),\n",
       "             ('[unused510]', 515),\n",
       "             ('[unused511]', 516),\n",
       "             ('[unused512]', 517),\n",
       "             ('[unused513]', 518),\n",
       "             ('[unused514]', 519),\n",
       "             ('[unused515]', 520),\n",
       "             ('[unused516]', 521),\n",
       "             ('[unused517]', 522),\n",
       "             ('[unused518]', 523),\n",
       "             ('[unused519]', 524),\n",
       "             ('[unused520]', 525),\n",
       "             ('[unused521]', 526),\n",
       "             ('[unused522]', 527),\n",
       "             ('[unused523]', 528),\n",
       "             ('[unused524]', 529),\n",
       "             ('[unused525]', 530),\n",
       "             ('[unused526]', 531),\n",
       "             ('[unused527]', 532),\n",
       "             ('[unused528]', 533),\n",
       "             ('[unused529]', 534),\n",
       "             ('[unused530]', 535),\n",
       "             ('[unused531]', 536),\n",
       "             ('[unused532]', 537),\n",
       "             ('[unused533]', 538),\n",
       "             ('[unused534]', 539),\n",
       "             ('[unused535]', 540),\n",
       "             ('[unused536]', 541),\n",
       "             ('[unused537]', 542),\n",
       "             ('[unused538]', 543),\n",
       "             ('[unused539]', 544),\n",
       "             ('[unused540]', 545),\n",
       "             ('[unused541]', 546),\n",
       "             ('[unused542]', 547),\n",
       "             ('[unused543]', 548),\n",
       "             ('[unused544]', 549),\n",
       "             ('[unused545]', 550),\n",
       "             ('[unused546]', 551),\n",
       "             ('[unused547]', 552),\n",
       "             ('[unused548]', 553),\n",
       "             ('[unused549]', 554),\n",
       "             ('[unused550]', 555),\n",
       "             ('[unused551]', 556),\n",
       "             ('[unused552]', 557),\n",
       "             ('[unused553]', 558),\n",
       "             ('[unused554]', 559),\n",
       "             ('[unused555]', 560),\n",
       "             ('[unused556]', 561),\n",
       "             ('[unused557]', 562),\n",
       "             ('[unused558]', 563),\n",
       "             ('[unused559]', 564),\n",
       "             ('[unused560]', 565),\n",
       "             ('[unused561]', 566),\n",
       "             ('[unused562]', 567),\n",
       "             ('[unused563]', 568),\n",
       "             ('[unused564]', 569),\n",
       "             ('[unused565]', 570),\n",
       "             ('[unused566]', 571),\n",
       "             ('[unused567]', 572),\n",
       "             ('[unused568]', 573),\n",
       "             ('[unused569]', 574),\n",
       "             ('[unused570]', 575),\n",
       "             ('[unused571]', 576),\n",
       "             ('[unused572]', 577),\n",
       "             ('[unused573]', 578),\n",
       "             ('[unused574]', 579),\n",
       "             ('[unused575]', 580),\n",
       "             ('[unused576]', 581),\n",
       "             ('[unused577]', 582),\n",
       "             ('[unused578]', 583),\n",
       "             ('[unused579]', 584),\n",
       "             ('[unused580]', 585),\n",
       "             ('[unused581]', 586),\n",
       "             ('[unused582]', 587),\n",
       "             ('[unused583]', 588),\n",
       "             ('[unused584]', 589),\n",
       "             ('[unused585]', 590),\n",
       "             ('[unused586]', 591),\n",
       "             ('[unused587]', 592),\n",
       "             ('[unused588]', 593),\n",
       "             ('[unused589]', 594),\n",
       "             ('[unused590]', 595),\n",
       "             ('[unused591]', 596),\n",
       "             ('[unused592]', 597),\n",
       "             ('[unused593]', 598),\n",
       "             ('[unused594]', 599),\n",
       "             ('[unused595]', 600),\n",
       "             ('[unused596]', 601),\n",
       "             ('[unused597]', 602),\n",
       "             ('[unused598]', 603),\n",
       "             ('[unused599]', 604),\n",
       "             ('[unused600]', 605),\n",
       "             ('[unused601]', 606),\n",
       "             ('[unused602]', 607),\n",
       "             ('[unused603]', 608),\n",
       "             ('[unused604]', 609),\n",
       "             ('[unused605]', 610),\n",
       "             ('[unused606]', 611),\n",
       "             ('[unused607]', 612),\n",
       "             ('[unused608]', 613),\n",
       "             ('[unused609]', 614),\n",
       "             ('[unused610]', 615),\n",
       "             ('[unused611]', 616),\n",
       "             ('[unused612]', 617),\n",
       "             ('[unused613]', 618),\n",
       "             ('[unused614]', 619),\n",
       "             ('[unused615]', 620),\n",
       "             ('[unused616]', 621),\n",
       "             ('[unused617]', 622),\n",
       "             ('[unused618]', 623),\n",
       "             ('[unused619]', 624),\n",
       "             ('[unused620]', 625),\n",
       "             ('[unused621]', 626),\n",
       "             ('[unused622]', 627),\n",
       "             ('[unused623]', 628),\n",
       "             ('[unused624]', 629),\n",
       "             ('[unused625]', 630),\n",
       "             ('[unused626]', 631),\n",
       "             ('[unused627]', 632),\n",
       "             ('[unused628]', 633),\n",
       "             ('[unused629]', 634),\n",
       "             ('[unused630]', 635),\n",
       "             ('[unused631]', 636),\n",
       "             ('[unused632]', 637),\n",
       "             ('[unused633]', 638),\n",
       "             ('[unused634]', 639),\n",
       "             ('[unused635]', 640),\n",
       "             ('[unused636]', 641),\n",
       "             ('[unused637]', 642),\n",
       "             ('[unused638]', 643),\n",
       "             ('[unused639]', 644),\n",
       "             ('[unused640]', 645),\n",
       "             ('[unused641]', 646),\n",
       "             ('[unused642]', 647),\n",
       "             ('[unused643]', 648),\n",
       "             ('[unused644]', 649),\n",
       "             ('[unused645]', 650),\n",
       "             ('[unused646]', 651),\n",
       "             ('[unused647]', 652),\n",
       "             ('[unused648]', 653),\n",
       "             ('[unused649]', 654),\n",
       "             ('[unused650]', 655),\n",
       "             ('[unused651]', 656),\n",
       "             ('[unused652]', 657),\n",
       "             ('[unused653]', 658),\n",
       "             ('[unused654]', 659),\n",
       "             ('[unused655]', 660),\n",
       "             ('[unused656]', 661),\n",
       "             ('[unused657]', 662),\n",
       "             ('[unused658]', 663),\n",
       "             ('[unused659]', 664),\n",
       "             ('[unused660]', 665),\n",
       "             ('[unused661]', 666),\n",
       "             ('[unused662]', 667),\n",
       "             ('[unused663]', 668),\n",
       "             ('[unused664]', 669),\n",
       "             ('[unused665]', 670),\n",
       "             ('[unused666]', 671),\n",
       "             ('[unused667]', 672),\n",
       "             ('[unused668]', 673),\n",
       "             ('[unused669]', 674),\n",
       "             ('[unused670]', 675),\n",
       "             ('[unused671]', 676),\n",
       "             ('[unused672]', 677),\n",
       "             ('[unused673]', 678),\n",
       "             ('[unused674]', 679),\n",
       "             ('[unused675]', 680),\n",
       "             ('[unused676]', 681),\n",
       "             ('[unused677]', 682),\n",
       "             ('[unused678]', 683),\n",
       "             ('[unused679]', 684),\n",
       "             ('[unused680]', 685),\n",
       "             ('[unused681]', 686),\n",
       "             ('[unused682]', 687),\n",
       "             ('[unused683]', 688),\n",
       "             ('[unused684]', 689),\n",
       "             ('[unused685]', 690),\n",
       "             ('[unused686]', 691),\n",
       "             ('[unused687]', 692),\n",
       "             ('[unused688]', 693),\n",
       "             ('[unused689]', 694),\n",
       "             ('[unused690]', 695),\n",
       "             ('[unused691]', 696),\n",
       "             ('[unused692]', 697),\n",
       "             ('[unused693]', 698),\n",
       "             ('[unused694]', 699),\n",
       "             ('[unused695]', 700),\n",
       "             ('[unused696]', 701),\n",
       "             ('[unused697]', 702),\n",
       "             ('[unused698]', 703),\n",
       "             ('[unused699]', 704),\n",
       "             ('[unused700]', 705),\n",
       "             ('[unused701]', 706),\n",
       "             ('[unused702]', 707),\n",
       "             ('[unused703]', 708),\n",
       "             ('[unused704]', 709),\n",
       "             ('[unused705]', 710),\n",
       "             ('[unused706]', 711),\n",
       "             ('[unused707]', 712),\n",
       "             ('[unused708]', 713),\n",
       "             ('[unused709]', 714),\n",
       "             ('[unused710]', 715),\n",
       "             ('[unused711]', 716),\n",
       "             ('[unused712]', 717),\n",
       "             ('[unused713]', 718),\n",
       "             ('[unused714]', 719),\n",
       "             ('[unused715]', 720),\n",
       "             ('[unused716]', 721),\n",
       "             ('[unused717]', 722),\n",
       "             ('[unused718]', 723),\n",
       "             ('[unused719]', 724),\n",
       "             ('[unused720]', 725),\n",
       "             ('[unused721]', 726),\n",
       "             ('[unused722]', 727),\n",
       "             ('[unused723]', 728),\n",
       "             ('[unused724]', 729),\n",
       "             ('[unused725]', 730),\n",
       "             ('[unused726]', 731),\n",
       "             ('[unused727]', 732),\n",
       "             ('[unused728]', 733),\n",
       "             ('[unused729]', 734),\n",
       "             ('[unused730]', 735),\n",
       "             ('[unused731]', 736),\n",
       "             ('[unused732]', 737),\n",
       "             ('[unused733]', 738),\n",
       "             ('[unused734]', 739),\n",
       "             ('[unused735]', 740),\n",
       "             ('[unused736]', 741),\n",
       "             ('[unused737]', 742),\n",
       "             ('[unused738]', 743),\n",
       "             ('[unused739]', 744),\n",
       "             ('[unused740]', 745),\n",
       "             ('[unused741]', 746),\n",
       "             ('[unused742]', 747),\n",
       "             ('[unused743]', 748),\n",
       "             ('[unused744]', 749),\n",
       "             ('[unused745]', 750),\n",
       "             ('[unused746]', 751),\n",
       "             ('[unused747]', 752),\n",
       "             ('[unused748]', 753),\n",
       "             ('[unused749]', 754),\n",
       "             ('[unused750]', 755),\n",
       "             ('[unused751]', 756),\n",
       "             ('[unused752]', 757),\n",
       "             ('[unused753]', 758),\n",
       "             ('[unused754]', 759),\n",
       "             ('[unused755]', 760),\n",
       "             ('[unused756]', 761),\n",
       "             ('[unused757]', 762),\n",
       "             ('[unused758]', 763),\n",
       "             ('[unused759]', 764),\n",
       "             ('[unused760]', 765),\n",
       "             ('[unused761]', 766),\n",
       "             ('[unused762]', 767),\n",
       "             ('[unused763]', 768),\n",
       "             ('[unused764]', 769),\n",
       "             ('[unused765]', 770),\n",
       "             ('[unused766]', 771),\n",
       "             ('[unused767]', 772),\n",
       "             ('[unused768]', 773),\n",
       "             ('[unused769]', 774),\n",
       "             ('[unused770]', 775),\n",
       "             ('[unused771]', 776),\n",
       "             ('[unused772]', 777),\n",
       "             ('[unused773]', 778),\n",
       "             ('[unused774]', 779),\n",
       "             ('[unused775]', 780),\n",
       "             ('[unused776]', 781),\n",
       "             ('[unused777]', 782),\n",
       "             ('[unused778]', 783),\n",
       "             ('[unused779]', 784),\n",
       "             ('[unused780]', 785),\n",
       "             ('[unused781]', 786),\n",
       "             ('[unused782]', 787),\n",
       "             ('[unused783]', 788),\n",
       "             ('[unused784]', 789),\n",
       "             ('[unused785]', 790),\n",
       "             ('[unused786]', 791),\n",
       "             ('[unused787]', 792),\n",
       "             ('[unused788]', 793),\n",
       "             ('[unused789]', 794),\n",
       "             ('[unused790]', 795),\n",
       "             ('[unused791]', 796),\n",
       "             ('[unused792]', 797),\n",
       "             ('[unused793]', 798),\n",
       "             ('[unused794]', 799),\n",
       "             ('[unused795]', 800),\n",
       "             ('[unused796]', 801),\n",
       "             ('[unused797]', 802),\n",
       "             ('[unused798]', 803),\n",
       "             ('[unused799]', 804),\n",
       "             ('[unused800]', 805),\n",
       "             ('[unused801]', 806),\n",
       "             ('[unused802]', 807),\n",
       "             ('[unused803]', 808),\n",
       "             ('[unused804]', 809),\n",
       "             ('[unused805]', 810),\n",
       "             ('[unused806]', 811),\n",
       "             ('[unused807]', 812),\n",
       "             ('[unused808]', 813),\n",
       "             ('[unused809]', 814),\n",
       "             ('[unused810]', 815),\n",
       "             ('[unused811]', 816),\n",
       "             ('[unused812]', 817),\n",
       "             ('[unused813]', 818),\n",
       "             ('[unused814]', 819),\n",
       "             ('[unused815]', 820),\n",
       "             ('[unused816]', 821),\n",
       "             ('[unused817]', 822),\n",
       "             ('[unused818]', 823),\n",
       "             ('[unused819]', 824),\n",
       "             ('[unused820]', 825),\n",
       "             ('[unused821]', 826),\n",
       "             ('[unused822]', 827),\n",
       "             ('[unused823]', 828),\n",
       "             ('[unused824]', 829),\n",
       "             ('[unused825]', 830),\n",
       "             ('[unused826]', 831),\n",
       "             ('[unused827]', 832),\n",
       "             ('[unused828]', 833),\n",
       "             ('[unused829]', 834),\n",
       "             ('[unused830]', 835),\n",
       "             ('[unused831]', 836),\n",
       "             ('[unused832]', 837),\n",
       "             ('[unused833]', 838),\n",
       "             ('[unused834]', 839),\n",
       "             ('[unused835]', 840),\n",
       "             ('[unused836]', 841),\n",
       "             ('[unused837]', 842),\n",
       "             ('[unused838]', 843),\n",
       "             ('[unused839]', 844),\n",
       "             ('[unused840]', 845),\n",
       "             ('[unused841]', 846),\n",
       "             ('[unused842]', 847),\n",
       "             ('[unused843]', 848),\n",
       "             ('[unused844]', 849),\n",
       "             ('[unused845]', 850),\n",
       "             ('[unused846]', 851),\n",
       "             ('[unused847]', 852),\n",
       "             ('[unused848]', 853),\n",
       "             ('[unused849]', 854),\n",
       "             ('[unused850]', 855),\n",
       "             ('[unused851]', 856),\n",
       "             ('[unused852]', 857),\n",
       "             ('[unused853]', 858),\n",
       "             ('[unused854]', 859),\n",
       "             ('[unused855]', 860),\n",
       "             ('[unused856]', 861),\n",
       "             ('[unused857]', 862),\n",
       "             ('[unused858]', 863),\n",
       "             ('[unused859]', 864),\n",
       "             ('[unused860]', 865),\n",
       "             ('[unused861]', 866),\n",
       "             ('[unused862]', 867),\n",
       "             ('[unused863]', 868),\n",
       "             ('[unused864]', 869),\n",
       "             ('[unused865]', 870),\n",
       "             ('[unused866]', 871),\n",
       "             ('[unused867]', 872),\n",
       "             ('[unused868]', 873),\n",
       "             ('[unused869]', 874),\n",
       "             ('[unused870]', 875),\n",
       "             ('[unused871]', 876),\n",
       "             ('[unused872]', 877),\n",
       "             ('[unused873]', 878),\n",
       "             ('[unused874]', 879),\n",
       "             ('[unused875]', 880),\n",
       "             ('[unused876]', 881),\n",
       "             ('[unused877]', 882),\n",
       "             ('[unused878]', 883),\n",
       "             ('[unused879]', 884),\n",
       "             ('[unused880]', 885),\n",
       "             ('[unused881]', 886),\n",
       "             ('[unused882]', 887),\n",
       "             ('[unused883]', 888),\n",
       "             ('[unused884]', 889),\n",
       "             ('[unused885]', 890),\n",
       "             ('[unused886]', 891),\n",
       "             ('[unused887]', 892),\n",
       "             ('[unused888]', 893),\n",
       "             ('[unused889]', 894),\n",
       "             ('[unused890]', 895),\n",
       "             ('[unused891]', 896),\n",
       "             ('[unused892]', 897),\n",
       "             ('[unused893]', 898),\n",
       "             ('[unused894]', 899),\n",
       "             ('[unused895]', 900),\n",
       "             ('[unused896]', 901),\n",
       "             ('[unused897]', 902),\n",
       "             ('[unused898]', 903),\n",
       "             ('[unused899]', 904),\n",
       "             ('[unused900]', 905),\n",
       "             ('[unused901]', 906),\n",
       "             ('[unused902]', 907),\n",
       "             ('[unused903]', 908),\n",
       "             ('[unused904]', 909),\n",
       "             ('[unused905]', 910),\n",
       "             ('[unused906]', 911),\n",
       "             ('[unused907]', 912),\n",
       "             ('[unused908]', 913),\n",
       "             ('[unused909]', 914),\n",
       "             ('[unused910]', 915),\n",
       "             ('[unused911]', 916),\n",
       "             ('[unused912]', 917),\n",
       "             ('[unused913]', 918),\n",
       "             ('[unused914]', 919),\n",
       "             ('[unused915]', 920),\n",
       "             ('[unused916]', 921),\n",
       "             ('[unused917]', 922),\n",
       "             ('[unused918]', 923),\n",
       "             ('[unused919]', 924),\n",
       "             ('[unused920]', 925),\n",
       "             ('[unused921]', 926),\n",
       "             ('[unused922]', 927),\n",
       "             ('[unused923]', 928),\n",
       "             ('[unused924]', 929),\n",
       "             ('[unused925]', 930),\n",
       "             ('[unused926]', 931),\n",
       "             ('[unused927]', 932),\n",
       "             ('[unused928]', 933),\n",
       "             ('[unused929]', 934),\n",
       "             ('[unused930]', 935),\n",
       "             ('[unused931]', 936),\n",
       "             ('[unused932]', 937),\n",
       "             ('[unused933]', 938),\n",
       "             ('[unused934]', 939),\n",
       "             ('[unused935]', 940),\n",
       "             ('[unused936]', 941),\n",
       "             ('[unused937]', 942),\n",
       "             ('[unused938]', 943),\n",
       "             ('[unused939]', 944),\n",
       "             ('[unused940]', 945),\n",
       "             ('[unused941]', 946),\n",
       "             ('[unused942]', 947),\n",
       "             ('[unused943]', 948),\n",
       "             ('[unused944]', 949),\n",
       "             ('[unused945]', 950),\n",
       "             ('[unused946]', 951),\n",
       "             ('[unused947]', 952),\n",
       "             ('[unused948]', 953),\n",
       "             ('[unused949]', 954),\n",
       "             ('[unused950]', 955),\n",
       "             ('[unused951]', 956),\n",
       "             ('[unused952]', 957),\n",
       "             ('[unused953]', 958),\n",
       "             ('[unused954]', 959),\n",
       "             ('[unused955]', 960),\n",
       "             ('[unused956]', 961),\n",
       "             ('[unused957]', 962),\n",
       "             ('[unused958]', 963),\n",
       "             ('[unused959]', 964),\n",
       "             ('[unused960]', 965),\n",
       "             ('[unused961]', 966),\n",
       "             ('[unused962]', 967),\n",
       "             ('[unused963]', 968),\n",
       "             ('[unused964]', 969),\n",
       "             ('[unused965]', 970),\n",
       "             ('[unused966]', 971),\n",
       "             ('[unused967]', 972),\n",
       "             ('[unused968]', 973),\n",
       "             ('[unused969]', 974),\n",
       "             ('[unused970]', 975),\n",
       "             ('[unused971]', 976),\n",
       "             ('[unused972]', 977),\n",
       "             ('[unused973]', 978),\n",
       "             ('[unused974]', 979),\n",
       "             ('[unused975]', 980),\n",
       "             ('[unused976]', 981),\n",
       "             ('[unused977]', 982),\n",
       "             ('[unused978]', 983),\n",
       "             ('[unused979]', 984),\n",
       "             ('[unused980]', 985),\n",
       "             ('[unused981]', 986),\n",
       "             ('[unused982]', 987),\n",
       "             ('[unused983]', 988),\n",
       "             ('[unused984]', 989),\n",
       "             ('[unused985]', 990),\n",
       "             ('[unused986]', 991),\n",
       "             ('[unused987]', 992),\n",
       "             ('[unused988]', 993),\n",
       "             ('[unused989]', 994),\n",
       "             ('[unused990]', 995),\n",
       "             ('[unused991]', 996),\n",
       "             ('[unused992]', 997),\n",
       "             ('[unused993]', 998),\n",
       "             ('!', 999),\n",
       "             ...])"
      ]
     },
     "execution_count": 138,
     "metadata": {},
     "output_type": "execute_result"
    }
   ],
   "source": [
    "tokenizer.vocab"
   ]
  },
  {
   "cell_type": "code",
   "execution_count": 140,
   "id": "09be44df",
   "metadata": {},
   "outputs": [],
   "source": [
    "max_len = 0\n",
    "for i in tokenized.values:\n",
    "    if len(i) > max_len:\n",
    "        max_len = len(i)\n",
    "        \n",
    "padded = np.array([i + [0]*(max_len - len(i)) for i in tokenized.values])"
   ]
  },
  {
   "cell_type": "code",
   "execution_count": 141,
   "id": "c7b6659d",
   "metadata": {},
   "outputs": [
    {
     "data": {
      "text/plain": [
       "(16278, 609)"
      ]
     },
     "execution_count": 141,
     "metadata": {},
     "output_type": "execute_result"
    }
   ],
   "source": [
    "np.array(padded).shape"
   ]
  },
  {
   "cell_type": "code",
   "execution_count": 143,
   "id": "d3ff228f",
   "metadata": {},
   "outputs": [
    {
     "data": {
      "text/plain": [
       "(16278, 609)"
      ]
     },
     "execution_count": 143,
     "metadata": {},
     "output_type": "execute_result"
    }
   ],
   "source": [
    "attention_mask = np.where(padded != 0,1,0)\n",
    "attention_mask.shape"
   ]
  },
  {
   "cell_type": "code",
   "execution_count": 144,
   "id": "83b144e6",
   "metadata": {},
   "outputs": [
    {
     "data": {
      "text/plain": [
       "array([[1, 1, 1, ..., 0, 0, 0],\n",
       "       [1, 1, 1, ..., 0, 0, 0],\n",
       "       [1, 1, 1, ..., 0, 0, 0],\n",
       "       ...,\n",
       "       [1, 1, 1, ..., 0, 0, 0],\n",
       "       [1, 1, 1, ..., 0, 0, 0],\n",
       "       [1, 1, 1, ..., 0, 0, 0]])"
      ]
     },
     "execution_count": 144,
     "metadata": {},
     "output_type": "execute_result"
    }
   ],
   "source": [
    "attention_mask"
   ]
  },
  {
   "cell_type": "code",
   "execution_count": 145,
   "id": "ededb3a6",
   "metadata": {},
   "outputs": [
    {
     "data": {
      "text/plain": [
       "<matplotlib.collections.QuadMesh at 0x1b20b3cd690>"
      ]
     },
     "execution_count": 145,
     "metadata": {},
     "output_type": "execute_result"
    },
    {
     "data": {
      "image/png": "[encoded data removed]",
      "text/plain": [
       "<Figure size 640x480 with 1 Axes>"
      ]
     },
     "metadata": {},
     "output_type": "display_data"
    }
   ],
   "source": [
    "plt.pcolormesh(attention_mask)"
   ]
  },
  {
   "cell_type": "code",
   "execution_count": 147,
   "id": "feb0b5bb",
   "metadata": {},
   "outputs": [],
   "source": [
    "max_length = 512\n",
    "\n",
    "padded = [ids[:max_length] for ids in padded]\n",
    "attention_mask = [mask[:max_length] for mask in attention_mask]"
   ]
  },
  {
   "cell_type": "code",
   "execution_count": 153,
   "id": "21b4baca",
   "metadata": {},
   "outputs": [
    {
     "ename": "ValueError",
     "evalue": "only one element tensors can be converted to Python scalars",
     "output_type": "error",
     "traceback": [
      "\u001b[1;31m---------------------------------------------------------------------------\u001b[0m",
      "\u001b[1;31mValueError\u001b[0m                                Traceback (most recent call last)",
      "Cell \u001b[1;32mIn[153], line 2\u001b[0m\n\u001b[0;32m      1\u001b[0m input_ids \u001b[38;5;241m=\u001b[39m torch\u001b[38;5;241m.\u001b[39mtensor(padded, dtype\u001b[38;5;241m=\u001b[39mtorch\u001b[38;5;241m.\u001b[39mlong)\n\u001b[1;32m----> 2\u001b[0m attention_mask \u001b[38;5;241m=\u001b[39m \u001b[43mtorch\u001b[49m\u001b[38;5;241;43m.\u001b[39;49m\u001b[43mtensor\u001b[49m\u001b[43m(\u001b[49m\u001b[43mattention_mask\u001b[49m\u001b[43m,\u001b[49m\u001b[43m \u001b[49m\u001b[43mdtype\u001b[49m\u001b[38;5;241;43m=\u001b[39;49m\u001b[43mtorch\u001b[49m\u001b[38;5;241;43m.\u001b[39;49m\u001b[43mfloat\u001b[49m\u001b[43m)\u001b[49m\n\u001b[0;32m      4\u001b[0m \u001b[38;5;28;01mwith\u001b[39;00m torch\u001b[38;5;241m.\u001b[39mno_grad():\n\u001b[0;32m      5\u001b[0m     last_hidden_states \u001b[38;5;241m=\u001b[39m model(input_ids, attention_mask\u001b[38;5;241m=\u001b[39mattention_mask)\n",
      "\u001b[1;31mValueError\u001b[0m: only one element tensors can be converted to Python scalars"
     ]
    }
   ],
   "source": [
    "input_ids = torch.tensor(padded, dtype=torch.long)\n",
    "attention_mask = torch.tensor(attention_mask, dtype=torch.float)\n",
    "\n",
    "with torch.no_grad():\n",
    "    last_hidden_states = model(input_ids, attention_mask=attention_mask)"
   ]
  },
  {
   "cell_type": "code",
   "execution_count": 157,
   "id": "ab7dcb36",
   "metadata": {},
   "outputs": [
    {
     "ename": "RuntimeError",
     "evalue": "[enforce fail at alloc_cpu.cpp:114] data. DefaultCPUAllocator: not enough memory: you tried to allocate 25603080192 bytes.",
     "output_type": "error",
     "traceback": [
      "\u001b[1;31m---------------------------------------------------------------------------\u001b[0m",
      "\u001b[1;31mRuntimeError\u001b[0m                              Traceback (most recent call last)",
      "Cell \u001b[1;32mIn[157], line 2\u001b[0m\n\u001b[0;32m      1\u001b[0m \u001b[38;5;28;01mwith\u001b[39;00m torch\u001b[38;5;241m.\u001b[39mno_grad():\n\u001b[1;32m----> 2\u001b[0m     last_hidden_states \u001b[38;5;241m=\u001b[39m \u001b[43mmodel\u001b[49m\u001b[43m(\u001b[49m\u001b[43minput_ids\u001b[49m\u001b[43m,\u001b[49m\u001b[43m \u001b[49m\u001b[43mattention_mask\u001b[49m\u001b[38;5;241;43m=\u001b[39;49m\u001b[43mattention_mask\u001b[49m\u001b[43m)\u001b[49m\n",
      "File \u001b[1;32m~\\kaggle\\digit_recognizer\\venv\\Lib\\site-packages\\torch\\nn\\modules\\module.py:1532\u001b[0m, in \u001b[0;36mModule._wrapped_call_impl\u001b[1;34m(self, *args, **kwargs)\u001b[0m\n\u001b[0;32m   1530\u001b[0m     \u001b[38;5;28;01mreturn\u001b[39;00m \u001b[38;5;28mself\u001b[39m\u001b[38;5;241m.\u001b[39m_compiled_call_impl(\u001b[38;5;241m*\u001b[39margs, \u001b[38;5;241m*\u001b[39m\u001b[38;5;241m*\u001b[39mkwargs)  \u001b[38;5;66;03m# type: ignore[misc]\u001b[39;00m\n\u001b[0;32m   1531\u001b[0m \u001b[38;5;28;01melse\u001b[39;00m:\n\u001b[1;32m-> 1532\u001b[0m     \u001b[38;5;28;01mreturn\u001b[39;00m \u001b[38;5;28;43mself\u001b[39;49m\u001b[38;5;241;43m.\u001b[39;49m\u001b[43m_call_impl\u001b[49m\u001b[43m(\u001b[49m\u001b[38;5;241;43m*\u001b[39;49m\u001b[43margs\u001b[49m\u001b[43m,\u001b[49m\u001b[43m \u001b[49m\u001b[38;5;241;43m*\u001b[39;49m\u001b[38;5;241;43m*\u001b[39;49m\u001b[43mkwargs\u001b[49m\u001b[43m)\u001b[49m\n",
      "File \u001b[1;32m~\\kaggle\\digit_recognizer\\venv\\Lib\\site-packages\\torch\\nn\\modules\\module.py:1541\u001b[0m, in \u001b[0;36mModule._call_impl\u001b[1;34m(self, *args, **kwargs)\u001b[0m\n\u001b[0;32m   1536\u001b[0m \u001b[38;5;66;03m# If we don't have any hooks, we want to skip the rest of the logic in\u001b[39;00m\n\u001b[0;32m   1537\u001b[0m \u001b[38;5;66;03m# this function, and just call forward.\u001b[39;00m\n\u001b[0;32m   1538\u001b[0m \u001b[38;5;28;01mif\u001b[39;00m \u001b[38;5;129;01mnot\u001b[39;00m (\u001b[38;5;28mself\u001b[39m\u001b[38;5;241m.\u001b[39m_backward_hooks \u001b[38;5;129;01mor\u001b[39;00m \u001b[38;5;28mself\u001b[39m\u001b[38;5;241m.\u001b[39m_backward_pre_hooks \u001b[38;5;129;01mor\u001b[39;00m \u001b[38;5;28mself\u001b[39m\u001b[38;5;241m.\u001b[39m_forward_hooks \u001b[38;5;129;01mor\u001b[39;00m \u001b[38;5;28mself\u001b[39m\u001b[38;5;241m.\u001b[39m_forward_pre_hooks\n\u001b[0;32m   1539\u001b[0m         \u001b[38;5;129;01mor\u001b[39;00m _global_backward_pre_hooks \u001b[38;5;129;01mor\u001b[39;00m _global_backward_hooks\n\u001b[0;32m   1540\u001b[0m         \u001b[38;5;129;01mor\u001b[39;00m _global_forward_hooks \u001b[38;5;129;01mor\u001b[39;00m _global_forward_pre_hooks):\n\u001b[1;32m-> 1541\u001b[0m     \u001b[38;5;28;01mreturn\u001b[39;00m \u001b[43mforward_call\u001b[49m\u001b[43m(\u001b[49m\u001b[38;5;241;43m*\u001b[39;49m\u001b[43margs\u001b[49m\u001b[43m,\u001b[49m\u001b[43m \u001b[49m\u001b[38;5;241;43m*\u001b[39;49m\u001b[38;5;241;43m*\u001b[39;49m\u001b[43mkwargs\u001b[49m\u001b[43m)\u001b[49m\n\u001b[0;32m   1543\u001b[0m \u001b[38;5;28;01mtry\u001b[39;00m:\n\u001b[0;32m   1544\u001b[0m     result \u001b[38;5;241m=\u001b[39m \u001b[38;5;28;01mNone\u001b[39;00m\n",
      "File \u001b[1;32m~\\kaggle\\digit_recognizer\\venv\\Lib\\site-packages\\transformers\\models\\bert\\modeling_bert.py:981\u001b[0m, in \u001b[0;36mBertModel.forward\u001b[1;34m(self, input_ids, attention_mask, token_type_ids, position_ids, head_mask, inputs_embeds, encoder_hidden_states, encoder_attention_mask, past_key_values, use_cache, output_attentions, output_hidden_states, return_dict)\u001b[0m\n\u001b[0;32m    974\u001b[0m \u001b[38;5;66;03m# Prepare head mask if needed\u001b[39;00m\n\u001b[0;32m    975\u001b[0m \u001b[38;5;66;03m# 1.0 in head_mask indicate we keep the head\u001b[39;00m\n\u001b[0;32m    976\u001b[0m \u001b[38;5;66;03m# attention_probs has shape bsz x n_heads x N x N\u001b[39;00m\n\u001b[0;32m    977\u001b[0m \u001b[38;5;66;03m# input head_mask has shape [num_heads] or [num_hidden_layers x num_heads]\u001b[39;00m\n\u001b[0;32m    978\u001b[0m \u001b[38;5;66;03m# and head_mask is converted to shape [num_hidden_layers x batch x num_heads x seq_length x seq_length]\u001b[39;00m\n\u001b[0;32m    979\u001b[0m head_mask \u001b[38;5;241m=\u001b[39m \u001b[38;5;28mself\u001b[39m\u001b[38;5;241m.\u001b[39mget_head_mask(head_mask, \u001b[38;5;28mself\u001b[39m\u001b[38;5;241m.\u001b[39mconfig\u001b[38;5;241m.\u001b[39mnum_hidden_layers)\n\u001b[1;32m--> 981\u001b[0m embedding_output \u001b[38;5;241m=\u001b[39m \u001b[38;5;28;43mself\u001b[39;49m\u001b[38;5;241;43m.\u001b[39;49m\u001b[43membeddings\u001b[49m\u001b[43m(\u001b[49m\n\u001b[0;32m    982\u001b[0m \u001b[43m    \u001b[49m\u001b[43minput_ids\u001b[49m\u001b[38;5;241;43m=\u001b[39;49m\u001b[43minput_ids\u001b[49m\u001b[43m,\u001b[49m\n\u001b[0;32m    983\u001b[0m \u001b[43m    \u001b[49m\u001b[43mposition_ids\u001b[49m\u001b[38;5;241;43m=\u001b[39;49m\u001b[43mposition_ids\u001b[49m\u001b[43m,\u001b[49m\n\u001b[0;32m    984\u001b[0m \u001b[43m    \u001b[49m\u001b[43mtoken_type_ids\u001b[49m\u001b[38;5;241;43m=\u001b[39;49m\u001b[43mtoken_type_ids\u001b[49m\u001b[43m,\u001b[49m\n\u001b[0;32m    985\u001b[0m \u001b[43m    \u001b[49m\u001b[43minputs_embeds\u001b[49m\u001b[38;5;241;43m=\u001b[39;49m\u001b[43minputs_embeds\u001b[49m\u001b[43m,\u001b[49m\n\u001b[0;32m    986\u001b[0m \u001b[43m    \u001b[49m\u001b[43mpast_key_values_length\u001b[49m\u001b[38;5;241;43m=\u001b[39;49m\u001b[43mpast_key_values_length\u001b[49m\u001b[43m,\u001b[49m\n\u001b[0;32m    987\u001b[0m \u001b[43m\u001b[49m\u001b[43m)\u001b[49m\n\u001b[0;32m    988\u001b[0m encoder_outputs \u001b[38;5;241m=\u001b[39m \u001b[38;5;28mself\u001b[39m\u001b[38;5;241m.\u001b[39mencoder(\n\u001b[0;32m    989\u001b[0m     embedding_output,\n\u001b[0;32m    990\u001b[0m     attention_mask\u001b[38;5;241m=\u001b[39mextended_attention_mask,\n\u001b[1;32m   (...)\u001b[0m\n\u001b[0;32m    998\u001b[0m     return_dict\u001b[38;5;241m=\u001b[39mreturn_dict,\n\u001b[0;32m    999\u001b[0m )\n\u001b[0;32m   1000\u001b[0m sequence_output \u001b[38;5;241m=\u001b[39m encoder_outputs[\u001b[38;5;241m0\u001b[39m]\n",
      "File \u001b[1;32m~\\kaggle\\digit_recognizer\\venv\\Lib\\site-packages\\torch\\nn\\modules\\module.py:1532\u001b[0m, in \u001b[0;36mModule._wrapped_call_impl\u001b[1;34m(self, *args, **kwargs)\u001b[0m\n\u001b[0;32m   1530\u001b[0m     \u001b[38;5;28;01mreturn\u001b[39;00m \u001b[38;5;28mself\u001b[39m\u001b[38;5;241m.\u001b[39m_compiled_call_impl(\u001b[38;5;241m*\u001b[39margs, \u001b[38;5;241m*\u001b[39m\u001b[38;5;241m*\u001b[39mkwargs)  \u001b[38;5;66;03m# type: ignore[misc]\u001b[39;00m\n\u001b[0;32m   1531\u001b[0m \u001b[38;5;28;01melse\u001b[39;00m:\n\u001b[1;32m-> 1532\u001b[0m     \u001b[38;5;28;01mreturn\u001b[39;00m \u001b[38;5;28;43mself\u001b[39;49m\u001b[38;5;241;43m.\u001b[39;49m\u001b[43m_call_impl\u001b[49m\u001b[43m(\u001b[49m\u001b[38;5;241;43m*\u001b[39;49m\u001b[43margs\u001b[49m\u001b[43m,\u001b[49m\u001b[43m \u001b[49m\u001b[38;5;241;43m*\u001b[39;49m\u001b[38;5;241;43m*\u001b[39;49m\u001b[43mkwargs\u001b[49m\u001b[43m)\u001b[49m\n",
      "File \u001b[1;32m~\\kaggle\\digit_recognizer\\venv\\Lib\\site-packages\\torch\\nn\\modules\\module.py:1541\u001b[0m, in \u001b[0;36mModule._call_impl\u001b[1;34m(self, *args, **kwargs)\u001b[0m\n\u001b[0;32m   1536\u001b[0m \u001b[38;5;66;03m# If we don't have any hooks, we want to skip the rest of the logic in\u001b[39;00m\n\u001b[0;32m   1537\u001b[0m \u001b[38;5;66;03m# this function, and just call forward.\u001b[39;00m\n\u001b[0;32m   1538\u001b[0m \u001b[38;5;28;01mif\u001b[39;00m \u001b[38;5;129;01mnot\u001b[39;00m (\u001b[38;5;28mself\u001b[39m\u001b[38;5;241m.\u001b[39m_backward_hooks \u001b[38;5;129;01mor\u001b[39;00m \u001b[38;5;28mself\u001b[39m\u001b[38;5;241m.\u001b[39m_backward_pre_hooks \u001b[38;5;129;01mor\u001b[39;00m \u001b[38;5;28mself\u001b[39m\u001b[38;5;241m.\u001b[39m_forward_hooks \u001b[38;5;129;01mor\u001b[39;00m \u001b[38;5;28mself\u001b[39m\u001b[38;5;241m.\u001b[39m_forward_pre_hooks\n\u001b[0;32m   1539\u001b[0m         \u001b[38;5;129;01mor\u001b[39;00m _global_backward_pre_hooks \u001b[38;5;129;01mor\u001b[39;00m _global_backward_hooks\n\u001b[0;32m   1540\u001b[0m         \u001b[38;5;129;01mor\u001b[39;00m _global_forward_hooks \u001b[38;5;129;01mor\u001b[39;00m _global_forward_pre_hooks):\n\u001b[1;32m-> 1541\u001b[0m     \u001b[38;5;28;01mreturn\u001b[39;00m \u001b[43mforward_call\u001b[49m\u001b[43m(\u001b[49m\u001b[38;5;241;43m*\u001b[39;49m\u001b[43margs\u001b[49m\u001b[43m,\u001b[49m\u001b[43m \u001b[49m\u001b[38;5;241;43m*\u001b[39;49m\u001b[38;5;241;43m*\u001b[39;49m\u001b[43mkwargs\u001b[49m\u001b[43m)\u001b[49m\n\u001b[0;32m   1543\u001b[0m \u001b[38;5;28;01mtry\u001b[39;00m:\n\u001b[0;32m   1544\u001b[0m     result \u001b[38;5;241m=\u001b[39m \u001b[38;5;28;01mNone\u001b[39;00m\n",
      "File \u001b[1;32m~\\kaggle\\digit_recognizer\\venv\\Lib\\site-packages\\transformers\\models\\bert\\modeling_bert.py:214\u001b[0m, in \u001b[0;36mBertEmbeddings.forward\u001b[1;34m(self, input_ids, token_type_ids, position_ids, inputs_embeds, past_key_values_length)\u001b[0m\n\u001b[0;32m    212\u001b[0m     position_embeddings \u001b[38;5;241m=\u001b[39m \u001b[38;5;28mself\u001b[39m\u001b[38;5;241m.\u001b[39mposition_embeddings(position_ids)\n\u001b[0;32m    213\u001b[0m     embeddings \u001b[38;5;241m+\u001b[39m\u001b[38;5;241m=\u001b[39m position_embeddings\n\u001b[1;32m--> 214\u001b[0m embeddings \u001b[38;5;241m=\u001b[39m \u001b[38;5;28;43mself\u001b[39;49m\u001b[38;5;241;43m.\u001b[39;49m\u001b[43mLayerNorm\u001b[49m\u001b[43m(\u001b[49m\u001b[43membeddings\u001b[49m\u001b[43m)\u001b[49m\n\u001b[0;32m    215\u001b[0m embeddings \u001b[38;5;241m=\u001b[39m \u001b[38;5;28mself\u001b[39m\u001b[38;5;241m.\u001b[39mdropout(embeddings)\n\u001b[0;32m    216\u001b[0m \u001b[38;5;28;01mreturn\u001b[39;00m embeddings\n",
      "File \u001b[1;32m~\\kaggle\\digit_recognizer\\venv\\Lib\\site-packages\\torch\\nn\\modules\\module.py:1532\u001b[0m, in \u001b[0;36mModule._wrapped_call_impl\u001b[1;34m(self, *args, **kwargs)\u001b[0m\n\u001b[0;32m   1530\u001b[0m     \u001b[38;5;28;01mreturn\u001b[39;00m \u001b[38;5;28mself\u001b[39m\u001b[38;5;241m.\u001b[39m_compiled_call_impl(\u001b[38;5;241m*\u001b[39margs, \u001b[38;5;241m*\u001b[39m\u001b[38;5;241m*\u001b[39mkwargs)  \u001b[38;5;66;03m# type: ignore[misc]\u001b[39;00m\n\u001b[0;32m   1531\u001b[0m \u001b[38;5;28;01melse\u001b[39;00m:\n\u001b[1;32m-> 1532\u001b[0m     \u001b[38;5;28;01mreturn\u001b[39;00m \u001b[38;5;28;43mself\u001b[39;49m\u001b[38;5;241;43m.\u001b[39;49m\u001b[43m_call_impl\u001b[49m\u001b[43m(\u001b[49m\u001b[38;5;241;43m*\u001b[39;49m\u001b[43margs\u001b[49m\u001b[43m,\u001b[49m\u001b[43m \u001b[49m\u001b[38;5;241;43m*\u001b[39;49m\u001b[38;5;241;43m*\u001b[39;49m\u001b[43mkwargs\u001b[49m\u001b[43m)\u001b[49m\n",
      "File \u001b[1;32m~\\kaggle\\digit_recognizer\\venv\\Lib\\site-packages\\torch\\nn\\modules\\module.py:1541\u001b[0m, in \u001b[0;36mModule._call_impl\u001b[1;34m(self, *args, **kwargs)\u001b[0m\n\u001b[0;32m   1536\u001b[0m \u001b[38;5;66;03m# If we don't have any hooks, we want to skip the rest of the logic in\u001b[39;00m\n\u001b[0;32m   1537\u001b[0m \u001b[38;5;66;03m# this function, and just call forward.\u001b[39;00m\n\u001b[0;32m   1538\u001b[0m \u001b[38;5;28;01mif\u001b[39;00m \u001b[38;5;129;01mnot\u001b[39;00m (\u001b[38;5;28mself\u001b[39m\u001b[38;5;241m.\u001b[39m_backward_hooks \u001b[38;5;129;01mor\u001b[39;00m \u001b[38;5;28mself\u001b[39m\u001b[38;5;241m.\u001b[39m_backward_pre_hooks \u001b[38;5;129;01mor\u001b[39;00m \u001b[38;5;28mself\u001b[39m\u001b[38;5;241m.\u001b[39m_forward_hooks \u001b[38;5;129;01mor\u001b[39;00m \u001b[38;5;28mself\u001b[39m\u001b[38;5;241m.\u001b[39m_forward_pre_hooks\n\u001b[0;32m   1539\u001b[0m         \u001b[38;5;129;01mor\u001b[39;00m _global_backward_pre_hooks \u001b[38;5;129;01mor\u001b[39;00m _global_backward_hooks\n\u001b[0;32m   1540\u001b[0m         \u001b[38;5;129;01mor\u001b[39;00m _global_forward_hooks \u001b[38;5;129;01mor\u001b[39;00m _global_forward_pre_hooks):\n\u001b[1;32m-> 1541\u001b[0m     \u001b[38;5;28;01mreturn\u001b[39;00m \u001b[43mforward_call\u001b[49m\u001b[43m(\u001b[49m\u001b[38;5;241;43m*\u001b[39;49m\u001b[43margs\u001b[49m\u001b[43m,\u001b[49m\u001b[43m \u001b[49m\u001b[38;5;241;43m*\u001b[39;49m\u001b[38;5;241;43m*\u001b[39;49m\u001b[43mkwargs\u001b[49m\u001b[43m)\u001b[49m\n\u001b[0;32m   1543\u001b[0m \u001b[38;5;28;01mtry\u001b[39;00m:\n\u001b[0;32m   1544\u001b[0m     result \u001b[38;5;241m=\u001b[39m \u001b[38;5;28;01mNone\u001b[39;00m\n",
      "File \u001b[1;32m~\\kaggle\\digit_recognizer\\venv\\Lib\\site-packages\\torch\\nn\\modules\\normalization.py:201\u001b[0m, in \u001b[0;36mLayerNorm.forward\u001b[1;34m(self, input)\u001b[0m\n\u001b[0;32m    200\u001b[0m \u001b[38;5;28;01mdef\u001b[39;00m \u001b[38;5;21mforward\u001b[39m(\u001b[38;5;28mself\u001b[39m, \u001b[38;5;28minput\u001b[39m: Tensor) \u001b[38;5;241m-\u001b[39m\u001b[38;5;241m>\u001b[39m Tensor:\n\u001b[1;32m--> 201\u001b[0m     \u001b[38;5;28;01mreturn\u001b[39;00m \u001b[43mF\u001b[49m\u001b[38;5;241;43m.\u001b[39;49m\u001b[43mlayer_norm\u001b[49m\u001b[43m(\u001b[49m\n\u001b[0;32m    202\u001b[0m \u001b[43m        \u001b[49m\u001b[38;5;28;43minput\u001b[39;49m\u001b[43m,\u001b[49m\u001b[43m \u001b[49m\u001b[38;5;28;43mself\u001b[39;49m\u001b[38;5;241;43m.\u001b[39;49m\u001b[43mnormalized_shape\u001b[49m\u001b[43m,\u001b[49m\u001b[43m \u001b[49m\u001b[38;5;28;43mself\u001b[39;49m\u001b[38;5;241;43m.\u001b[39;49m\u001b[43mweight\u001b[49m\u001b[43m,\u001b[49m\u001b[43m \u001b[49m\u001b[38;5;28;43mself\u001b[39;49m\u001b[38;5;241;43m.\u001b[39;49m\u001b[43mbias\u001b[49m\u001b[43m,\u001b[49m\u001b[43m \u001b[49m\u001b[38;5;28;43mself\u001b[39;49m\u001b[38;5;241;43m.\u001b[39;49m\u001b[43meps\u001b[49m\u001b[43m)\u001b[49m\n",
      "File \u001b[1;32m~\\kaggle\\digit_recognizer\\venv\\Lib\\site-packages\\torch\\nn\\functional.py:2573\u001b[0m, in \u001b[0;36mlayer_norm\u001b[1;34m(input, normalized_shape, weight, bias, eps)\u001b[0m\n\u001b[0;32m   2569\u001b[0m \u001b[38;5;28;01mif\u001b[39;00m has_torch_function_variadic(\u001b[38;5;28minput\u001b[39m, weight, bias):\n\u001b[0;32m   2570\u001b[0m     \u001b[38;5;28;01mreturn\u001b[39;00m handle_torch_function(\n\u001b[0;32m   2571\u001b[0m         layer_norm, (\u001b[38;5;28minput\u001b[39m, weight, bias), \u001b[38;5;28minput\u001b[39m, normalized_shape, weight\u001b[38;5;241m=\u001b[39mweight, bias\u001b[38;5;241m=\u001b[39mbias, eps\u001b[38;5;241m=\u001b[39meps\n\u001b[0;32m   2572\u001b[0m     )\n\u001b[1;32m-> 2573\u001b[0m \u001b[38;5;28;01mreturn\u001b[39;00m \u001b[43mtorch\u001b[49m\u001b[38;5;241;43m.\u001b[39;49m\u001b[43mlayer_norm\u001b[49m\u001b[43m(\u001b[49m\u001b[38;5;28;43minput\u001b[39;49m\u001b[43m,\u001b[49m\u001b[43m \u001b[49m\u001b[43mnormalized_shape\u001b[49m\u001b[43m,\u001b[49m\u001b[43m \u001b[49m\u001b[43mweight\u001b[49m\u001b[43m,\u001b[49m\u001b[43m \u001b[49m\u001b[43mbias\u001b[49m\u001b[43m,\u001b[49m\u001b[43m \u001b[49m\u001b[43meps\u001b[49m\u001b[43m,\u001b[49m\u001b[43m \u001b[49m\u001b[43mtorch\u001b[49m\u001b[38;5;241;43m.\u001b[39;49m\u001b[43mbackends\u001b[49m\u001b[38;5;241;43m.\u001b[39;49m\u001b[43mcudnn\u001b[49m\u001b[38;5;241;43m.\u001b[39;49m\u001b[43menabled\u001b[49m\u001b[43m)\u001b[49m\n",
      "\u001b[1;31mRuntimeError\u001b[0m: [enforce fail at alloc_cpu.cpp:114] data. DefaultCPUAllocator: not enough memory: you tried to allocate 25603080192 bytes."
     ]
    }
   ],
   "source": [
    "with torch.no_grad():\n",
    "    last_hidden_states = model(input_ids, attention_mask=attention_mask)"
   ]
  },
  {
   "cell_type": "code",
   "execution_count": 151,
   "id": "a16eeab9",
   "metadata": {},
   "outputs": [
    {
     "data": {
      "text/plain": [
       "list"
      ]
     },
     "execution_count": 151,
     "metadata": {},
     "output_type": "execute_result"
    }
   ],
   "source": [
    "type(attention_mask)"
   ]
  },
  {
   "cell_type": "code",
   "execution_count": 152,
   "id": "6b65d583",
   "metadata": {},
   "outputs": [
    {
     "ename": "TypeError",
     "evalue": "only integer tensors of a single element can be converted to an index",
     "output_type": "error",
     "traceback": [
      "\u001b[1;31m---------------------------------------------------------------------------\u001b[0m",
      "\u001b[1;31mTypeError\u001b[0m                                 Traceback (most recent call last)",
      "Cell \u001b[1;32mIn[152], line 1\u001b[0m\n\u001b[1;32m----> 1\u001b[0m attention_mask \u001b[38;5;241m=\u001b[39m \u001b[43mtorch\u001b[49m\u001b[38;5;241;43m.\u001b[39;49m\u001b[43mtensor\u001b[49m\u001b[43m(\u001b[49m\u001b[43mattention_mask\u001b[49m\u001b[43m,\u001b[49m\u001b[43m \u001b[49m\u001b[43mdtype\u001b[49m\u001b[38;5;241;43m=\u001b[39;49m\u001b[43mtorch\u001b[49m\u001b[38;5;241;43m.\u001b[39;49m\u001b[43mlong\u001b[49m\u001b[43m)\u001b[49m\n",
      "\u001b[1;31mTypeError\u001b[0m: only integer tensors of a single element can be converted to an index"
     ]
    }
   ],
   "source": [
    "attention_mask = torch.tensor(attention_mask, dtype=torch.long)"
   ]
  },
  {
   "cell_type": "code",
   "execution_count": 156,
   "id": "8638bff1",
   "metadata": {},
   "outputs": [],
   "source": [
    "attention_mask = torch.stack(attention_mask)"
   ]
  },
  {
   "cell_type": "code",
   "execution_count": null,
   "id": "3fdf17f1",
   "metadata": {},
   "outputs": [],
   "source": []
  },
  {
   "cell_type": "code",
   "execution_count": null,
   "id": "4c0fb0b6",
   "metadata": {},
   "outputs": [],
   "source": []
  },
  {
   "cell_type": "code",
   "execution_count": null,
   "id": "2f0b4fff",
   "metadata": {},
   "outputs": [],
   "source": []
  },
  {
   "cell_type": "code",
   "execution_count": null,
   "id": "33d09cdd",
   "metadata": {},
   "outputs": [],
   "source": []
  },
  {
   "cell_type": "code",
   "execution_count": null,
   "id": "68c8a895",
   "metadata": {},
   "outputs": [],
   "source": []
  },
  {
   "cell_type": "code",
   "execution_count": 112,
   "id": "a256986a",
   "metadata": {},
   "outputs": [],
   "source": [
    "tokenizer = BertTokenizer.from_pretrained(bert_model_name)\n",
    "train_dataset = TextClassificationDataset(train_texts, train_labels, tokenizer, max_length)\n",
    "val_dataset = TextClassificationDataset(val_texts, val_labels, tokenizer, max_length)\n",
    "train_dataloader = DataLoader(train_dataset, batch_size=batch_size, shuffle=True)\n",
    "val_dataloader = DataLoader(val_dataset, batch_size=batch_size)"
   ]
  },
  {
   "cell_type": "code",
   "execution_count": 52,
   "id": "eb84e713",
   "metadata": {},
   "outputs": [],
   "source": [
    "def load_imdb_data(data_file):\n",
    "    df = pd.read_csv(data_file)\n",
    "    texts = df['text'].tolist()\n",
    "    labels = [1 if text_type == \"spam\" else 0 for text_type in df['text_type'].tolist()]\n",
    "    return texts, labels\n",
    "\n",
    "\n",
    "texts, labels = load_imdb_data(train_file_path)"
   ]
  },
  {
   "cell_type": "code",
   "execution_count": 56,
   "id": "8e68abdd",
   "metadata": {},
   "outputs": [],
   "source": [
    "class TextClassificationDataset(Dataset):\n",
    "\n",
    "    def __init__(self, texts, labels, tokenizer, max_length):\n",
    "        self.texts = texts\n",
    "        self.labels = labels\n",
    "        self.tokenizer = tokenizer\n",
    "        self.max_length = max_length\n",
    "\n",
    "    def __len__(self):\n",
    "        return len(self.texts)\n",
    "\n",
    "    def __getitem__(self, idx):\n",
    "        text = self.texts[idx]\n",
    "        label = self.labels[idx]\n",
    "        encoding = self.tokenizer(text, return_tensors='pt', max_length=self.max_length, padding='max_length', truncation=True)\n",
    "        return {'input_ids': encoding['input_ids'].flatten(), 'attention_mask': encoding['attention_mask'].flatten(), 'label': torch.tensor(label)}"
   ]
  },
  {
   "cell_type": "code",
   "execution_count": 101,
   "id": "bae0758d",
   "metadata": {},
   "outputs": [],
   "source": [
    "class BERTClassifier(nn.Module):\n",
    "    def __init__(self, bert_model_name, num_classes=2):\n",
    "        super(BERTClassifier, self).__init__()\n",
    "        self.bert = BertModel.from_pretrained(bert_model_name)\n",
    "        self.bert.eval()\n",
    "        for param in self.bert.parameters():\n",
    "            param.requires_grad = False\n",
    "        self.dropout = nn.Dropout(0.1)\n",
    "        self.fc = nn.Linear(self.bert.config.hidden_size, num_classes)\n",
    "        \n",
    "    def forward(self, input_ids, attention_mask):\n",
    "        outputs = self.bert(input_ids=input_ids, attention_mask=attention_mask)\n",
    "        pooled_output = outputs.pooler_output\n",
    "        x = self.dropout(pooled_output)\n",
    "        logits = self.fc(x)\n",
    "        return logits"
   ]
  },
  {
   "cell_type": "code",
   "execution_count": 89,
   "id": "559e8ea1",
   "metadata": {},
   "outputs": [],
   "source": [
    "def train(model, data_loader, optimizer, scheduler, device):\n",
    "    model.fc.train()\n",
    "    for batch in data_loader:\n",
    "        optimizer.zero_grad()\n",
    "        input_ids = batch['input_ids'].to(device)\n",
    "        attention_mask = batch['attention_mask'].to(device)\n",
    "        labels = batch['label'].to(device)\n",
    "        outputs = model(input_ids=input_ids, attention_mask=attention_mask)\n",
    "        loss = nn.CrossEntropyLoss()(outputs, labels)\n",
    "        loss.backward()\n",
    "        optimizer.step()\n",
    "        scheduler.step()"
   ]
  },
  {
   "cell_type": "code",
   "execution_count": 90,
   "id": "6f5354e4",
   "metadata": {},
   "outputs": [],
   "source": [
    "def evaluate(model, data_loader, device):\n",
    "    model.eval()\n",
    "    predictions = []\n",
    "    actual_labels = []\n",
    "    with torch.no_grad():\n",
    "        for batch in data_loader:\n",
    "            input_ids = batch['input_ids'].to(device)\n",
    "            attention_mask = batch['attention_mask'].to(device)\n",
    "            labels = batch['label'].to(device)\n",
    "            outputs = model(input_ids=input_ids, attention_mask=attention_mask)\n",
    "            _, preds = torch.max(outputs, dim=1)\n",
    "            predictions.extend(preds.cpu().tolist())\n",
    "            actual_labels.extend(labels.cpu().tolist())\n",
    "    return accuracy_score(actual_labels, predictions), classification_report(actual_labels, predictions)"
   ]
  },
  {
   "cell_type": "code",
   "execution_count": 91,
   "id": "b5cab63d",
   "metadata": {},
   "outputs": [],
   "source": [
    "def predict_sentiment(text, model, tokenizer, device, max_length=128):\n",
    "    model.eval()\n",
    "    encoding = tokenizer(text, return_tensors='pt', max_length=max_length, padding='max_length', truncation=True)\n",
    "    input_ids = encoding['input_ids'].to(device)\n",
    "    attention_mask = encoding['attention_mask'].to(device)\n",
    "\n",
    "    with torch.no_grad():\n",
    "        outputs = model(input_ids=input_ids, attention_mask=attention_mask)\n",
    "        _, preds = torch.max(outputs, dim=1)\n",
    "    return \"positive\" if preds.item() == 1 else \"negative\""
   ]
  },
  {
   "cell_type": "code",
   "execution_count": 92,
   "id": "64e531b4",
   "metadata": {},
   "outputs": [],
   "source": [
    " bert_model_name = 'bert-base-uncased'\n",
    " max_length = 128\n",
    " batch_size = 16\n",
    " num_epochs = 4\n",
    " learning_rate = 2e-5"
   ]
  },
  {
   "cell_type": "code",
   "execution_count": 93,
   "id": "691598bc",
   "metadata": {},
   "outputs": [],
   "source": [
    "train_texts, val_texts, train_labels, val_labels = train_test_split(texts, labels, test_size=0.2, random_state=26)"
   ]
  },
  {
   "cell_type": "code",
   "execution_count": 95,
   "id": "4bb19738",
   "metadata": {},
   "outputs": [],
   "source": [
    "device = torch.device(\"cuda\" if torch.cuda.is_available() else \"cpu\")\n",
    "model = BERTClassifier(bert_model_name, num_classes).to(device)"
   ]
  },
  {
   "cell_type": "code",
   "execution_count": 99,
   "id": "e378d27c",
   "metadata": {},
   "outputs": [],
   "source": [
    "optimizer = AdamW(model.fc.parameters(), lr=learning_rate)\n",
    "criterion = nn.CrossEntropyLoss()\n",
    "#scheduler = get_linear_schedule_with_warmup(optimizer, num_warmup_steps=0, num_training_steps=total_steps)"
   ]
  },
  {
   "cell_type": "code",
   "execution_count": 100,
   "id": "b7e0e0e5",
   "metadata": {},
   "outputs": [
    {
     "ename": "KeyboardInterrupt",
     "evalue": "",
     "output_type": "error",
     "traceback": [
      "\u001b[1;31m---------------------------------------------------------------------------\u001b[0m",
      "\u001b[1;31mKeyboardInterrupt\u001b[0m                         Traceback (most recent call last)",
      "Cell \u001b[1;32mIn[100], line 9\u001b[0m\n\u001b[0;32m      7\u001b[0m labels \u001b[38;5;241m=\u001b[39m batch[\u001b[38;5;124m'\u001b[39m\u001b[38;5;124mlabel\u001b[39m\u001b[38;5;124m'\u001b[39m]\u001b[38;5;241m.\u001b[39mto(device)\n\u001b[0;32m      8\u001b[0m optimizer\u001b[38;5;241m.\u001b[39mzero_grad()\n\u001b[1;32m----> 9\u001b[0m outputs \u001b[38;5;241m=\u001b[39m \u001b[43mmodel\u001b[49m\u001b[43m(\u001b[49m\u001b[43minput_ids\u001b[49m\u001b[43m,\u001b[49m\u001b[43m \u001b[49m\u001b[43mattention_mask\u001b[49m\u001b[43m)\u001b[49m\n\u001b[0;32m     10\u001b[0m loss \u001b[38;5;241m=\u001b[39m criterion(outputs, labels)\n\u001b[0;32m     11\u001b[0m loss\u001b[38;5;241m.\u001b[39mbackward()\n",
      "File \u001b[1;32m~\\kaggle\\digit_recognizer\\venv\\Lib\\site-packages\\torch\\nn\\modules\\module.py:1532\u001b[0m, in \u001b[0;36mModule._wrapped_call_impl\u001b[1;34m(self, *args, **kwargs)\u001b[0m\n\u001b[0;32m   1530\u001b[0m     \u001b[38;5;28;01mreturn\u001b[39;00m \u001b[38;5;28mself\u001b[39m\u001b[38;5;241m.\u001b[39m_compiled_call_impl(\u001b[38;5;241m*\u001b[39margs, \u001b[38;5;241m*\u001b[39m\u001b[38;5;241m*\u001b[39mkwargs)  \u001b[38;5;66;03m# type: ignore[misc]\u001b[39;00m\n\u001b[0;32m   1531\u001b[0m \u001b[38;5;28;01melse\u001b[39;00m:\n\u001b[1;32m-> 1532\u001b[0m     \u001b[38;5;28;01mreturn\u001b[39;00m \u001b[38;5;28;43mself\u001b[39;49m\u001b[38;5;241;43m.\u001b[39;49m\u001b[43m_call_impl\u001b[49m\u001b[43m(\u001b[49m\u001b[38;5;241;43m*\u001b[39;49m\u001b[43margs\u001b[49m\u001b[43m,\u001b[49m\u001b[43m \u001b[49m\u001b[38;5;241;43m*\u001b[39;49m\u001b[38;5;241;43m*\u001b[39;49m\u001b[43mkwargs\u001b[49m\u001b[43m)\u001b[49m\n",
      "File \u001b[1;32m~\\kaggle\\digit_recognizer\\venv\\Lib\\site-packages\\torch\\nn\\modules\\module.py:1541\u001b[0m, in \u001b[0;36mModule._call_impl\u001b[1;34m(self, *args, **kwargs)\u001b[0m\n\u001b[0;32m   1536\u001b[0m \u001b[38;5;66;03m# If we don't have any hooks, we want to skip the rest of the logic in\u001b[39;00m\n\u001b[0;32m   1537\u001b[0m \u001b[38;5;66;03m# this function, and just call forward.\u001b[39;00m\n\u001b[0;32m   1538\u001b[0m \u001b[38;5;28;01mif\u001b[39;00m \u001b[38;5;129;01mnot\u001b[39;00m (\u001b[38;5;28mself\u001b[39m\u001b[38;5;241m.\u001b[39m_backward_hooks \u001b[38;5;129;01mor\u001b[39;00m \u001b[38;5;28mself\u001b[39m\u001b[38;5;241m.\u001b[39m_backward_pre_hooks \u001b[38;5;129;01mor\u001b[39;00m \u001b[38;5;28mself\u001b[39m\u001b[38;5;241m.\u001b[39m_forward_hooks \u001b[38;5;129;01mor\u001b[39;00m \u001b[38;5;28mself\u001b[39m\u001b[38;5;241m.\u001b[39m_forward_pre_hooks\n\u001b[0;32m   1539\u001b[0m         \u001b[38;5;129;01mor\u001b[39;00m _global_backward_pre_hooks \u001b[38;5;129;01mor\u001b[39;00m _global_backward_hooks\n\u001b[0;32m   1540\u001b[0m         \u001b[38;5;129;01mor\u001b[39;00m _global_forward_hooks \u001b[38;5;129;01mor\u001b[39;00m _global_forward_pre_hooks):\n\u001b[1;32m-> 1541\u001b[0m     \u001b[38;5;28;01mreturn\u001b[39;00m \u001b[43mforward_call\u001b[49m\u001b[43m(\u001b[49m\u001b[38;5;241;43m*\u001b[39;49m\u001b[43margs\u001b[49m\u001b[43m,\u001b[49m\u001b[43m \u001b[49m\u001b[38;5;241;43m*\u001b[39;49m\u001b[38;5;241;43m*\u001b[39;49m\u001b[43mkwargs\u001b[49m\u001b[43m)\u001b[49m\n\u001b[0;32m   1543\u001b[0m \u001b[38;5;28;01mtry\u001b[39;00m:\n\u001b[0;32m   1544\u001b[0m     result \u001b[38;5;241m=\u001b[39m \u001b[38;5;28;01mNone\u001b[39;00m\n",
      "Cell \u001b[1;32mIn[88], line 12\u001b[0m, in \u001b[0;36mBERTClassifier.forward\u001b[1;34m(self, input_ids, attention_mask)\u001b[0m\n\u001b[0;32m     11\u001b[0m \u001b[38;5;28;01mdef\u001b[39;00m \u001b[38;5;21mforward\u001b[39m(\u001b[38;5;28mself\u001b[39m, input_ids, attention_mask):\n\u001b[1;32m---> 12\u001b[0m     outputs \u001b[38;5;241m=\u001b[39m \u001b[38;5;28;43mself\u001b[39;49m\u001b[38;5;241;43m.\u001b[39;49m\u001b[43mbert\u001b[49m\u001b[43m(\u001b[49m\u001b[43minput_ids\u001b[49m\u001b[38;5;241;43m=\u001b[39;49m\u001b[43minput_ids\u001b[49m\u001b[43m,\u001b[49m\u001b[43m \u001b[49m\u001b[43mattention_mask\u001b[49m\u001b[38;5;241;43m=\u001b[39;49m\u001b[43mattention_mask\u001b[49m\u001b[43m)\u001b[49m\n\u001b[0;32m     13\u001b[0m     pooled_output \u001b[38;5;241m=\u001b[39m outputs\u001b[38;5;241m.\u001b[39mpooler_output\n\u001b[0;32m     14\u001b[0m     x \u001b[38;5;241m=\u001b[39m \u001b[38;5;28mself\u001b[39m\u001b[38;5;241m.\u001b[39mdropout(pooled_output)\n",
      "File \u001b[1;32m~\\kaggle\\digit_recognizer\\venv\\Lib\\site-packages\\torch\\nn\\modules\\module.py:1532\u001b[0m, in \u001b[0;36mModule._wrapped_call_impl\u001b[1;34m(self, *args, **kwargs)\u001b[0m\n\u001b[0;32m   1530\u001b[0m     \u001b[38;5;28;01mreturn\u001b[39;00m \u001b[38;5;28mself\u001b[39m\u001b[38;5;241m.\u001b[39m_compiled_call_impl(\u001b[38;5;241m*\u001b[39margs, \u001b[38;5;241m*\u001b[39m\u001b[38;5;241m*\u001b[39mkwargs)  \u001b[38;5;66;03m# type: ignore[misc]\u001b[39;00m\n\u001b[0;32m   1531\u001b[0m \u001b[38;5;28;01melse\u001b[39;00m:\n\u001b[1;32m-> 1532\u001b[0m     \u001b[38;5;28;01mreturn\u001b[39;00m \u001b[38;5;28;43mself\u001b[39;49m\u001b[38;5;241;43m.\u001b[39;49m\u001b[43m_call_impl\u001b[49m\u001b[43m(\u001b[49m\u001b[38;5;241;43m*\u001b[39;49m\u001b[43margs\u001b[49m\u001b[43m,\u001b[49m\u001b[43m \u001b[49m\u001b[38;5;241;43m*\u001b[39;49m\u001b[38;5;241;43m*\u001b[39;49m\u001b[43mkwargs\u001b[49m\u001b[43m)\u001b[49m\n",
      "File \u001b[1;32m~\\kaggle\\digit_recognizer\\venv\\Lib\\site-packages\\torch\\nn\\modules\\module.py:1541\u001b[0m, in \u001b[0;36mModule._call_impl\u001b[1;34m(self, *args, **kwargs)\u001b[0m\n\u001b[0;32m   1536\u001b[0m \u001b[38;5;66;03m# If we don't have any hooks, we want to skip the rest of the logic in\u001b[39;00m\n\u001b[0;32m   1537\u001b[0m \u001b[38;5;66;03m# this function, and just call forward.\u001b[39;00m\n\u001b[0;32m   1538\u001b[0m \u001b[38;5;28;01mif\u001b[39;00m \u001b[38;5;129;01mnot\u001b[39;00m (\u001b[38;5;28mself\u001b[39m\u001b[38;5;241m.\u001b[39m_backward_hooks \u001b[38;5;129;01mor\u001b[39;00m \u001b[38;5;28mself\u001b[39m\u001b[38;5;241m.\u001b[39m_backward_pre_hooks \u001b[38;5;129;01mor\u001b[39;00m \u001b[38;5;28mself\u001b[39m\u001b[38;5;241m.\u001b[39m_forward_hooks \u001b[38;5;129;01mor\u001b[39;00m \u001b[38;5;28mself\u001b[39m\u001b[38;5;241m.\u001b[39m_forward_pre_hooks\n\u001b[0;32m   1539\u001b[0m         \u001b[38;5;129;01mor\u001b[39;00m _global_backward_pre_hooks \u001b[38;5;129;01mor\u001b[39;00m _global_backward_hooks\n\u001b[0;32m   1540\u001b[0m         \u001b[38;5;129;01mor\u001b[39;00m _global_forward_hooks \u001b[38;5;129;01mor\u001b[39;00m _global_forward_pre_hooks):\n\u001b[1;32m-> 1541\u001b[0m     \u001b[38;5;28;01mreturn\u001b[39;00m \u001b[43mforward_call\u001b[49m\u001b[43m(\u001b[49m\u001b[38;5;241;43m*\u001b[39;49m\u001b[43margs\u001b[49m\u001b[43m,\u001b[49m\u001b[43m \u001b[49m\u001b[38;5;241;43m*\u001b[39;49m\u001b[38;5;241;43m*\u001b[39;49m\u001b[43mkwargs\u001b[49m\u001b[43m)\u001b[49m\n\u001b[0;32m   1543\u001b[0m \u001b[38;5;28;01mtry\u001b[39;00m:\n\u001b[0;32m   1544\u001b[0m     result \u001b[38;5;241m=\u001b[39m \u001b[38;5;28;01mNone\u001b[39;00m\n",
      "File \u001b[1;32m~\\kaggle\\digit_recognizer\\venv\\Lib\\site-packages\\transformers\\models\\bert\\modeling_bert.py:988\u001b[0m, in \u001b[0;36mBertModel.forward\u001b[1;34m(self, input_ids, attention_mask, token_type_ids, position_ids, head_mask, inputs_embeds, encoder_hidden_states, encoder_attention_mask, past_key_values, use_cache, output_attentions, output_hidden_states, return_dict)\u001b[0m\n\u001b[0;32m    979\u001b[0m head_mask \u001b[38;5;241m=\u001b[39m \u001b[38;5;28mself\u001b[39m\u001b[38;5;241m.\u001b[39mget_head_mask(head_mask, \u001b[38;5;28mself\u001b[39m\u001b[38;5;241m.\u001b[39mconfig\u001b[38;5;241m.\u001b[39mnum_hidden_layers)\n\u001b[0;32m    981\u001b[0m embedding_output \u001b[38;5;241m=\u001b[39m \u001b[38;5;28mself\u001b[39m\u001b[38;5;241m.\u001b[39membeddings(\n\u001b[0;32m    982\u001b[0m     input_ids\u001b[38;5;241m=\u001b[39minput_ids,\n\u001b[0;32m    983\u001b[0m     position_ids\u001b[38;5;241m=\u001b[39mposition_ids,\n\u001b[1;32m   (...)\u001b[0m\n\u001b[0;32m    986\u001b[0m     past_key_values_length\u001b[38;5;241m=\u001b[39mpast_key_values_length,\n\u001b[0;32m    987\u001b[0m )\n\u001b[1;32m--> 988\u001b[0m encoder_outputs \u001b[38;5;241m=\u001b[39m \u001b[38;5;28;43mself\u001b[39;49m\u001b[38;5;241;43m.\u001b[39;49m\u001b[43mencoder\u001b[49m\u001b[43m(\u001b[49m\n\u001b[0;32m    989\u001b[0m \u001b[43m    \u001b[49m\u001b[43membedding_output\u001b[49m\u001b[43m,\u001b[49m\n\u001b[0;32m    990\u001b[0m \u001b[43m    \u001b[49m\u001b[43mattention_mask\u001b[49m\u001b[38;5;241;43m=\u001b[39;49m\u001b[43mextended_attention_mask\u001b[49m\u001b[43m,\u001b[49m\n\u001b[0;32m    991\u001b[0m \u001b[43m    \u001b[49m\u001b[43mhead_mask\u001b[49m\u001b[38;5;241;43m=\u001b[39;49m\u001b[43mhead_mask\u001b[49m\u001b[43m,\u001b[49m\n\u001b[0;32m    992\u001b[0m \u001b[43m    \u001b[49m\u001b[43mencoder_hidden_states\u001b[49m\u001b[38;5;241;43m=\u001b[39;49m\u001b[43mencoder_hidden_states\u001b[49m\u001b[43m,\u001b[49m\n\u001b[0;32m    993\u001b[0m \u001b[43m    \u001b[49m\u001b[43mencoder_attention_mask\u001b[49m\u001b[38;5;241;43m=\u001b[39;49m\u001b[43mencoder_extended_attention_mask\u001b[49m\u001b[43m,\u001b[49m\n\u001b[0;32m    994\u001b[0m \u001b[43m    \u001b[49m\u001b[43mpast_key_values\u001b[49m\u001b[38;5;241;43m=\u001b[39;49m\u001b[43mpast_key_values\u001b[49m\u001b[43m,\u001b[49m\n\u001b[0;32m    995\u001b[0m \u001b[43m    \u001b[49m\u001b[43muse_cache\u001b[49m\u001b[38;5;241;43m=\u001b[39;49m\u001b[43muse_cache\u001b[49m\u001b[43m,\u001b[49m\n\u001b[0;32m    996\u001b[0m \u001b[43m    \u001b[49m\u001b[43moutput_attentions\u001b[49m\u001b[38;5;241;43m=\u001b[39;49m\u001b[43moutput_attentions\u001b[49m\u001b[43m,\u001b[49m\n\u001b[0;32m    997\u001b[0m \u001b[43m    \u001b[49m\u001b[43moutput_hidden_states\u001b[49m\u001b[38;5;241;43m=\u001b[39;49m\u001b[43moutput_hidden_states\u001b[49m\u001b[43m,\u001b[49m\n\u001b[0;32m    998\u001b[0m \u001b[43m    \u001b[49m\u001b[43mreturn_dict\u001b[49m\u001b[38;5;241;43m=\u001b[39;49m\u001b[43mreturn_dict\u001b[49m\u001b[43m,\u001b[49m\n\u001b[0;32m    999\u001b[0m \u001b[43m\u001b[49m\u001b[43m)\u001b[49m\n\u001b[0;32m   1000\u001b[0m sequence_output \u001b[38;5;241m=\u001b[39m encoder_outputs[\u001b[38;5;241m0\u001b[39m]\n\u001b[0;32m   1001\u001b[0m pooled_output \u001b[38;5;241m=\u001b[39m \u001b[38;5;28mself\u001b[39m\u001b[38;5;241m.\u001b[39mpooler(sequence_output) \u001b[38;5;28;01mif\u001b[39;00m \u001b[38;5;28mself\u001b[39m\u001b[38;5;241m.\u001b[39mpooler \u001b[38;5;129;01mis\u001b[39;00m \u001b[38;5;129;01mnot\u001b[39;00m \u001b[38;5;28;01mNone\u001b[39;00m \u001b[38;5;28;01melse\u001b[39;00m \u001b[38;5;28;01mNone\u001b[39;00m\n",
      "File \u001b[1;32m~\\kaggle\\digit_recognizer\\venv\\Lib\\site-packages\\torch\\nn\\modules\\module.py:1532\u001b[0m, in \u001b[0;36mModule._wrapped_call_impl\u001b[1;34m(self, *args, **kwargs)\u001b[0m\n\u001b[0;32m   1530\u001b[0m     \u001b[38;5;28;01mreturn\u001b[39;00m \u001b[38;5;28mself\u001b[39m\u001b[38;5;241m.\u001b[39m_compiled_call_impl(\u001b[38;5;241m*\u001b[39margs, \u001b[38;5;241m*\u001b[39m\u001b[38;5;241m*\u001b[39mkwargs)  \u001b[38;5;66;03m# type: ignore[misc]\u001b[39;00m\n\u001b[0;32m   1531\u001b[0m \u001b[38;5;28;01melse\u001b[39;00m:\n\u001b[1;32m-> 1532\u001b[0m     \u001b[38;5;28;01mreturn\u001b[39;00m \u001b[38;5;28;43mself\u001b[39;49m\u001b[38;5;241;43m.\u001b[39;49m\u001b[43m_call_impl\u001b[49m\u001b[43m(\u001b[49m\u001b[38;5;241;43m*\u001b[39;49m\u001b[43margs\u001b[49m\u001b[43m,\u001b[49m\u001b[43m \u001b[49m\u001b[38;5;241;43m*\u001b[39;49m\u001b[38;5;241;43m*\u001b[39;49m\u001b[43mkwargs\u001b[49m\u001b[43m)\u001b[49m\n",
      "File \u001b[1;32m~\\kaggle\\digit_recognizer\\venv\\Lib\\site-packages\\torch\\nn\\modules\\module.py:1541\u001b[0m, in \u001b[0;36mModule._call_impl\u001b[1;34m(self, *args, **kwargs)\u001b[0m\n\u001b[0;32m   1536\u001b[0m \u001b[38;5;66;03m# If we don't have any hooks, we want to skip the rest of the logic in\u001b[39;00m\n\u001b[0;32m   1537\u001b[0m \u001b[38;5;66;03m# this function, and just call forward.\u001b[39;00m\n\u001b[0;32m   1538\u001b[0m \u001b[38;5;28;01mif\u001b[39;00m \u001b[38;5;129;01mnot\u001b[39;00m (\u001b[38;5;28mself\u001b[39m\u001b[38;5;241m.\u001b[39m_backward_hooks \u001b[38;5;129;01mor\u001b[39;00m \u001b[38;5;28mself\u001b[39m\u001b[38;5;241m.\u001b[39m_backward_pre_hooks \u001b[38;5;129;01mor\u001b[39;00m \u001b[38;5;28mself\u001b[39m\u001b[38;5;241m.\u001b[39m_forward_hooks \u001b[38;5;129;01mor\u001b[39;00m \u001b[38;5;28mself\u001b[39m\u001b[38;5;241m.\u001b[39m_forward_pre_hooks\n\u001b[0;32m   1539\u001b[0m         \u001b[38;5;129;01mor\u001b[39;00m _global_backward_pre_hooks \u001b[38;5;129;01mor\u001b[39;00m _global_backward_hooks\n\u001b[0;32m   1540\u001b[0m         \u001b[38;5;129;01mor\u001b[39;00m _global_forward_hooks \u001b[38;5;129;01mor\u001b[39;00m _global_forward_pre_hooks):\n\u001b[1;32m-> 1541\u001b[0m     \u001b[38;5;28;01mreturn\u001b[39;00m \u001b[43mforward_call\u001b[49m\u001b[43m(\u001b[49m\u001b[38;5;241;43m*\u001b[39;49m\u001b[43margs\u001b[49m\u001b[43m,\u001b[49m\u001b[43m \u001b[49m\u001b[38;5;241;43m*\u001b[39;49m\u001b[38;5;241;43m*\u001b[39;49m\u001b[43mkwargs\u001b[49m\u001b[43m)\u001b[49m\n\u001b[0;32m   1543\u001b[0m \u001b[38;5;28;01mtry\u001b[39;00m:\n\u001b[0;32m   1544\u001b[0m     result \u001b[38;5;241m=\u001b[39m \u001b[38;5;28;01mNone\u001b[39;00m\n",
      "File \u001b[1;32m~\\kaggle\\digit_recognizer\\venv\\Lib\\site-packages\\transformers\\models\\bert\\modeling_bert.py:582\u001b[0m, in \u001b[0;36mBertEncoder.forward\u001b[1;34m(self, hidden_states, attention_mask, head_mask, encoder_hidden_states, encoder_attention_mask, past_key_values, use_cache, output_attentions, output_hidden_states, return_dict)\u001b[0m\n\u001b[0;32m    571\u001b[0m     layer_outputs \u001b[38;5;241m=\u001b[39m \u001b[38;5;28mself\u001b[39m\u001b[38;5;241m.\u001b[39m_gradient_checkpointing_func(\n\u001b[0;32m    572\u001b[0m         layer_module\u001b[38;5;241m.\u001b[39m\u001b[38;5;21m__call__\u001b[39m,\n\u001b[0;32m    573\u001b[0m         hidden_states,\n\u001b[1;32m   (...)\u001b[0m\n\u001b[0;32m    579\u001b[0m         output_attentions,\n\u001b[0;32m    580\u001b[0m     )\n\u001b[0;32m    581\u001b[0m \u001b[38;5;28;01melse\u001b[39;00m:\n\u001b[1;32m--> 582\u001b[0m     layer_outputs \u001b[38;5;241m=\u001b[39m \u001b[43mlayer_module\u001b[49m\u001b[43m(\u001b[49m\n\u001b[0;32m    583\u001b[0m \u001b[43m        \u001b[49m\u001b[43mhidden_states\u001b[49m\u001b[43m,\u001b[49m\n\u001b[0;32m    584\u001b[0m \u001b[43m        \u001b[49m\u001b[43mattention_mask\u001b[49m\u001b[43m,\u001b[49m\n\u001b[0;32m    585\u001b[0m \u001b[43m        \u001b[49m\u001b[43mlayer_head_mask\u001b[49m\u001b[43m,\u001b[49m\n\u001b[0;32m    586\u001b[0m \u001b[43m        \u001b[49m\u001b[43mencoder_hidden_states\u001b[49m\u001b[43m,\u001b[49m\n\u001b[0;32m    587\u001b[0m \u001b[43m        \u001b[49m\u001b[43mencoder_attention_mask\u001b[49m\u001b[43m,\u001b[49m\n\u001b[0;32m    588\u001b[0m \u001b[43m        \u001b[49m\u001b[43mpast_key_value\u001b[49m\u001b[43m,\u001b[49m\n\u001b[0;32m    589\u001b[0m \u001b[43m        \u001b[49m\u001b[43moutput_attentions\u001b[49m\u001b[43m,\u001b[49m\n\u001b[0;32m    590\u001b[0m \u001b[43m    \u001b[49m\u001b[43m)\u001b[49m\n\u001b[0;32m    592\u001b[0m hidden_states \u001b[38;5;241m=\u001b[39m layer_outputs[\u001b[38;5;241m0\u001b[39m]\n\u001b[0;32m    593\u001b[0m \u001b[38;5;28;01mif\u001b[39;00m use_cache:\n",
      "File \u001b[1;32m~\\kaggle\\digit_recognizer\\venv\\Lib\\site-packages\\torch\\nn\\modules\\module.py:1532\u001b[0m, in \u001b[0;36mModule._wrapped_call_impl\u001b[1;34m(self, *args, **kwargs)\u001b[0m\n\u001b[0;32m   1530\u001b[0m     \u001b[38;5;28;01mreturn\u001b[39;00m \u001b[38;5;28mself\u001b[39m\u001b[38;5;241m.\u001b[39m_compiled_call_impl(\u001b[38;5;241m*\u001b[39margs, \u001b[38;5;241m*\u001b[39m\u001b[38;5;241m*\u001b[39mkwargs)  \u001b[38;5;66;03m# type: ignore[misc]\u001b[39;00m\n\u001b[0;32m   1531\u001b[0m \u001b[38;5;28;01melse\u001b[39;00m:\n\u001b[1;32m-> 1532\u001b[0m     \u001b[38;5;28;01mreturn\u001b[39;00m \u001b[38;5;28;43mself\u001b[39;49m\u001b[38;5;241;43m.\u001b[39;49m\u001b[43m_call_impl\u001b[49m\u001b[43m(\u001b[49m\u001b[38;5;241;43m*\u001b[39;49m\u001b[43margs\u001b[49m\u001b[43m,\u001b[49m\u001b[43m \u001b[49m\u001b[38;5;241;43m*\u001b[39;49m\u001b[38;5;241;43m*\u001b[39;49m\u001b[43mkwargs\u001b[49m\u001b[43m)\u001b[49m\n",
      "File \u001b[1;32m~\\kaggle\\digit_recognizer\\venv\\Lib\\site-packages\\torch\\nn\\modules\\module.py:1541\u001b[0m, in \u001b[0;36mModule._call_impl\u001b[1;34m(self, *args, **kwargs)\u001b[0m\n\u001b[0;32m   1536\u001b[0m \u001b[38;5;66;03m# If we don't have any hooks, we want to skip the rest of the logic in\u001b[39;00m\n\u001b[0;32m   1537\u001b[0m \u001b[38;5;66;03m# this function, and just call forward.\u001b[39;00m\n\u001b[0;32m   1538\u001b[0m \u001b[38;5;28;01mif\u001b[39;00m \u001b[38;5;129;01mnot\u001b[39;00m (\u001b[38;5;28mself\u001b[39m\u001b[38;5;241m.\u001b[39m_backward_hooks \u001b[38;5;129;01mor\u001b[39;00m \u001b[38;5;28mself\u001b[39m\u001b[38;5;241m.\u001b[39m_backward_pre_hooks \u001b[38;5;129;01mor\u001b[39;00m \u001b[38;5;28mself\u001b[39m\u001b[38;5;241m.\u001b[39m_forward_hooks \u001b[38;5;129;01mor\u001b[39;00m \u001b[38;5;28mself\u001b[39m\u001b[38;5;241m.\u001b[39m_forward_pre_hooks\n\u001b[0;32m   1539\u001b[0m         \u001b[38;5;129;01mor\u001b[39;00m _global_backward_pre_hooks \u001b[38;5;129;01mor\u001b[39;00m _global_backward_hooks\n\u001b[0;32m   1540\u001b[0m         \u001b[38;5;129;01mor\u001b[39;00m _global_forward_hooks \u001b[38;5;129;01mor\u001b[39;00m _global_forward_pre_hooks):\n\u001b[1;32m-> 1541\u001b[0m     \u001b[38;5;28;01mreturn\u001b[39;00m \u001b[43mforward_call\u001b[49m\u001b[43m(\u001b[49m\u001b[38;5;241;43m*\u001b[39;49m\u001b[43margs\u001b[49m\u001b[43m,\u001b[49m\u001b[43m \u001b[49m\u001b[38;5;241;43m*\u001b[39;49m\u001b[38;5;241;43m*\u001b[39;49m\u001b[43mkwargs\u001b[49m\u001b[43m)\u001b[49m\n\u001b[0;32m   1543\u001b[0m \u001b[38;5;28;01mtry\u001b[39;00m:\n\u001b[0;32m   1544\u001b[0m     result \u001b[38;5;241m=\u001b[39m \u001b[38;5;28;01mNone\u001b[39;00m\n",
      "File \u001b[1;32m~\\kaggle\\digit_recognizer\\venv\\Lib\\site-packages\\transformers\\models\\bert\\modeling_bert.py:472\u001b[0m, in \u001b[0;36mBertLayer.forward\u001b[1;34m(self, hidden_states, attention_mask, head_mask, encoder_hidden_states, encoder_attention_mask, past_key_value, output_attentions)\u001b[0m\n\u001b[0;32m    460\u001b[0m \u001b[38;5;28;01mdef\u001b[39;00m \u001b[38;5;21mforward\u001b[39m(\n\u001b[0;32m    461\u001b[0m     \u001b[38;5;28mself\u001b[39m,\n\u001b[0;32m    462\u001b[0m     hidden_states: torch\u001b[38;5;241m.\u001b[39mTensor,\n\u001b[1;32m   (...)\u001b[0m\n\u001b[0;32m    469\u001b[0m ) \u001b[38;5;241m-\u001b[39m\u001b[38;5;241m>\u001b[39m Tuple[torch\u001b[38;5;241m.\u001b[39mTensor]:\n\u001b[0;32m    470\u001b[0m     \u001b[38;5;66;03m# decoder uni-directional self-attention cached key/values tuple is at positions 1,2\u001b[39;00m\n\u001b[0;32m    471\u001b[0m     self_attn_past_key_value \u001b[38;5;241m=\u001b[39m past_key_value[:\u001b[38;5;241m2\u001b[39m] \u001b[38;5;28;01mif\u001b[39;00m past_key_value \u001b[38;5;129;01mis\u001b[39;00m \u001b[38;5;129;01mnot\u001b[39;00m \u001b[38;5;28;01mNone\u001b[39;00m \u001b[38;5;28;01melse\u001b[39;00m \u001b[38;5;28;01mNone\u001b[39;00m\n\u001b[1;32m--> 472\u001b[0m     self_attention_outputs \u001b[38;5;241m=\u001b[39m \u001b[38;5;28;43mself\u001b[39;49m\u001b[38;5;241;43m.\u001b[39;49m\u001b[43mattention\u001b[49m\u001b[43m(\u001b[49m\n\u001b[0;32m    473\u001b[0m \u001b[43m        \u001b[49m\u001b[43mhidden_states\u001b[49m\u001b[43m,\u001b[49m\n\u001b[0;32m    474\u001b[0m \u001b[43m        \u001b[49m\u001b[43mattention_mask\u001b[49m\u001b[43m,\u001b[49m\n\u001b[0;32m    475\u001b[0m \u001b[43m        \u001b[49m\u001b[43mhead_mask\u001b[49m\u001b[43m,\u001b[49m\n\u001b[0;32m    476\u001b[0m \u001b[43m        \u001b[49m\u001b[43moutput_attentions\u001b[49m\u001b[38;5;241;43m=\u001b[39;49m\u001b[43moutput_attentions\u001b[49m\u001b[43m,\u001b[49m\n\u001b[0;32m    477\u001b[0m \u001b[43m        \u001b[49m\u001b[43mpast_key_value\u001b[49m\u001b[38;5;241;43m=\u001b[39;49m\u001b[43mself_attn_past_key_value\u001b[49m\u001b[43m,\u001b[49m\n\u001b[0;32m    478\u001b[0m \u001b[43m    \u001b[49m\u001b[43m)\u001b[49m\n\u001b[0;32m    479\u001b[0m     attention_output \u001b[38;5;241m=\u001b[39m self_attention_outputs[\u001b[38;5;241m0\u001b[39m]\n\u001b[0;32m    481\u001b[0m     \u001b[38;5;66;03m# if decoder, the last output is tuple of self-attn cache\u001b[39;00m\n",
      "File \u001b[1;32m~\\kaggle\\digit_recognizer\\venv\\Lib\\site-packages\\torch\\nn\\modules\\module.py:1532\u001b[0m, in \u001b[0;36mModule._wrapped_call_impl\u001b[1;34m(self, *args, **kwargs)\u001b[0m\n\u001b[0;32m   1530\u001b[0m     \u001b[38;5;28;01mreturn\u001b[39;00m \u001b[38;5;28mself\u001b[39m\u001b[38;5;241m.\u001b[39m_compiled_call_impl(\u001b[38;5;241m*\u001b[39margs, \u001b[38;5;241m*\u001b[39m\u001b[38;5;241m*\u001b[39mkwargs)  \u001b[38;5;66;03m# type: ignore[misc]\u001b[39;00m\n\u001b[0;32m   1531\u001b[0m \u001b[38;5;28;01melse\u001b[39;00m:\n\u001b[1;32m-> 1532\u001b[0m     \u001b[38;5;28;01mreturn\u001b[39;00m \u001b[38;5;28;43mself\u001b[39;49m\u001b[38;5;241;43m.\u001b[39;49m\u001b[43m_call_impl\u001b[49m\u001b[43m(\u001b[49m\u001b[38;5;241;43m*\u001b[39;49m\u001b[43margs\u001b[49m\u001b[43m,\u001b[49m\u001b[43m \u001b[49m\u001b[38;5;241;43m*\u001b[39;49m\u001b[38;5;241;43m*\u001b[39;49m\u001b[43mkwargs\u001b[49m\u001b[43m)\u001b[49m\n",
      "File \u001b[1;32m~\\kaggle\\digit_recognizer\\venv\\Lib\\site-packages\\torch\\nn\\modules\\module.py:1541\u001b[0m, in \u001b[0;36mModule._call_impl\u001b[1;34m(self, *args, **kwargs)\u001b[0m\n\u001b[0;32m   1536\u001b[0m \u001b[38;5;66;03m# If we don't have any hooks, we want to skip the rest of the logic in\u001b[39;00m\n\u001b[0;32m   1537\u001b[0m \u001b[38;5;66;03m# this function, and just call forward.\u001b[39;00m\n\u001b[0;32m   1538\u001b[0m \u001b[38;5;28;01mif\u001b[39;00m \u001b[38;5;129;01mnot\u001b[39;00m (\u001b[38;5;28mself\u001b[39m\u001b[38;5;241m.\u001b[39m_backward_hooks \u001b[38;5;129;01mor\u001b[39;00m \u001b[38;5;28mself\u001b[39m\u001b[38;5;241m.\u001b[39m_backward_pre_hooks \u001b[38;5;129;01mor\u001b[39;00m \u001b[38;5;28mself\u001b[39m\u001b[38;5;241m.\u001b[39m_forward_hooks \u001b[38;5;129;01mor\u001b[39;00m \u001b[38;5;28mself\u001b[39m\u001b[38;5;241m.\u001b[39m_forward_pre_hooks\n\u001b[0;32m   1539\u001b[0m         \u001b[38;5;129;01mor\u001b[39;00m _global_backward_pre_hooks \u001b[38;5;129;01mor\u001b[39;00m _global_backward_hooks\n\u001b[0;32m   1540\u001b[0m         \u001b[38;5;129;01mor\u001b[39;00m _global_forward_hooks \u001b[38;5;129;01mor\u001b[39;00m _global_forward_pre_hooks):\n\u001b[1;32m-> 1541\u001b[0m     \u001b[38;5;28;01mreturn\u001b[39;00m \u001b[43mforward_call\u001b[49m\u001b[43m(\u001b[49m\u001b[38;5;241;43m*\u001b[39;49m\u001b[43margs\u001b[49m\u001b[43m,\u001b[49m\u001b[43m \u001b[49m\u001b[38;5;241;43m*\u001b[39;49m\u001b[38;5;241;43m*\u001b[39;49m\u001b[43mkwargs\u001b[49m\u001b[43m)\u001b[49m\n\u001b[0;32m   1543\u001b[0m \u001b[38;5;28;01mtry\u001b[39;00m:\n\u001b[0;32m   1544\u001b[0m     result \u001b[38;5;241m=\u001b[39m \u001b[38;5;28;01mNone\u001b[39;00m\n",
      "File \u001b[1;32m~\\kaggle\\digit_recognizer\\venv\\Lib\\site-packages\\transformers\\models\\bert\\modeling_bert.py:402\u001b[0m, in \u001b[0;36mBertAttention.forward\u001b[1;34m(self, hidden_states, attention_mask, head_mask, encoder_hidden_states, encoder_attention_mask, past_key_value, output_attentions)\u001b[0m\n\u001b[0;32m    392\u001b[0m \u001b[38;5;28;01mdef\u001b[39;00m \u001b[38;5;21mforward\u001b[39m(\n\u001b[0;32m    393\u001b[0m     \u001b[38;5;28mself\u001b[39m,\n\u001b[0;32m    394\u001b[0m     hidden_states: torch\u001b[38;5;241m.\u001b[39mTensor,\n\u001b[1;32m   (...)\u001b[0m\n\u001b[0;32m    400\u001b[0m     output_attentions: Optional[\u001b[38;5;28mbool\u001b[39m] \u001b[38;5;241m=\u001b[39m \u001b[38;5;28;01mFalse\u001b[39;00m,\n\u001b[0;32m    401\u001b[0m ) \u001b[38;5;241m-\u001b[39m\u001b[38;5;241m>\u001b[39m Tuple[torch\u001b[38;5;241m.\u001b[39mTensor]:\n\u001b[1;32m--> 402\u001b[0m     self_outputs \u001b[38;5;241m=\u001b[39m \u001b[38;5;28;43mself\u001b[39;49m\u001b[38;5;241;43m.\u001b[39;49m\u001b[43mself\u001b[49m\u001b[43m(\u001b[49m\n\u001b[0;32m    403\u001b[0m \u001b[43m        \u001b[49m\u001b[43mhidden_states\u001b[49m\u001b[43m,\u001b[49m\n\u001b[0;32m    404\u001b[0m \u001b[43m        \u001b[49m\u001b[43mattention_mask\u001b[49m\u001b[43m,\u001b[49m\n\u001b[0;32m    405\u001b[0m \u001b[43m        \u001b[49m\u001b[43mhead_mask\u001b[49m\u001b[43m,\u001b[49m\n\u001b[0;32m    406\u001b[0m \u001b[43m        \u001b[49m\u001b[43mencoder_hidden_states\u001b[49m\u001b[43m,\u001b[49m\n\u001b[0;32m    407\u001b[0m \u001b[43m        \u001b[49m\u001b[43mencoder_attention_mask\u001b[49m\u001b[43m,\u001b[49m\n\u001b[0;32m    408\u001b[0m \u001b[43m        \u001b[49m\u001b[43mpast_key_value\u001b[49m\u001b[43m,\u001b[49m\n\u001b[0;32m    409\u001b[0m \u001b[43m        \u001b[49m\u001b[43moutput_attentions\u001b[49m\u001b[43m,\u001b[49m\n\u001b[0;32m    410\u001b[0m \u001b[43m    \u001b[49m\u001b[43m)\u001b[49m\n\u001b[0;32m    411\u001b[0m     attention_output \u001b[38;5;241m=\u001b[39m \u001b[38;5;28mself\u001b[39m\u001b[38;5;241m.\u001b[39moutput(self_outputs[\u001b[38;5;241m0\u001b[39m], hidden_states)\n\u001b[0;32m    412\u001b[0m     outputs \u001b[38;5;241m=\u001b[39m (attention_output,) \u001b[38;5;241m+\u001b[39m self_outputs[\u001b[38;5;241m1\u001b[39m:]  \u001b[38;5;66;03m# add attentions if we output them\u001b[39;00m\n",
      "File \u001b[1;32m~\\kaggle\\digit_recognizer\\venv\\Lib\\site-packages\\torch\\nn\\modules\\module.py:1532\u001b[0m, in \u001b[0;36mModule._wrapped_call_impl\u001b[1;34m(self, *args, **kwargs)\u001b[0m\n\u001b[0;32m   1530\u001b[0m     \u001b[38;5;28;01mreturn\u001b[39;00m \u001b[38;5;28mself\u001b[39m\u001b[38;5;241m.\u001b[39m_compiled_call_impl(\u001b[38;5;241m*\u001b[39margs, \u001b[38;5;241m*\u001b[39m\u001b[38;5;241m*\u001b[39mkwargs)  \u001b[38;5;66;03m# type: ignore[misc]\u001b[39;00m\n\u001b[0;32m   1531\u001b[0m \u001b[38;5;28;01melse\u001b[39;00m:\n\u001b[1;32m-> 1532\u001b[0m     \u001b[38;5;28;01mreturn\u001b[39;00m \u001b[38;5;28;43mself\u001b[39;49m\u001b[38;5;241;43m.\u001b[39;49m\u001b[43m_call_impl\u001b[49m\u001b[43m(\u001b[49m\u001b[38;5;241;43m*\u001b[39;49m\u001b[43margs\u001b[49m\u001b[43m,\u001b[49m\u001b[43m \u001b[49m\u001b[38;5;241;43m*\u001b[39;49m\u001b[38;5;241;43m*\u001b[39;49m\u001b[43mkwargs\u001b[49m\u001b[43m)\u001b[49m\n",
      "File \u001b[1;32m~\\kaggle\\digit_recognizer\\venv\\Lib\\site-packages\\torch\\nn\\modules\\module.py:1541\u001b[0m, in \u001b[0;36mModule._call_impl\u001b[1;34m(self, *args, **kwargs)\u001b[0m\n\u001b[0;32m   1536\u001b[0m \u001b[38;5;66;03m# If we don't have any hooks, we want to skip the rest of the logic in\u001b[39;00m\n\u001b[0;32m   1537\u001b[0m \u001b[38;5;66;03m# this function, and just call forward.\u001b[39;00m\n\u001b[0;32m   1538\u001b[0m \u001b[38;5;28;01mif\u001b[39;00m \u001b[38;5;129;01mnot\u001b[39;00m (\u001b[38;5;28mself\u001b[39m\u001b[38;5;241m.\u001b[39m_backward_hooks \u001b[38;5;129;01mor\u001b[39;00m \u001b[38;5;28mself\u001b[39m\u001b[38;5;241m.\u001b[39m_backward_pre_hooks \u001b[38;5;129;01mor\u001b[39;00m \u001b[38;5;28mself\u001b[39m\u001b[38;5;241m.\u001b[39m_forward_hooks \u001b[38;5;129;01mor\u001b[39;00m \u001b[38;5;28mself\u001b[39m\u001b[38;5;241m.\u001b[39m_forward_pre_hooks\n\u001b[0;32m   1539\u001b[0m         \u001b[38;5;129;01mor\u001b[39;00m _global_backward_pre_hooks \u001b[38;5;129;01mor\u001b[39;00m _global_backward_hooks\n\u001b[0;32m   1540\u001b[0m         \u001b[38;5;129;01mor\u001b[39;00m _global_forward_hooks \u001b[38;5;129;01mor\u001b[39;00m _global_forward_pre_hooks):\n\u001b[1;32m-> 1541\u001b[0m     \u001b[38;5;28;01mreturn\u001b[39;00m \u001b[43mforward_call\u001b[49m\u001b[43m(\u001b[49m\u001b[38;5;241;43m*\u001b[39;49m\u001b[43margs\u001b[49m\u001b[43m,\u001b[49m\u001b[43m \u001b[49m\u001b[38;5;241;43m*\u001b[39;49m\u001b[38;5;241;43m*\u001b[39;49m\u001b[43mkwargs\u001b[49m\u001b[43m)\u001b[49m\n\u001b[0;32m   1543\u001b[0m \u001b[38;5;28;01mtry\u001b[39;00m:\n\u001b[0;32m   1544\u001b[0m     result \u001b[38;5;241m=\u001b[39m \u001b[38;5;28;01mNone\u001b[39;00m\n",
      "File \u001b[1;32m~\\kaggle\\digit_recognizer\\venv\\Lib\\site-packages\\transformers\\models\\bert\\modeling_bert.py:340\u001b[0m, in \u001b[0;36mBertSelfAttention.forward\u001b[1;34m(self, hidden_states, attention_mask, head_mask, encoder_hidden_states, encoder_attention_mask, past_key_value, output_attentions)\u001b[0m\n\u001b[0;32m    337\u001b[0m \u001b[38;5;28;01mif\u001b[39;00m head_mask \u001b[38;5;129;01mis\u001b[39;00m \u001b[38;5;129;01mnot\u001b[39;00m \u001b[38;5;28;01mNone\u001b[39;00m:\n\u001b[0;32m    338\u001b[0m     attention_probs \u001b[38;5;241m=\u001b[39m attention_probs \u001b[38;5;241m*\u001b[39m head_mask\n\u001b[1;32m--> 340\u001b[0m context_layer \u001b[38;5;241m=\u001b[39m \u001b[43mtorch\u001b[49m\u001b[38;5;241;43m.\u001b[39;49m\u001b[43mmatmul\u001b[49m\u001b[43m(\u001b[49m\u001b[43mattention_probs\u001b[49m\u001b[43m,\u001b[49m\u001b[43m \u001b[49m\u001b[43mvalue_layer\u001b[49m\u001b[43m)\u001b[49m\n\u001b[0;32m    342\u001b[0m context_layer \u001b[38;5;241m=\u001b[39m context_layer\u001b[38;5;241m.\u001b[39mpermute(\u001b[38;5;241m0\u001b[39m, \u001b[38;5;241m2\u001b[39m, \u001b[38;5;241m1\u001b[39m, \u001b[38;5;241m3\u001b[39m)\u001b[38;5;241m.\u001b[39mcontiguous()\n\u001b[0;32m    343\u001b[0m new_context_layer_shape \u001b[38;5;241m=\u001b[39m context_layer\u001b[38;5;241m.\u001b[39msize()[:\u001b[38;5;241m-\u001b[39m\u001b[38;5;241m2\u001b[39m] \u001b[38;5;241m+\u001b[39m (\u001b[38;5;28mself\u001b[39m\u001b[38;5;241m.\u001b[39mall_head_size,)\n",
      "\u001b[1;31mKeyboardInterrupt\u001b[0m: "
     ]
    }
   ],
   "source": [
    "for epoch in range(num_epochs):\n",
    "    running_loss = 0.0\n",
    "    model.fc.train()  # Только для вашего слоя fc\n",
    "    for batch in train_dataloader:\n",
    "        input_ids = batch['input_ids'].to(device)\n",
    "        attention_mask = batch['attention_mask'].to(device)\n",
    "        labels = batch['label'].to(device)\n",
    "        optimizer.zero_grad()\n",
    "        outputs = model(input_ids, attention_mask)\n",
    "        loss = criterion(outputs, labels)\n",
    "        loss.backward()\n",
    "        optimizer.step()\n",
    "        running_loss += loss.item() * input_ids.size(0)\n",
    "    \n",
    "    # Оценка модели на валидационном наборе данных\n",
    "    val_labels, val_preds = evaluate(model, val_dataloader)\n",
    "    val_roc_auc = roc_auc_score(val_labels, val_preds)\n",
    "    \n",
    "    # Выводим результаты на каждой эпохе\n",
    "    print(f'Epoch {epoch + 1}/{num_epochs}, Loss: {running_loss / len(train_dataset)}, Val ROC AUC: {val_roc_auc}')"
   ]
  }
 ],
 "metadata": {
  "kernelspec": {
   "display_name": "myenv",
   "language": "python",
   "name": "myenv"
  },
  "language_info": {
   "codemirror_mode": {
    "name": "ipython",
    "version": 3
   },
   "file_extension": ".py",
   "mimetype": "text/x-python",
   "name": "python",
   "nbconvert_exporter": "python",
   "pygments_lexer": "ipython3",
   "version": "3.11.4"
  }
 },
 "nbformat": 4,
 "nbformat_minor": 5
}
